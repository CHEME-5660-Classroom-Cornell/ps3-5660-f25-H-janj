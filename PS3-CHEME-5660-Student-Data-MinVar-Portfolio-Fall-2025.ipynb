{
 "cells": [
  {
   "cell_type": "markdown",
   "id": "cd066d5c-7d17-4ad9-a2c0-72a932169b27",
   "metadata": {},
   "source": [
    "# PS3: Data-Driven Minimum-Variance Portfolio Allocation for Risky Assets\n",
    "In this problem set, we'll compute the [Efficient Frontier](https://en.wikipedia.org/wiki/Efficient_frontier) for a portfolio of risky assets, where the expected return and the covariance of the returns are calculated from a historical dataset. You will then simulate the performance of the minimum-variance portfolio on out-of-sample data.\n",
    "\n",
    "> __Learning Objectives:__\n",
    "> \n",
    "> By the end of this example, you will be able to:\n",
    "> \n",
    "> * **Compute empirical portfolio statistics from historical data and formulate Markowitz optimization problems.** Extract expected returns and covariance matrices from market data, then set up constrained quadratic optimization problems that minimize portfolio risk for given return targets using the classical mean-variance framework to find optimal asset allocations.\n",
    "> * **Generate and analyze efficient frontier curves for risky asset portfolios.** Systematically compute optimal portfolios across different risk-return combinations and visualize the resulting efficient frontier to understand the trade-offs between expected return and portfolio volatility in the context of diversification benefits.\n",
    "> * **Simulate portfolio performance using multi-asset stochastic models.** Implement geometric Brownian motion simulations to generate sample price trajectories for multiple correlated assets, enabling out-of-sample testing of minimum-variance portfolios against market benchmarks and evaluation of strategy robustness under uncertainty.\n",
    "\n",
    "Let's get started!\n",
    "___"
   ]
  },
  {
   "cell_type": "markdown",
   "id": "c420ed7a-dc00-4183-bdf8-474874e6aa29",
   "metadata": {},
   "source": [
    "## Setup, Data, and Prerequisites\n",
    "First, we set up the computational environment by including the `Include.jl` file and loading any needed resources.\n",
    "\n",
    ">__Include:__ The [`include(...)` command](https://docs.julialang.org/en/v1/base/base/#include) evaluates the contents of the input source file, `Include.jl`, in the notebook's global scope. The `Include.jl` file sets paths, loads required external packages, etc. For additional information on functions and types used in this material, see the [Julia programming language documentation](https://docs.julialang.org/en/v1/). \n",
    "\n",
    "Let's set up our code environment:"
   ]
  },
  {
   "cell_type": "code",
   "execution_count": 146,
   "id": "0dc21749-1f11-4f3d-9821-786449e5a1de",
   "metadata": {
    "tags": []
   },
   "outputs": [],
   "source": [
    "include(joinpath(@__DIR__, \"Include.jl\")); # include the Include.jl file"
   ]
  },
  {
   "cell_type": "markdown",
   "id": "3fad59f4",
   "metadata": {},
   "source": [
    "For additional information on functions and types used in this material, see the [Julia programming language documentation](https://docs.julialang.org/en/v1/) and the [VLQuantitativeFinancePackage.jl documentation](https://github.com/varnerlab/VLQuantitativeFinancePackage.jl). "
   ]
  },
  {
   "cell_type": "markdown",
   "id": "df06e8f9-0a6d-440e-bd76-05e4129882ef",
   "metadata": {},
   "source": [
    "### Data\n",
    "We gathered daily open-high-low-close (OHLC) data for each firm in the [S&P 500](https://en.wikipedia.org/wiki/S%26P_500) from `01-03-2025` until `09-26-2025`, along with data for several exchange-traded funds and volatility products during that time period.\n",
    "\n",
    "Let's load the `original_dataset::DataFrame` by calling [the `MyTestingMarketDataSet()` function](https://varnerlab.github.io/VLQuantitativeFinancePackage.jl/dev/data/#VLQuantitativeFinancePackage.MyTestingMarketDataSet)."
   ]
  },
  {
   "cell_type": "code",
   "execution_count": 147,
   "id": "274c86dc-1d5d-4adf-be13-86a113bbda7a",
   "metadata": {
    "tags": []
   },
   "outputs": [
    {
     "data": {
      "text/plain": [
       "Dict{String, DataFrame} with 482 entries:\n",
       "  \"NI\"   => \u001b[1m182×8 DataFrame\u001b[0m\u001b[0m…\n",
       "  \"EMR\"  => \u001b[1m182×8 DataFrame\u001b[0m\u001b[0m…\n",
       "  \"CTAS\" => \u001b[1m182×8 DataFrame\u001b[0m\u001b[0m…\n",
       "  \"HSIC\" => \u001b[1m182×8 DataFrame\u001b[0m\u001b[0m…\n",
       "  \"KIM\"  => \u001b[1m182×8 DataFrame\u001b[0m\u001b[0m…\n",
       "  \"PLD\"  => \u001b[1m182×8 DataFrame\u001b[0m\u001b[0m…\n",
       "  \"IEX\"  => \u001b[1m182×8 DataFrame\u001b[0m\u001b[0m…\n",
       "  \"BAC\"  => \u001b[1m182×8 DataFrame\u001b[0m\u001b[0m…\n",
       "  \"CBOE\" => \u001b[1m182×8 DataFrame\u001b[0m\u001b[0m…\n",
       "  \"EXR\"  => \u001b[1m182×8 DataFrame\u001b[0m\u001b[0m…\n",
       "  \"NCLH\" => \u001b[1m182×8 DataFrame\u001b[0m\u001b[0m…\n",
       "  \"CVS\"  => \u001b[1m182×8 DataFrame\u001b[0m\u001b[0m…\n",
       "  \"DRI\"  => \u001b[1m182×8 DataFrame\u001b[0m\u001b[0m…\n",
       "  \"DTE\"  => \u001b[1m182×8 DataFrame\u001b[0m\u001b[0m…\n",
       "  \"ZION\" => \u001b[1m182×8 DataFrame\u001b[0m\u001b[0m…\n",
       "  \"AVY\"  => \u001b[1m182×8 DataFrame\u001b[0m\u001b[0m…\n",
       "  \"EW\"   => \u001b[1m182×8 DataFrame\u001b[0m\u001b[0m…\n",
       "  \"EA\"   => \u001b[1m182×8 DataFrame\u001b[0m\u001b[0m…\n",
       "  \"NWSA\" => \u001b[1m182×8 DataFrame\u001b[0m\u001b[0m…\n",
       "  ⋮      => ⋮"
      ]
     },
     "metadata": {},
     "output_type": "display_data"
    }
   ],
   "source": [
    "original_dataset = MyTestingMarketDataSet() |> x-> x[\"dataset\"] # load the original dataset (testing)"
   ]
  },
  {
   "cell_type": "markdown",
   "id": "1a5a5ff1-3df9-4adf-8f2d-4f96146208a1",
   "metadata": {},
   "source": [
    "Not all tickers in our dataset have the maximum number of trading days for various reasons, such as acquisition or delisting events. Let's collect only those tickers with the maximum number of trading days to ensure we have consistent, complete time series for reliable analysis.\n",
    "\n",
    "First, let's compute the number of records for a firm that we know has the maximum value, e.g., `AAPL`, and save that value in the `maximum_number_trading_days::Int64` variable:"
   ]
  },
  {
   "cell_type": "code",
   "execution_count": 148,
   "id": "be27b36f-a5b4-4ae7-a6ab-3749e1477bcd",
   "metadata": {
    "tags": []
   },
   "outputs": [],
   "source": [
    "maximum_number_trading_days = original_dataset[\"AAPL\"] |> nrow;"
   ]
  },
  {
   "cell_type": "markdown",
   "id": "e7a51cbf-e698-4807-9881-724bfbdad23d",
   "metadata": {},
   "source": [
    "Now, let's iterate through our data and collect only tickers with `maximum_number_trading_days` records. Save that data in the `dataset::Dict{String,DataFrame}` variable:"
   ]
  },
  {
   "cell_type": "code",
   "execution_count": 149,
   "id": "011a6c1a-fd8f-44a1-b292-5f171ad6d8c1",
   "metadata": {
    "tags": []
   },
   "outputs": [],
   "source": [
    "dataset = let\n",
    "\n",
    "    # initialize -\n",
    "    dataset = Dict{String, DataFrame}();\n",
    "\n",
    "    # iterate through the dictionary; we can't guarantee a particular order\n",
    "    for (ticker, data) ∈ original_dataset  # we get each (K, V) pair!\n",
    "        if (nrow(data) == maximum_number_trading_days) # check if ticker has maximum trading days\n",
    "            dataset[ticker] = data;\n",
    "        end\n",
    "    end\n",
    "    dataset; # return\n",
    "end;"
   ]
  },
  {
   "cell_type": "markdown",
   "id": "37e9ec27-1dad-4f65-9cb4-651d9cc5edbc",
   "metadata": {},
   "source": [
    "Next, let's get a list of the firms in our cleaned dataset and sort them alphabetically. We store the sorted firm ticker symbols in the `list_of_tickers::Array{String,1}` variable:"
   ]
  },
  {
   "cell_type": "code",
   "execution_count": 150,
   "id": "258aa8bf-f9a7-4b14-a94f-f661e38ab5ab",
   "metadata": {
    "tags": []
   },
   "outputs": [],
   "source": [
    "list_of_tickers = keys(dataset) |> collect |> sort; # list of firm \"ticker\" symbols in alphabetical order"
   ]
  },
  {
   "cell_type": "markdown",
   "id": "d20c9866",
   "metadata": {},
   "source": [
    "Now, let's load the GBM parameters that we computed in the previous example:"
   ]
  },
  {
   "cell_type": "code",
   "execution_count": 151,
   "id": "bd7cf6b1",
   "metadata": {},
   "outputs": [],
   "source": [
    "parameters_df = let\n",
    "\n",
    "    # load -\n",
    "    df = CSV.read(joinpath(_PATH_TO_DATA,\"SAGBM-Parameters-Fall-2025.csv\"), DataFrame);\n",
    "    df; # return\n",
    "end;"
   ]
  },
  {
   "cell_type": "markdown",
   "id": "a5acb794",
   "metadata": {},
   "source": [
    "Next, let's load the covariance matrix that we computed in the previous example:"
   ]
  },
  {
   "cell_type": "code",
   "execution_count": 152,
   "id": "fa04ddcc",
   "metadata": {},
   "outputs": [],
   "source": [
    "covariance_dictionary = let\n",
    "\n",
    "    # initialize -\n",
    "    path_to_covariance = joinpath(_PATH_TO_DATA,\"Covariance-Return-Training-Fall-2025.jld2\");\n",
    "    covariance = JLD2.load(path_to_covariance);\n",
    "    covariance;\n",
    "end;"
   ]
  },
  {
   "cell_type": "markdown",
   "id": "2c60e839",
   "metadata": {},
   "source": [
    "### Constants and Parameters\n",
    "Let's define some constants and parameters that we will use in our simulations. See the comments next to each constant for additional information, including values, units, etc."
   ]
  },
  {
   "cell_type": "code",
   "execution_count": 153,
   "id": "25570d96",
   "metadata": {},
   "outputs": [],
   "source": [
    "Δt = (1.0/252.0); # time step (1 trading day, in years)\n",
    "TSIM = 182; # number of trading days to simulate (1 quarter, in trading days)\n",
    "all_range = range(1,stop=maximum_number_trading_days,step=1) |> collect;\n",
    "startdate = Date(2025,1,1); # start date of simulation\n",
    "risk_free_rate = 0.03815; # benchmark: 10-year T-note 10/03/24\n",
    "total_initial_investment = 1000; # total initial investment amount (USD)"
   ]
  },
  {
   "cell_type": "markdown",
   "id": "5233e763-8d24-496f-af57-4c234e19f7b0",
   "metadata": {},
   "source": [
    "## Task 1: Build the log return array and covariance matrix for a sample portfolio\n",
    "Modern portfolio theory requires two key inputs: expected returns and the covariance structure between assets. In this task, we will extract these statistics from our historical dataset to prepare for optimization.\n",
    "\n",
    "We will compute the expected growth (return) vector (we'll approximate this using the drift vector) and the covariance matrix for the assets in a portfolio composed of $M$ risky assets that we choose. Thus, before we compute the efficient frontier, we must decide which tickers to include in the risky portfolio. \n",
    "\n",
    "> __Ticker picker question:__ Which assets to include in your portfolio may seem like a simple question, but it turns out to be a hard question to answer, and it can have a __significant impact__ on the performance of your portfolio. There are so many interesting threads that we could pull here. But for now, just pick something. \n",
    "\n",
    "Specify a collection of ticker symbols, e.g., `AAPL`, `MSFT`, etc., that interest you in the `my_list_of_tickers::Array{String,1}` array. "
   ]
  },
  {
   "cell_type": "code",
   "execution_count": 154,
   "id": "957286f4-dfd9-4f28-8ae7-b2c75327f786",
   "metadata": {
    "tags": []
   },
   "outputs": [],
   "source": [
    "# TODO: Select at LEAST 3 tickers\n",
    "# If you choose tickers that are not in the dataset, you will get errors!\n",
    " my_list_of_tickers = [\"AAPL\", \"MSFT\", \"AMD\"]; "
   ]
  },
  {
   "cell_type": "markdown",
   "id": "246a3aa2-20c7-41bc-aad7-ddc3384c372f",
   "metadata": {},
   "source": [
    "Now that we have selected the firms in our risky portfolio, we'll compute the firm-specific expected return vector and covariance matrix. We'll store these in the $\\hat{\\mu}$ and $\\hat{\\Sigma}$ variables. "
   ]
  },
  {
   "cell_type": "code",
   "execution_count": 155,
   "id": "9521e2bf-19a1-4f00-b520-2c3b4a80fcdc",
   "metadata": {
    "tags": []
   },
   "outputs": [],
   "source": [
    "μ̂, Σ̂ᵣ = let\n",
    "\n",
    "    # initialize -\n",
    "    M = length(my_list_of_tickers); # number of assets in portfolio\n",
    "    μ = Array{Float64,1}(); # drift vector\n",
    "    Σᵣ = Array{Float64,2}(undef, M, M); # covariance matrix for *our* portfolio\n",
    "    tickers_in_parameters = parameters_df[:, :ticker] |> collect; # list of tickers in parameters_df\n",
    "    covariance_ticker_list = covariance_dictionary[\"list_of_tickers\"] |> collect; # list of tickers in covariance dictionary\n",
    "    Σ = covariance_dictionary[\"covariance_matrix\"]; # full covariance matrix\n",
    "\n",
    "    # compute drift vector -\n",
    "    for ticker ∈ my_list_of_tickers\n",
    "        i = findfirst(x-> x == ticker, tickers_in_parameters); # find index of ticker in the parameters_df\n",
    "        push!(μ, parameters_df[i, :drift]); # append drift value to μ\n",
    "    end\n",
    "\n",
    "    # compute covariance matrix -\n",
    "    for i ∈ 1:M\n",
    "        for j ∈ 1:M\n",
    "            row_index = findfirst(x-> x == my_list_of_tickers[i], covariance_ticker_list); # find row index in full covariance matrix\n",
    "            col_index = findfirst(x-> x == my_list_of_tickers[j], covariance_ticker_list); # find column index in full covariance matrix\n",
    "            Σᵣ[i,j] = Σ[row_index, col_index]; # assign value to Σᵣ\n",
    "        end\n",
    "    end\n",
    "\n",
    "    (μ, Σᵣ); # return\n",
    "end;"
   ]
  },
  {
   "cell_type": "markdown",
   "id": "1eb0a022-5c7c-4240-8361-6bd751034e07",
   "metadata": {
    "tags": []
   },
   "source": [
    "## Task 2: Compute the efficient frontier for your collection of stocks\n",
    "With our expected returns and covariance matrix in hand, we can now solve the classic Markowitz optimization problem. This will give us the set of portfolios that offer the highest expected return for each level of risk.\n",
    "\n",
    "In this task, we'll compute the optimal allocation in the minimum variance sense using the tickers in the `my_list_of_tickers::Array{String,1}` vector.\n",
    "\n",
    "> __What are we going to do?__ Create an instance of the [MyMarkowitzRiskyAssetOnlyPortfolioChoiceProblem type](https://varnerlab.github.io/VLQuantitativeFinancePackage.jl/dev/portfolio/#VLQuantitativeFinancePackage.MyMarkowitzRiskyAssetOnlyPortfolioChoiceProblem), and store this in the `problem_risk` variable using a [custom build(...) method](https://varnerlab.github.io/VLQuantitativeFinancePackage.jl/dev/portfolio/#VLQuantitativeFinancePackage.build-Tuple{Type{MyMarkowitzRiskyAssetOnlyPortfolioChoiceProblem},%20NamedTuple}). You'll need to pass your covariance array $\\hat{\\Sigma}_{r}$, the expected return array $\\hat{\\mu}_{r}$, along with bounds and an initial guess, to the [build(...) method](https://varnerlab.github.io/VLQuantitativeFinancePackage.jl/dev/portfolio/#VLQuantitativeFinancePackage.build-Tuple{Type{MyMarkowitzRiskyAssetOnlyPortfolioChoiceProblem},%20NamedTuple}). Then, we can use the [solve(...) method](https://varnerlab.github.io/VLQuantitativeFinancePackage.jl/dev/portfolio/#VLQuantitativeFinancePackage.solve-Tuple{MyMarkowitzRiskyAssetOnlyPortfolioChoiceProblem}) for different values of the minimum desired return to compute the efficient frontier.\n",
    "\n",
    "First, let's set up the bounds and other parameters required for the computation of the portfolio weights along the efficient frontier:"
   ]
  },
  {
   "cell_type": "code",
   "execution_count": 156,
   "id": "9567321e-4543-4f70-904f-48b33635da7a",
   "metadata": {
    "tags": []
   },
   "outputs": [],
   "source": [
    "number_of_firms = length(my_list_of_tickers); # how many firms do we have\n",
    "wₒ = zeros(number_of_firms) # initial allocation (zeros)\n",
    "wₒ[1] = 3.0; # all money in firm 1\n",
    "bounds = zeros(number_of_firms,2); \n",
    "bounds[:,2] .= 3.0;\n",
    "number_of_points = 201;"
   ]
  },
  {
   "cell_type": "markdown",
   "id": "1d0928d4-e59d-434e-b3c8-2fab88b2d646",
   "metadata": {},
   "source": [
    "Next, let's build an instance of the [MyMarkowitzRiskyAssetOnlyPortfolioChoiceProblem type](https://varnerlab.github.io/VLQuantitativeFinancePackage.jl/dev/portfolio/#VLQuantitativeFinancePackage.MyMarkowitzRiskyAssetOnlyPortfolioChoiceProblem) using the [build(...) method](https://varnerlab.github.io/VLQuantitativeFinancePackage.jl/dev/portfolio/#VLQuantitativeFinancePackage.build-Tuple{Type{MyMarkowitzRiskyAssetOnlyPortfolioChoiceProblem},%20NamedTuple}), passing in the data for the required fields:"
   ]
  },
  {
   "cell_type": "code",
   "execution_count": 157,
   "id": "f10e57f0-d8bc-4d69-b0ad-ca989f69215f",
   "metadata": {
    "tags": []
   },
   "outputs": [],
   "source": [
    "# portfolio choice problem instance\n",
    "problem_risk = build(MyMarkowitzRiskyAssetOnlyPortfolioChoiceProblem, (\n",
    "    Σ = Σ̂ᵣ, # covariance = risk\n",
    "    μ = μ̂, # drift = return\n",
    "    bounds = bounds, # [0,1]\n",
    "    initial = wₒ, # initial allocation\n",
    "    R = 0.0 # desired return\n",
    "));"
   ]
  },
  {
   "cell_type": "markdown",
   "id": "e5b79d1c-8a2c-4b0e-80ce-765ca5969ea0",
   "metadata": {},
   "source": [
    "Now, create an array holding the minimum desired rewards (the calculation must achieve at least this much reward). We store these values in the `minimum_desired_reward_array` variable. In this example, let's start at `0` and go up to `20`$\\times{r_{f}}$ annualized return using `number_of_points`:"
   ]
  },
  {
   "cell_type": "code",
   "execution_count": 158,
   "id": "5f919feb-a7b7-4b83-bb25-8935b4a2c4a5",
   "metadata": {
    "tags": []
   },
   "outputs": [],
   "source": [
    "# Desired return that our portfolio should achieve\n",
    "minimum_desired_reward_array = range(0.0, stop = 20*risk_free_rate, length = number_of_points) |> collect; # R"
   ]
  },
  {
   "cell_type": "markdown",
   "id": "9479d04c",
   "metadata": {},
   "source": [
    "What's in the `minimum_desired_reward_array::Array{Float64,1}` array? \n",
    "ANS: The array contains a sequence of 201 points, starting at 0 and ending at 0.763. Each element should represent different return level along efficient frontier"
   ]
  },
  {
   "cell_type": "code",
   "execution_count": 159,
   "id": "ff212a8d",
   "metadata": {},
   "outputs": [
    {
     "data": {
      "text/plain": [
       "201-element Vector{Float64}:\n",
       " 0.0\n",
       " 0.0038150000000000007\n",
       " 0.007630000000000001\n",
       " 0.011445000000000002\n",
       " 0.015260000000000003\n",
       " 0.019075\n",
       " 0.022890000000000004\n",
       " 0.026705000000000003\n",
       " 0.030520000000000005\n",
       " 0.034335000000000004\n",
       " ⋮\n",
       " 0.7324800000000001\n",
       " 0.7362950000000001\n",
       " 0.7401100000000002\n",
       " 0.7439250000000002\n",
       " 0.7477400000000001\n",
       " 0.7515550000000001\n",
       " 0.7553700000000001\n",
       " 0.7591850000000001\n",
       " 0.7630000000000001"
      ]
     },
     "metadata": {},
     "output_type": "display_data"
    }
   ],
   "source": [
    "minimum_desired_reward_array"
   ]
  },
  {
   "cell_type": "markdown",
   "id": "8511c320-7951-47a9-9588-4441e3e73533",
   "metadata": {},
   "source": [
    "We now iterate through the `minimum_desired_reward_array::Array{Float64,1}` and compute the minimum risk required to achieve the specified reward level using a `for-loop`.\n",
    "\n",
    "For each pass through the loop, we:\n",
    "* Update the `problem_risk` variable with the minimum desired reward (set the `R` field). We then pass the updated `problem` object to the [solve(...) method](https://varnerlab.github.io/VLQuantitativeFinancePackage.jl/dev/portfolio/#VLQuantitativeFinancePackage.solve-Tuple{MyMarkowitzRiskyAssetOnlyPortfolioChoiceProblem}) (which initializes and solves the optimization problem). The solution returned from the [solve(...) method](https://varnerlab.github.io/VLQuantitativeFinancePackage.jl/dev/portfolio/#VLQuantitativeFinancePackage.solve-Tuple{MyMarkowitzRiskyAssetOnlyPortfolioChoiceProblem}) is stored in the `solution` dictionary. \n",
    "* We check the `status` of the solution. If the `status` indicates an optimal solution was found, we store that solution in the `efficient_frontier` dictionary. In particular, we store the portfolio risk as the `key` and the expected return, risk and allocation as the `value` in the `efficient_frontier` dictionary.\n",
    "\n",
    "Why the [try-catch environment](https://docs.julialang.org/en/v1/base/base/#try)? The [solve(...) method](https://varnerlab.github.io/VLQuantitativeFinancePackage.jl/dev/portfolio/#VLQuantitativeFinancePackage.solve-Tuple{MyMarkowitzRiskyAssetOnlyPortfolioChoiceProblem}) has an [@assert statement](https://docs.julialang.org/en/v1/base/base/#Base.@assert) to check if the calculation has converged. Thus, the solve method can [throw](https://docs.julialang.org/en/v1/base/base/#Core.throw) an [AssertionError](https://docs.julialang.org/en/v1/base/base/#Core.AssertionError) if the optimization problem fails to converge. To gracefully handle this case, we use a [try-catch construct](https://docs.julialang.org/en/v1/base/base/#try). See the [is_solved_and_feasible method from the JuMP package](https://jump.dev/JuMP.jl/stable/api/JuMP/#JuMP.is_solved_and_feasible) for more information."
   ]
  },
  {
   "cell_type": "code",
   "execution_count": 160,
   "id": "7e4f97bc-9e43-438c-ba7a-a6f2bd41eeda",
   "metadata": {
    "tags": []
   },
   "outputs": [],
   "source": [
    "efficient_frontier = let\n",
    "\n",
    "    # initialize -\n",
    "    efficient_frontier = Dict{Float64, NamedTuple}();\n",
    "\n",
    "    # main loop\n",
    "    for i ∈ eachindex(minimum_desired_reward_array)\n",
    "        problem_risk.R = minimum_desired_reward_array[i]; # update the problem object with the min desired reward value\n",
    "    \n",
    "        try\n",
    "            solution = solve(problem_risk)\n",
    "            status_flag = solution[\"status\"];    \n",
    "\n",
    "            if (status_flag == MathOptInterface.LOCALLY_SOLVED)\n",
    "                risk_value = solution[\"objective_value\"]; # get the sqrt of the risk -\n",
    "                reward_value = solution[\"reward\"];\n",
    "                allocation = solution[\"argmax\"]; # TODO: JV needs to update this key\n",
    "                \n",
    "                \n",
    "                efficient_frontier[risk_value] = (risk = risk_value, reward = reward_value, w = allocation)\n",
    "            end\n",
    "        catch err\n",
    "           \n",
    "            # println(\"Failed: desired R = $(problem_risk.R). Infeasible\");\n",
    "        end    \n",
    "    end\n",
    "    efficient_frontier;\n",
    "end;"
   ]
  },
  {
   "cell_type": "markdown",
   "id": "d3b8db5e",
   "metadata": {},
   "source": [
    "What's in the `efficient_frontier::Dict{Float64,NamedTuple}` dictionary?\n",
    "ANS: It contains portfolio that represent possible combinations of asset allocation and risk level. Each value in this dictionary has a Obj value, reward, risk and weights assigned to each of the 3 assets."
   ]
  },
  {
   "cell_type": "code",
   "execution_count": 161,
   "id": "3d799d21",
   "metadata": {},
   "outputs": [
    {
     "data": {
      "text/plain": [
       "Dict{Float64, NamedTuple} with 116 entries:\n",
       "  0.163771  => (risk = 0.163771, reward = 0.40439, w = [1.05081e-6, 0.183187, 0…\n",
       "  0.039966  => (risk = 0.039966, reward = 0.245383, w = [0.396013, 0.603987, 5.…\n",
       "  0.039966  => (risk = 0.039966, reward = 0.245383, w = [0.396013, 0.603987, 5.…\n",
       "  0.121048  => (risk = 0.121048, reward = 0.37387, w = [0.0466609, 0.293982, 0.…\n",
       "  0.116347  => (risk = 0.116347, reward = 0.370055, w = [0.0570158, 0.303205, 0…\n",
       "  0.223162  => (risk = 0.223162, reward = 0.438725, w = [2.20008e-7, 0.00484442…\n",
       "  0.039966  => (risk = 0.039966, reward = 0.245383, w = [0.396013, 0.603987, 5.…\n",
       "  0.103085  => (risk = 0.103085, reward = 0.35861, w = [0.0880807, 0.330873, 0.…\n",
       "  0.12589   => (risk = 0.12589, reward = 0.377685, w = [0.0363063, 0.284759, 0.…\n",
       "  0.039966  => (risk = 0.039966, reward = 0.245383, w = [0.396013, 0.603987, 5.…\n",
       "  0.039966  => (risk = 0.039966, reward = 0.245383, w = [0.396013, 0.603987, 5.…\n",
       "  0.039966  => (risk = 0.039966, reward = 0.245383, w = [0.396013, 0.603987, 5.…\n",
       "  0.0444374 => (risk = 0.0444374, reward = 0.27468, w = [0.315891, 0.533776, 0.…\n",
       "  0.039966  => (risk = 0.039966, reward = 0.245383, w = [0.396013, 0.603987, 5.…\n",
       "  0.039966  => (risk = 0.039966, reward = 0.245383, w = [0.396013, 0.603987, 5.…\n",
       "  0.039966  => (risk = 0.039966, reward = 0.245383, w = [0.396013, 0.603987, 5.…\n",
       "  0.039966  => (risk = 0.039966, reward = 0.245384, w = [0.396012, 0.603985, 2.…\n",
       "  0.0652667 => (risk = 0.0652667, reward = 0.316645, w = [0.201986, 0.432325, 0…\n",
       "  0.135996  => (risk = 0.135996, reward = 0.385315, w = [0.0155972, 0.266312, 0…\n",
       "  ⋮         => ⋮"
      ]
     },
     "metadata": {},
     "output_type": "display_data"
    }
   ],
   "source": [
    "efficient_frontier"
   ]
  },
  {
   "cell_type": "markdown",
   "id": "ba9cff58",
   "metadata": {},
   "source": [
    "### Organize efficient frontier results into a matrix for analysis and visualization\n",
    "Transform the `efficient_frontier::Dict{Float64,NamedTuple}` dictionary into a matrix format for plotting and analysis.\n",
    "\n",
    "> __What are we doing?__ Extract portfolio data from the `efficient_frontier::Dict{Float64,NamedTuple}` dictionary and organize it into the `results_array::Array{Float64,2}` matrix. Sort portfolios by risk level (small to large) and store risk, return, and allocation weights in matrix columns.\n",
    "\n",
    "> __What's in the results array?__ The `results_array::Array{Float64,2}` has `number_of_portfolios::Int64` rows and `M+2` columns:\n",
    "> * Column 1: Portfolio risk (standard deviation = √variance)  \n",
    "> * Column 2: Portfolio expected return\n",
    "> * Columns 3 to M+2: Asset allocation weights for the `M::Int64` tickers\n",
    "\n",
    "Let's build the `results_array::Array{Float64,2}` from our efficient frontier solutions:"
   ]
  },
  {
   "cell_type": "code",
   "execution_count": null,
   "id": "290ae087",
   "metadata": {},
   "outputs": [
    {
     "data": {
      "text/plain": [
       "116×5 Matrix{Float64}:\n",
       " 0.199915  0.245383  0.396013    0.603987    3.93637e-8\n",
       " 0.199915  0.245383  0.396013    0.603987    4.08799e-8\n",
       " 0.199915  0.245383  0.396013    0.603987    4.26366e-8\n",
       " 0.199915  0.245383  0.396013    0.603987    4.46335e-8\n",
       " 0.199915  0.245383  0.396013    0.603987    4.6885e-8\n",
       " 0.199915  0.245383  0.396013    0.603987    5.07179e-8\n",
       " 0.199915  0.245383  0.396013    0.603987    5.13163e-8\n",
       " 0.199915  0.245383  0.396013    0.603987    5.18819e-8\n",
       " 0.199915  0.245383  0.396013    0.603987    5.24158e-8\n",
       " 0.199915  0.245383  0.396013    0.603987    5.2501e-8\n",
       " ⋮                                           \n",
       " 0.412034  0.408205  6.97315e-7  0.163371    0.836628\n",
       " 0.419432  0.41202   6.07634e-7  0.143556    0.856444\n",
       " 0.426876  0.415835  4.45367e-7  0.12374     0.87626\n",
       " 0.434364  0.41965   3.7564e-7   0.103924    0.896076\n",
       " 0.441895  0.423465  3.29197e-7  0.084108    0.915892\n",
       " 0.449466  0.42728   9.30109e-7  0.0642915   0.935708\n",
       " 0.457075  0.431095  2.63817e-7  0.0444762   0.955524\n",
       " 0.46472   0.43491   2.39985e-7  0.0246603   0.975339\n",
       " 0.4724    0.438725  2.20008e-7  0.00484442  0.995155"
      ]
     },
     "metadata": {},
     "output_type": "display_data"
    }
   ],
   "source": [
    "results_array = let\n",
    "\n",
    "    # initialize -\n",
    "    number_of_portfolios = length(efficient_frontier); # how many portfolios do we have? (these all exited correctly)\n",
    "                                                        ANS: 51 portfolios. These are the entries in the efficient_frontier dictionary.\n",
    "    M = length(my_list_of_tickers); # how many tickers do we have?\n",
    "                                ANS: Tickers are AAPL, MSFT, AMD.\n",
    "    results_array = Array{Float64,2}(undef, number_of_portfolios, M+2);\n",
    "    risk_array_sorted = keys(efficient_frontier) |> collect |> sort;\n",
    "\n",
    "    for i ∈ eachindex(risk_array_sorted)\n",
    "        risk_value = risk_array_sorted[i] |> sqrt; # let's plot the sqrt of the risk\n",
    "        \n",
    "        data = efficient_frontier[risk_array_sorted[i]] # get the NamedTuple corresponding to this risk level\n",
    "        reward_value = data.reward;\n",
    "        w = data.w;\n",
    "\n",
    "        results_array[i,1] = risk_value;\n",
    "        results_array[i,2] = reward_value;\n",
    "        for j ∈ 1:M\n",
    "            results_array[i,2+j] = w[j];\n",
    "        end\n",
    "    end\n",
    "\n",
    "    results_array\n",
    "end"
   ]
  },
  {
   "cell_type": "markdown",
   "id": "39b81fbf-e29c-43c7-b4f3-10d2e134e8a2",
   "metadata": {},
   "source": [
    "### Visualize the efficient frontier\n",
    "Now that we have computed the optimal portfolios, let's visualize the classic risk-return trade-off that Markowitz theory reveals. The efficient frontier shows the boundary of achievable risk-return combinations for our selected assets.\n",
    "\n",
    "`Unhide` the code block below to see how we plotted the efficient frontier for the collection of equities and ETFs specified in the `my_list_of_tickers::Array{String,1}` array."
   ]
  },
  {
   "cell_type": "code",
   "execution_count": 163,
   "id": "2927187b-5db3-4649-b7d6-6b12d645ae53",
   "metadata": {
    "jupyter": {
     "source_hidden": true
    },
    "tags": []
   },
   "outputs": [
    {
     "data": {
      "image/png": "[encoded data removed]",
      "image/svg+xml": [
       "<?xml version=\"1.0\" encoding=\"utf-8\"?>\n",
       "<svg xmlns=\"http://www.w3.org/2000/svg\" xmlns:xlink=\"http://www.w3.org/1999/xlink\" width=\"600\" height=\"400\" viewBox=\"0 0 2400 1600\">\n",
       "<defs>\n",
       "  <clipPath id=\"clip270\">\n",
       "    <rect x=\"0\" y=\"0\" width=\"2400\" height=\"1600\"/>\n",
       "  </clipPath>\n",
       "</defs>\n",
       "<path clip-path=\"url(#clip270)\" d=\"M0 1600 L2400 1600 L2400 8.88178e-14 L0 8.88178e-14  Z\" fill=\"#ffffff\" fill-rule=\"evenodd\" fill-opacity=\"1\"/>\n",
       "<defs>\n",
       "  <clipPath id=\"clip271\">\n",
       "    <rect x=\"480\" y=\"0\" width=\"1681\" height=\"1600\"/>\n",
       "  </clipPath>\n",
       "</defs>\n",
       "<path clip-path=\"url(#clip270)\" d=\"M219.866 1423.18 L2352.76 1423.18 L2352.76 47.2441 L219.866 47.2441  Z\" fill=\"#f2f2f2\" fill-rule=\"evenodd\" fill-opacity=\"1\"/>\n",
       "<defs>\n",
       "  <clipPath id=\"clip272\">\n",
       "    <rect x=\"219\" y=\"47\" width=\"2134\" height=\"1377\"/>\n",
       "  </clipPath>\n",
       "</defs>\n",
       "<polyline clip-path=\"url(#clip272)\" style=\"stroke:#000000; stroke-linecap:round; stroke-linejoin:round; stroke-width:2; stroke-opacity:0.1; fill:none\" points=\"219.866,1423.18 219.866,47.2441 \"/>\n",
       "<polyline clip-path=\"url(#clip272)\" style=\"stroke:#000000; stroke-linecap:round; stroke-linejoin:round; stroke-width:2; stroke-opacity:0.1; fill:none\" points=\"630.321,1423.18 630.321,47.2441 \"/>\n",
       "<polyline clip-path=\"url(#clip272)\" style=\"stroke:#000000; stroke-linecap:round; stroke-linejoin:round; stroke-width:2; stroke-opacity:0.1; fill:none\" points=\"1040.78,1423.18 1040.78,47.2441 \"/>\n",
       "<polyline clip-path=\"url(#clip272)\" style=\"stroke:#000000; stroke-linecap:round; stroke-linejoin:round; stroke-width:2; stroke-opacity:0.1; fill:none\" points=\"1451.23,1423.18 1451.23,47.2441 \"/>\n",
       "<polyline clip-path=\"url(#clip272)\" style=\"stroke:#000000; stroke-linecap:round; stroke-linejoin:round; stroke-width:2; stroke-opacity:0.1; fill:none\" points=\"1861.69,1423.18 1861.69,47.2441 \"/>\n",
       "<polyline clip-path=\"url(#clip272)\" style=\"stroke:#000000; stroke-linecap:round; stroke-linejoin:round; stroke-width:2; stroke-opacity:0.1; fill:none\" points=\"2272.14,1423.18 2272.14,47.2441 \"/>\n",
       "<polyline clip-path=\"url(#clip272)\" style=\"stroke:#000000; stroke-linecap:round; stroke-linejoin:round; stroke-width:2; stroke-opacity:0.1; fill:none\" points=\"219.866,1423.18 219.866,47.2441 \"/>\n",
       "<polyline clip-path=\"url(#clip272)\" style=\"stroke:#000000; stroke-linecap:round; stroke-linejoin:round; stroke-width:2; stroke-opacity:0.1; fill:none\" points=\"630.321,1423.18 630.321,47.2441 \"/>\n",
       "<polyline clip-path=\"url(#clip272)\" style=\"stroke:#000000; stroke-linecap:round; stroke-linejoin:round; stroke-width:2; stroke-opacity:0.1; fill:none\" points=\"1040.78,1423.18 1040.78,47.2441 \"/>\n",
       "<polyline clip-path=\"url(#clip272)\" style=\"stroke:#000000; stroke-linecap:round; stroke-linejoin:round; stroke-width:2; stroke-opacity:0.1; fill:none\" points=\"1451.23,1423.18 1451.23,47.2441 \"/>\n",
       "<polyline clip-path=\"url(#clip272)\" style=\"stroke:#000000; stroke-linecap:round; stroke-linejoin:round; stroke-width:2; stroke-opacity:0.1; fill:none\" points=\"1861.69,1423.18 1861.69,47.2441 \"/>\n",
       "<polyline clip-path=\"url(#clip272)\" style=\"stroke:#000000; stroke-linecap:round; stroke-linejoin:round; stroke-width:2; stroke-opacity:0.1; fill:none\" points=\"2272.14,1423.18 2272.14,47.2441 \"/>\n",
       "<polyline clip-path=\"url(#clip272)\" style=\"stroke:#000000; stroke-linecap:round; stroke-linejoin:round; stroke-width:2; stroke-opacity:0.1; fill:none\" points=\"219.866,1423.18 2352.76,1423.18 \"/>\n",
       "<polyline clip-path=\"url(#clip272)\" style=\"stroke:#000000; stroke-linecap:round; stroke-linejoin:round; stroke-width:2; stroke-opacity:0.1; fill:none\" points=\"219.866,1138.07 2352.76,1138.07 \"/>\n",
       "<polyline clip-path=\"url(#clip272)\" style=\"stroke:#000000; stroke-linecap:round; stroke-linejoin:round; stroke-width:2; stroke-opacity:0.1; fill:none\" points=\"219.866,852.959 2352.76,852.959 \"/>\n",
       "<polyline clip-path=\"url(#clip272)\" style=\"stroke:#000000; stroke-linecap:round; stroke-linejoin:round; stroke-width:2; stroke-opacity:0.1; fill:none\" points=\"219.866,567.849 2352.76,567.849 \"/>\n",
       "<polyline clip-path=\"url(#clip272)\" style=\"stroke:#000000; stroke-linecap:round; stroke-linejoin:round; stroke-width:2; stroke-opacity:0.1; fill:none\" points=\"219.866,282.738 2352.76,282.738 \"/>\n",
       "<polyline clip-path=\"url(#clip272)\" style=\"stroke:#000000; stroke-linecap:round; stroke-linejoin:round; stroke-width:2; stroke-opacity:0.1; fill:none\" points=\"219.866,1423.18 2352.76,1423.18 \"/>\n",
       "<polyline clip-path=\"url(#clip272)\" style=\"stroke:#000000; stroke-linecap:round; stroke-linejoin:round; stroke-width:2; stroke-opacity:0.1; fill:none\" points=\"219.866,1138.07 2352.76,1138.07 \"/>\n",
       "<polyline clip-path=\"url(#clip272)\" style=\"stroke:#000000; stroke-linecap:round; stroke-linejoin:round; stroke-width:2; stroke-opacity:0.1; fill:none\" points=\"219.866,852.959 2352.76,852.959 \"/>\n",
       "<polyline clip-path=\"url(#clip272)\" style=\"stroke:#000000; stroke-linecap:round; stroke-linejoin:round; stroke-width:2; stroke-opacity:0.1; fill:none\" points=\"219.866,567.849 2352.76,567.849 \"/>\n",
       "<polyline clip-path=\"url(#clip272)\" style=\"stroke:#000000; stroke-linecap:round; stroke-linejoin:round; stroke-width:2; stroke-opacity:0.1; fill:none\" points=\"219.866,282.738 2352.76,282.738 \"/>\n",
       "<polyline clip-path=\"url(#clip270)\" style=\"stroke:#000000; stroke-linecap:round; stroke-linejoin:round; stroke-width:4; stroke-opacity:1; fill:none\" points=\"219.866,1423.18 2352.76,1423.18 \"/>\n",
       "<polyline clip-path=\"url(#clip270)\" style=\"stroke:#000000; stroke-linecap:round; stroke-linejoin:round; stroke-width:4; stroke-opacity:1; fill:none\" points=\"219.866,47.2441 2352.76,47.2441 \"/>\n",
       "<polyline clip-path=\"url(#clip270)\" style=\"stroke:#000000; stroke-linecap:round; stroke-linejoin:round; stroke-width:4; stroke-opacity:1; fill:none\" points=\"219.866,1423.18 219.866,1404.28 \"/>\n",
       "<polyline clip-path=\"url(#clip270)\" style=\"stroke:#000000; stroke-linecap:round; stroke-linejoin:round; stroke-width:4; stroke-opacity:1; fill:none\" points=\"630.321,1423.18 630.321,1404.28 \"/>\n",
       "<polyline clip-path=\"url(#clip270)\" style=\"stroke:#000000; stroke-linecap:round; stroke-linejoin:round; stroke-width:4; stroke-opacity:1; fill:none\" points=\"1040.78,1423.18 1040.78,1404.28 \"/>\n",
       "<polyline clip-path=\"url(#clip270)\" style=\"stroke:#000000; stroke-linecap:round; stroke-linejoin:round; stroke-width:4; stroke-opacity:1; fill:none\" points=\"1451.23,1423.18 1451.23,1404.28 \"/>\n",
       "<polyline clip-path=\"url(#clip270)\" style=\"stroke:#000000; stroke-linecap:round; stroke-linejoin:round; stroke-width:4; stroke-opacity:1; fill:none\" points=\"1861.69,1423.18 1861.69,1404.28 \"/>\n",
       "<polyline clip-path=\"url(#clip270)\" style=\"stroke:#000000; stroke-linecap:round; stroke-linejoin:round; stroke-width:4; stroke-opacity:1; fill:none\" points=\"2272.14,1423.18 2272.14,1404.28 \"/>\n",
       "<polyline clip-path=\"url(#clip270)\" style=\"stroke:#000000; stroke-linecap:round; stroke-linejoin:round; stroke-width:4; stroke-opacity:1; fill:none\" points=\"219.866,47.2441 219.866,66.1417 \"/>\n",
       "<polyline clip-path=\"url(#clip270)\" style=\"stroke:#000000; stroke-linecap:round; stroke-linejoin:round; stroke-width:4; stroke-opacity:1; fill:none\" points=\"630.321,47.2441 630.321,66.1417 \"/>\n",
       "<polyline clip-path=\"url(#clip270)\" style=\"stroke:#000000; stroke-linecap:round; stroke-linejoin:round; stroke-width:4; stroke-opacity:1; fill:none\" points=\"1040.78,47.2441 1040.78,66.1417 \"/>\n",
       "<polyline clip-path=\"url(#clip270)\" style=\"stroke:#000000; stroke-linecap:round; stroke-linejoin:round; stroke-width:4; stroke-opacity:1; fill:none\" points=\"1451.23,47.2441 1451.23,66.1417 \"/>\n",
       "<polyline clip-path=\"url(#clip270)\" style=\"stroke:#000000; stroke-linecap:round; stroke-linejoin:round; stroke-width:4; stroke-opacity:1; fill:none\" points=\"1861.69,47.2441 1861.69,66.1417 \"/>\n",
       "<polyline clip-path=\"url(#clip270)\" style=\"stroke:#000000; stroke-linecap:round; stroke-linejoin:round; stroke-width:4; stroke-opacity:1; fill:none\" points=\"2272.14,47.2441 2272.14,66.1417 \"/>\n",
       "<path clip-path=\"url(#clip270)\" d=\"M197.251 1454.1 Q193.64 1454.1 191.811 1457.66 Q190.005 1461.2 190.005 1468.33 Q190.005 1475.44 191.811 1479.01 Q193.64 1482.55 197.251 1482.55 Q200.885 1482.55 202.69 1479.01 Q204.519 1475.44 204.519 1468.33 Q204.519 1461.2 202.69 1457.66 Q200.885 1454.1 197.251 1454.1 M197.251 1450.39 Q203.061 1450.39 206.116 1455 Q209.195 1459.58 209.195 1468.33 Q209.195 1477.06 206.116 1481.67 Q203.061 1486.25 197.251 1486.25 Q191.44 1486.25 188.362 1481.67 Q185.306 1477.06 185.306 1468.33 Q185.306 1459.58 188.362 1455 Q191.44 1450.39 197.251 1450.39 Z\" fill=\"#000000\" fill-rule=\"nonzero\" fill-opacity=\"1\" /><path clip-path=\"url(#clip270)\" d=\"M217.413 1479.7 L222.297 1479.7 L222.297 1485.58 L217.413 1485.58 L217.413 1479.7 Z\" fill=\"#000000\" fill-rule=\"nonzero\" fill-opacity=\"1\" /><path clip-path=\"url(#clip270)\" d=\"M242.482 1454.1 Q238.871 1454.1 237.042 1457.66 Q235.237 1461.2 235.237 1468.33 Q235.237 1475.44 237.042 1479.01 Q238.871 1482.55 242.482 1482.55 Q246.116 1482.55 247.922 1479.01 Q249.75 1475.44 249.75 1468.33 Q249.75 1461.2 247.922 1457.66 Q246.116 1454.1 242.482 1454.1 M242.482 1450.39 Q248.292 1450.39 251.348 1455 Q254.426 1459.58 254.426 1468.33 Q254.426 1477.06 251.348 1481.67 Q248.292 1486.25 242.482 1486.25 Q236.672 1486.25 233.593 1481.67 Q230.538 1477.06 230.538 1468.33 Q230.538 1459.58 233.593 1455 Q236.672 1450.39 242.482 1450.39 Z\" fill=\"#000000\" fill-rule=\"nonzero\" fill-opacity=\"1\" /><path clip-path=\"url(#clip270)\" d=\"M608.319 1454.1 Q604.708 1454.1 602.879 1457.66 Q601.074 1461.2 601.074 1468.33 Q601.074 1475.44 602.879 1479.01 Q604.708 1482.55 608.319 1482.55 Q611.953 1482.55 613.759 1479.01 Q615.588 1475.44 615.588 1468.33 Q615.588 1461.2 613.759 1457.66 Q611.953 1454.1 608.319 1454.1 M608.319 1450.39 Q614.129 1450.39 617.185 1455 Q620.264 1459.58 620.264 1468.33 Q620.264 1477.06 617.185 1481.67 Q614.129 1486.25 608.319 1486.25 Q602.509 1486.25 599.43 1481.67 Q596.375 1477.06 596.375 1468.33 Q596.375 1459.58 599.43 1455 Q602.509 1450.39 608.319 1450.39 Z\" fill=\"#000000\" fill-rule=\"nonzero\" fill-opacity=\"1\" /><path clip-path=\"url(#clip270)\" d=\"M628.481 1479.7 L633.365 1479.7 L633.365 1485.58 L628.481 1485.58 L628.481 1479.7 Z\" fill=\"#000000\" fill-rule=\"nonzero\" fill-opacity=\"1\" /><path clip-path=\"url(#clip270)\" d=\"M644.361 1481.64 L652 1481.64 L652 1455.28 L643.689 1456.95 L643.689 1452.69 L651.953 1451.02 L656.629 1451.02 L656.629 1481.64 L664.268 1481.64 L664.268 1485.58 L644.361 1485.58 L644.361 1481.64 Z\" fill=\"#000000\" fill-rule=\"nonzero\" fill-opacity=\"1\" /><path clip-path=\"url(#clip270)\" d=\"M1018.96 1454.1 Q1015.35 1454.1 1013.52 1457.66 Q1011.71 1461.2 1011.71 1468.33 Q1011.71 1475.44 1013.52 1479.01 Q1015.35 1482.55 1018.96 1482.55 Q1022.59 1482.55 1024.4 1479.01 Q1026.23 1475.44 1026.23 1468.33 Q1026.23 1461.2 1024.4 1457.66 Q1022.59 1454.1 1018.96 1454.1 M1018.96 1450.39 Q1024.77 1450.39 1027.83 1455 Q1030.9 1459.58 1030.9 1468.33 Q1030.9 1477.06 1027.83 1481.67 Q1024.77 1486.25 1018.96 1486.25 Q1013.15 1486.25 1010.07 1481.67 Q1007.02 1477.06 1007.02 1468.33 Q1007.02 1459.58 1010.07 1455 Q1013.15 1450.39 1018.96 1450.39 Z\" fill=\"#000000\" fill-rule=\"nonzero\" fill-opacity=\"1\" /><path clip-path=\"url(#clip270)\" d=\"M1039.12 1479.7 L1044.01 1479.7 L1044.01 1485.58 L1039.12 1485.58 L1039.12 1479.7 Z\" fill=\"#000000\" fill-rule=\"nonzero\" fill-opacity=\"1\" /><path clip-path=\"url(#clip270)\" d=\"M1058.22 1481.64 L1074.54 1481.64 L1074.54 1485.58 L1052.59 1485.58 L1052.59 1481.64 Q1055.26 1478.89 1059.84 1474.26 Q1064.45 1469.61 1065.63 1468.27 Q1067.87 1465.74 1068.75 1464.01 Q1069.65 1462.25 1069.65 1460.56 Q1069.65 1457.8 1067.71 1456.07 Q1065.79 1454.33 1062.69 1454.33 Q1060.49 1454.33 1058.03 1455.09 Q1055.6 1455.86 1052.83 1457.41 L1052.83 1452.69 Q1055.65 1451.55 1058.1 1450.97 Q1060.56 1450.39 1062.59 1450.39 Q1067.96 1450.39 1071.16 1453.08 Q1074.35 1455.77 1074.35 1460.26 Q1074.35 1462.39 1073.54 1464.31 Q1072.76 1466.2 1070.65 1468.8 Q1070.07 1469.47 1066.97 1472.69 Q1063.87 1475.88 1058.22 1481.64 Z\" fill=\"#000000\" fill-rule=\"nonzero\" fill-opacity=\"1\" /><path clip-path=\"url(#clip270)\" d=\"M1428.94 1454.1 Q1425.33 1454.1 1423.5 1457.66 Q1421.69 1461.2 1421.69 1468.33 Q1421.69 1475.44 1423.5 1479.01 Q1425.33 1482.55 1428.94 1482.55 Q1432.57 1482.55 1434.38 1479.01 Q1436.21 1475.44 1436.21 1468.33 Q1436.21 1461.2 1434.38 1457.66 Q1432.57 1454.1 1428.94 1454.1 M1428.94 1450.39 Q1434.75 1450.39 1437.81 1455 Q1440.88 1459.58 1440.88 1468.33 Q1440.88 1477.06 1437.81 1481.67 Q1434.75 1486.25 1428.94 1486.25 Q1423.13 1486.25 1420.05 1481.67 Q1417 1477.06 1417 1468.33 Q1417 1459.58 1420.05 1455 Q1423.13 1450.39 1428.94 1450.39 Z\" fill=\"#000000\" fill-rule=\"nonzero\" fill-opacity=\"1\" /><path clip-path=\"url(#clip270)\" d=\"M1449.1 1479.7 L1453.99 1479.7 L1453.99 1485.58 L1449.1 1485.58 L1449.1 1479.7 Z\" fill=\"#000000\" fill-rule=\"nonzero\" fill-opacity=\"1\" /><path clip-path=\"url(#clip270)\" d=\"M1478.34 1466.95 Q1481.69 1467.66 1483.57 1469.93 Q1485.47 1472.2 1485.47 1475.53 Q1485.47 1480.65 1481.95 1483.45 Q1478.43 1486.25 1471.95 1486.25 Q1469.77 1486.25 1467.46 1485.81 Q1465.17 1485.39 1462.71 1484.54 L1462.71 1480.02 Q1464.66 1481.16 1466.97 1481.74 Q1469.29 1482.32 1471.81 1482.32 Q1476.21 1482.32 1478.5 1480.58 Q1480.81 1478.84 1480.81 1475.53 Q1480.81 1472.48 1478.66 1470.77 Q1476.53 1469.03 1472.71 1469.03 L1468.69 1469.03 L1468.69 1465.19 L1472.9 1465.19 Q1476.35 1465.19 1478.18 1463.82 Q1480 1462.43 1480 1459.84 Q1480 1457.18 1478.11 1455.77 Q1476.23 1454.33 1472.71 1454.33 Q1470.79 1454.33 1468.59 1454.75 Q1466.39 1455.16 1463.75 1456.04 L1463.75 1451.88 Q1466.42 1451.14 1468.73 1450.77 Q1471.07 1450.39 1473.13 1450.39 Q1478.45 1450.39 1481.56 1452.83 Q1484.66 1455.23 1484.66 1459.35 Q1484.66 1462.22 1483.01 1464.21 Q1481.37 1466.18 1478.34 1466.95 Z\" fill=\"#000000\" fill-rule=\"nonzero\" fill-opacity=\"1\" /><path clip-path=\"url(#clip270)\" d=\"M1838.83 1454.1 Q1835.22 1454.1 1833.39 1457.66 Q1831.58 1461.2 1831.58 1468.33 Q1831.58 1475.44 1833.39 1479.01 Q1835.22 1482.55 1838.83 1482.55 Q1842.46 1482.55 1844.27 1479.01 Q1846.1 1475.44 1846.1 1468.33 Q1846.1 1461.2 1844.27 1457.66 Q1842.46 1454.1 1838.83 1454.1 M1838.83 1450.39 Q1844.64 1450.39 1847.69 1455 Q1850.77 1459.58 1850.77 1468.33 Q1850.77 1477.06 1847.69 1481.67 Q1844.64 1486.25 1838.83 1486.25 Q1833.02 1486.25 1829.94 1481.67 Q1826.88 1477.06 1826.88 1468.33 Q1826.88 1459.58 1829.94 1455 Q1833.02 1450.39 1838.83 1450.39 Z\" fill=\"#000000\" fill-rule=\"nonzero\" fill-opacity=\"1\" /><path clip-path=\"url(#clip270)\" d=\"M1858.99 1479.7 L1863.87 1479.7 L1863.87 1485.58 L1858.99 1485.58 L1858.99 1479.7 Z\" fill=\"#000000\" fill-rule=\"nonzero\" fill-opacity=\"1\" /><path clip-path=\"url(#clip270)\" d=\"M1886.91 1455.09 L1875.1 1473.54 L1886.91 1473.54 L1886.91 1455.09 M1885.68 1451.02 L1891.56 1451.02 L1891.56 1473.54 L1896.49 1473.54 L1896.49 1477.43 L1891.56 1477.43 L1891.56 1485.58 L1886.91 1485.58 L1886.91 1477.43 L1871.3 1477.43 L1871.3 1472.92 L1885.68 1451.02 Z\" fill=\"#000000\" fill-rule=\"nonzero\" fill-opacity=\"1\" /><path clip-path=\"url(#clip270)\" d=\"M2250.02 1454.1 Q2246.41 1454.1 2244.58 1457.66 Q2242.78 1461.2 2242.78 1468.33 Q2242.78 1475.44 2244.58 1479.01 Q2246.41 1482.55 2250.02 1482.55 Q2253.66 1482.55 2255.46 1479.01 Q2257.29 1475.44 2257.29 1468.33 Q2257.29 1461.2 2255.46 1457.66 Q2253.66 1454.1 2250.02 1454.1 M2250.02 1450.39 Q2255.83 1450.39 2258.89 1455 Q2261.97 1459.58 2261.97 1468.33 Q2261.97 1477.06 2258.89 1481.67 Q2255.83 1486.25 2250.02 1486.25 Q2244.21 1486.25 2241.14 1481.67 Q2238.08 1477.06 2238.08 1468.33 Q2238.08 1459.58 2241.14 1455 Q2244.21 1450.39 2250.02 1450.39 Z\" fill=\"#000000\" fill-rule=\"nonzero\" fill-opacity=\"1\" /><path clip-path=\"url(#clip270)\" d=\"M2270.19 1479.7 L2275.07 1479.7 L2275.07 1485.58 L2270.19 1485.58 L2270.19 1479.7 Z\" fill=\"#000000\" fill-rule=\"nonzero\" fill-opacity=\"1\" /><path clip-path=\"url(#clip270)\" d=\"M2285.3 1451.02 L2303.66 1451.02 L2303.66 1454.96 L2289.58 1454.96 L2289.58 1463.43 Q2290.6 1463.08 2291.62 1462.92 Q2292.64 1462.73 2293.66 1462.73 Q2299.45 1462.73 2302.82 1465.9 Q2306.2 1469.08 2306.2 1474.49 Q2306.2 1480.07 2302.73 1483.17 Q2299.26 1486.25 2292.94 1486.25 Q2290.76 1486.25 2288.5 1485.88 Q2286.25 1485.51 2283.84 1484.77 L2283.84 1480.07 Q2285.93 1481.2 2288.15 1481.76 Q2290.37 1482.32 2292.85 1482.32 Q2296.85 1482.32 2299.19 1480.21 Q2301.53 1478.1 2301.53 1474.49 Q2301.53 1470.88 2299.19 1468.77 Q2296.85 1466.67 2292.85 1466.67 Q2290.97 1466.67 2289.1 1467.08 Q2287.25 1467.5 2285.3 1468.38 L2285.3 1451.02 Z\" fill=\"#000000\" fill-rule=\"nonzero\" fill-opacity=\"1\" /><path clip-path=\"url(#clip270)\" d=\"M1007.33 1545.76 Q1009.4 1546.46 1011.34 1548.76 Q1013.32 1551.05 1015.29 1555.06 L1021.82 1568.04 L1014.91 1568.04 L1008.83 1555.85 Q1006.47 1551.08 1004.25 1549.52 Q1002.05 1547.96 998.231 1547.96 L991.229 1547.96 L991.229 1568.04 L984.799 1568.04 L984.799 1520.52 L999.313 1520.52 Q1007.46 1520.52 1011.47 1523.93 Q1015.48 1527.34 1015.48 1534.21 Q1015.48 1538.7 1013.38 1541.66 Q1011.31 1544.62 1007.33 1545.76 M991.229 1525.81 L991.229 1542.68 L999.313 1542.68 Q1003.96 1542.68 1006.32 1540.54 Q1008.7 1538.38 1008.7 1534.21 Q1008.7 1530.04 1006.32 1527.94 Q1003.96 1525.81 999.313 1525.81 L991.229 1525.81 Z\" fill=\"#000000\" fill-rule=\"nonzero\" fill-opacity=\"1\" /><path clip-path=\"url(#clip270)\" d=\"M1029.84 1532.4 L1035.69 1532.4 L1035.69 1568.04 L1029.84 1568.04 L1029.84 1532.4 M1029.84 1518.52 L1035.69 1518.52 L1035.69 1525.93 L1029.84 1525.93 L1029.84 1518.52 Z\" fill=\"#000000\" fill-rule=\"nonzero\" fill-opacity=\"1\" /><path clip-path=\"url(#clip270)\" d=\"M1070.67 1533.45 L1070.67 1538.98 Q1068.19 1537.71 1065.52 1537.07 Q1062.84 1536.44 1059.98 1536.44 Q1055.62 1536.44 1053.42 1537.77 Q1051.26 1539.11 1051.26 1541.79 Q1051.26 1543.82 1052.82 1545 Q1054.38 1546.15 1059.09 1547.2 L1061.09 1547.64 Q1067.33 1548.98 1069.94 1551.43 Q1072.58 1553.85 1072.58 1558.21 Q1072.58 1563.17 1068.64 1566.07 Q1064.72 1568.97 1057.85 1568.97 Q1054.98 1568.97 1051.86 1568.39 Q1048.77 1567.85 1045.34 1566.74 L1045.34 1560.69 Q1048.58 1562.38 1051.73 1563.24 Q1054.89 1564.07 1057.97 1564.07 Q1062.11 1564.07 1064.34 1562.66 Q1066.57 1561.23 1066.57 1558.65 Q1066.57 1556.27 1064.94 1554.99 Q1063.35 1553.72 1057.91 1552.54 L1055.87 1552.07 Q1050.43 1550.92 1048.01 1548.56 Q1045.59 1546.18 1045.59 1542.04 Q1045.59 1537.01 1049.16 1534.27 Q1052.72 1531.54 1059.28 1531.54 Q1062.52 1531.54 1065.39 1532.01 Q1068.25 1532.49 1070.67 1533.45 Z\" fill=\"#000000\" fill-rule=\"nonzero\" fill-opacity=\"1\" /><path clip-path=\"url(#clip270)\" d=\"M1081.69 1518.52 L1087.57 1518.52 L1087.57 1547.77 L1105.05 1532.4 L1112.53 1532.4 L1093.62 1549.07 L1113.32 1568.04 L1105.68 1568.04 L1087.57 1550.63 L1087.57 1568.04 L1081.69 1568.04 L1081.69 1518.52 Z\" fill=\"#000000\" fill-rule=\"nonzero\" fill-opacity=\"1\" /><path clip-path=\"url(#clip270)\" d=\"M1163.1 1533.45 L1163.1 1538.98 Q1160.62 1537.71 1157.95 1537.07 Q1155.27 1536.44 1152.41 1536.44 Q1148.05 1536.44 1145.85 1537.77 Q1143.69 1539.11 1143.69 1541.79 Q1143.69 1543.82 1145.25 1545 Q1146.81 1546.15 1151.52 1547.2 L1153.52 1547.64 Q1159.76 1548.98 1162.37 1551.43 Q1165.01 1553.85 1165.01 1558.21 Q1165.01 1563.17 1161.07 1566.07 Q1157.15 1568.97 1150.28 1568.97 Q1147.41 1568.97 1144.29 1568.39 Q1141.2 1567.85 1137.77 1566.74 L1137.77 1560.69 Q1141.01 1562.38 1144.16 1563.24 Q1147.32 1564.07 1150.4 1564.07 Q1154.54 1564.07 1156.77 1562.66 Q1159 1561.23 1159 1558.65 Q1159 1556.27 1157.37 1554.99 Q1155.78 1553.72 1150.34 1552.54 L1148.3 1552.07 Q1142.86 1550.92 1140.44 1548.56 Q1138.02 1546.18 1138.02 1542.04 Q1138.02 1537.01 1141.59 1534.27 Q1145.15 1531.54 1151.71 1531.54 Q1154.95 1531.54 1157.82 1532.01 Q1160.68 1532.49 1163.1 1533.45 Z\" fill=\"#000000\" fill-rule=\"nonzero\" fill-opacity=\"1\" /><path clip-path=\"url(#clip270)\" d=\"M1177.84 1550.25 Q1177.84 1556.71 1180.48 1560.4 Q1183.15 1564.07 1187.8 1564.07 Q1192.45 1564.07 1195.12 1560.4 Q1197.8 1556.71 1197.8 1550.25 Q1197.8 1543.79 1195.12 1540.13 Q1192.45 1536.44 1187.8 1536.44 Q1183.15 1536.44 1180.48 1540.13 Q1177.84 1543.79 1177.84 1550.25 M1197.8 1562.7 Q1195.95 1565.88 1193.12 1567.44 Q1190.32 1568.97 1186.37 1568.97 Q1179.91 1568.97 1175.83 1563.81 Q1171.79 1558.65 1171.79 1550.25 Q1171.79 1541.85 1175.83 1536.69 Q1179.91 1531.54 1186.37 1531.54 Q1190.32 1531.54 1193.12 1533.1 Q1195.95 1534.62 1197.8 1537.81 L1197.8 1532.4 L1203.65 1532.4 L1203.65 1581.6 L1197.8 1581.6 L1197.8 1562.7 Z\" fill=\"#000000\" fill-rule=\"nonzero\" fill-opacity=\"1\" /><path clip-path=\"url(#clip270)\" d=\"M1236.37 1537.87 Q1235.39 1537.3 1234.21 1537.04 Q1233.06 1536.76 1231.66 1536.76 Q1226.7 1536.76 1224.02 1540 Q1221.38 1543.22 1221.38 1549.27 L1221.38 1568.04 L1215.49 1568.04 L1215.49 1532.4 L1221.38 1532.4 L1221.38 1537.93 Q1223.23 1534.69 1226.19 1533.13 Q1229.15 1531.54 1233.38 1531.54 Q1233.98 1531.54 1234.72 1531.63 Q1235.45 1531.7 1236.34 1531.85 L1236.37 1537.87 Z\" fill=\"#000000\" fill-rule=\"nonzero\" fill-opacity=\"1\" /><path clip-path=\"url(#clip270)\" d=\"M1248.31 1522.27 L1248.31 1532.4 L1260.37 1532.4 L1260.37 1536.95 L1248.31 1536.95 L1248.31 1556.3 Q1248.31 1560.66 1249.49 1561.9 Q1250.69 1563.14 1254.36 1563.14 L1260.37 1563.14 L1260.37 1568.04 L1254.36 1568.04 Q1247.58 1568.04 1245 1565.53 Q1242.42 1562.98 1242.42 1556.3 L1242.42 1536.95 L1238.12 1536.95 L1238.12 1532.4 L1242.42 1532.4 L1242.42 1522.27 L1248.31 1522.27 Z\" fill=\"#000000\" fill-rule=\"nonzero\" fill-opacity=\"1\" /><path clip-path=\"url(#clip270)\" d=\"M1282.14 1518.58 Q1277.88 1525.9 1275.81 1533.06 Q1273.74 1540.23 1273.74 1547.58 Q1273.74 1554.93 1275.81 1562.16 Q1277.91 1569.35 1282.14 1576.64 L1277.05 1576.64 Q1272.27 1569.16 1269.89 1561.93 Q1267.53 1554.71 1267.53 1547.58 Q1267.53 1540.48 1269.89 1533.29 Q1272.24 1526.09 1277.05 1518.58 L1282.14 1518.58 Z\" fill=\"#000000\" fill-rule=\"nonzero\" fill-opacity=\"1\" /><path clip-path=\"url(#clip270)\" d=\"M1289.3 1532.4 L1295.51 1532.4 L1306.65 1562.31 L1317.79 1532.4 L1324 1532.4 L1310.63 1568.04 L1302.67 1568.04 L1289.3 1532.4 Z\" fill=\"#000000\" fill-rule=\"nonzero\" fill-opacity=\"1\" /><path clip-path=\"url(#clip270)\" d=\"M1348.28 1550.12 Q1341.18 1550.12 1338.45 1551.75 Q1335.71 1553.37 1335.71 1557.29 Q1335.71 1560.4 1337.75 1562.25 Q1339.81 1564.07 1343.35 1564.07 Q1348.22 1564.07 1351.15 1560.63 Q1354.11 1557.16 1354.11 1551.43 L1354.11 1550.12 L1348.28 1550.12 M1359.96 1547.71 L1359.96 1568.04 L1354.11 1568.04 L1354.11 1562.63 Q1352.1 1565.88 1349.11 1567.44 Q1346.12 1568.97 1341.79 1568.97 Q1336.31 1568.97 1333.07 1565.91 Q1329.85 1562.82 1329.85 1557.67 Q1329.85 1551.65 1333.86 1548.6 Q1337.91 1545.54 1345.89 1545.54 L1354.11 1545.54 L1354.11 1544.97 Q1354.11 1540.93 1351.43 1538.73 Q1348.79 1536.5 1343.98 1536.5 Q1340.93 1536.5 1338.03 1537.23 Q1335.14 1537.97 1332.46 1539.43 L1332.46 1534.02 Q1335.68 1532.78 1338.7 1532.17 Q1341.72 1531.54 1344.59 1531.54 Q1352.32 1531.54 1356.14 1535.55 Q1359.96 1539.56 1359.96 1547.71 Z\" fill=\"#000000\" fill-rule=\"nonzero\" fill-opacity=\"1\" /><path clip-path=\"url(#clip270)\" d=\"M1392.68 1537.87 Q1391.7 1537.3 1390.52 1537.04 Q1389.37 1536.76 1387.97 1536.76 Q1383.01 1536.76 1380.33 1540 Q1377.69 1543.22 1377.69 1549.27 L1377.69 1568.04 L1371.8 1568.04 L1371.8 1532.4 L1377.69 1532.4 L1377.69 1537.93 Q1379.54 1534.69 1382.5 1533.13 Q1385.46 1531.54 1389.69 1531.54 Q1390.29 1531.54 1391.03 1531.63 Q1391.76 1531.7 1392.65 1531.85 L1392.68 1537.87 Z\" fill=\"#000000\" fill-rule=\"nonzero\" fill-opacity=\"1\" /><path clip-path=\"url(#clip270)\" d=\"M1398.82 1532.4 L1404.68 1532.4 L1404.68 1568.04 L1398.82 1568.04 L1398.82 1532.4 M1398.82 1518.52 L1404.68 1518.52 L1404.68 1525.93 L1398.82 1525.93 L1398.82 1518.52 Z\" fill=\"#000000\" fill-rule=\"nonzero\" fill-opacity=\"1\" /><path clip-path=\"url(#clip270)\" d=\"M1433.14 1550.12 Q1426.04 1550.12 1423.3 1551.75 Q1420.56 1553.37 1420.56 1557.29 Q1420.56 1560.4 1422.6 1562.25 Q1424.67 1564.07 1428.2 1564.07 Q1433.07 1564.07 1436 1560.63 Q1438.96 1557.16 1438.96 1551.43 L1438.96 1550.12 L1433.14 1550.12 M1444.82 1547.71 L1444.82 1568.04 L1438.96 1568.04 L1438.96 1562.63 Q1436.96 1565.88 1433.96 1567.44 Q1430.97 1568.97 1426.64 1568.97 Q1421.17 1568.97 1417.92 1565.91 Q1414.71 1562.82 1414.71 1557.67 Q1414.71 1551.65 1418.72 1548.6 Q1422.76 1545.54 1430.75 1545.54 L1438.96 1545.54 L1438.96 1544.97 Q1438.96 1540.93 1436.29 1538.73 Q1433.65 1536.5 1428.84 1536.5 Q1425.78 1536.5 1422.89 1537.23 Q1419.99 1537.97 1417.32 1539.43 L1417.32 1534.02 Q1420.53 1532.78 1423.56 1532.17 Q1426.58 1531.54 1429.44 1531.54 Q1437.18 1531.54 1441 1535.55 Q1444.82 1539.56 1444.82 1547.71 Z\" fill=\"#000000\" fill-rule=\"nonzero\" fill-opacity=\"1\" /><path clip-path=\"url(#clip270)\" d=\"M1486.51 1546.53 L1486.51 1568.04 L1480.66 1568.04 L1480.66 1546.72 Q1480.66 1541.66 1478.68 1539.14 Q1476.71 1536.63 1472.76 1536.63 Q1468.02 1536.63 1465.28 1539.65 Q1462.55 1542.68 1462.55 1547.9 L1462.55 1568.04 L1456.66 1568.04 L1456.66 1532.4 L1462.55 1532.4 L1462.55 1537.93 Q1464.65 1534.72 1467.48 1533.13 Q1470.34 1531.54 1474.07 1531.54 Q1480.21 1531.54 1483.36 1535.36 Q1486.51 1539.14 1486.51 1546.53 Z\" fill=\"#000000\" fill-rule=\"nonzero\" fill-opacity=\"1\" /><path clip-path=\"url(#clip270)\" d=\"M1523.85 1533.76 L1523.85 1539.24 Q1521.36 1537.87 1518.85 1537.2 Q1516.37 1536.5 1513.82 1536.5 Q1508.12 1536.5 1504.97 1540.13 Q1501.82 1543.73 1501.82 1550.25 Q1501.82 1556.78 1504.97 1560.4 Q1508.12 1564 1513.82 1564 Q1516.37 1564 1518.85 1563.33 Q1521.36 1562.63 1523.85 1561.26 L1523.85 1566.68 Q1521.4 1567.82 1518.75 1568.39 Q1516.14 1568.97 1513.18 1568.97 Q1505.13 1568.97 1500.39 1563.91 Q1495.65 1558.85 1495.65 1550.25 Q1495.65 1541.53 1500.42 1536.53 Q1505.23 1531.54 1513.57 1531.54 Q1516.27 1531.54 1518.85 1532.11 Q1521.43 1532.65 1523.85 1533.76 Z\" fill=\"#000000\" fill-rule=\"nonzero\" fill-opacity=\"1\" /><path clip-path=\"url(#clip270)\" d=\"M1564.52 1548.76 L1564.52 1551.62 L1537.6 1551.62 Q1537.98 1557.67 1541.23 1560.85 Q1544.5 1564 1550.33 1564 Q1553.7 1564 1556.85 1563.17 Q1560.04 1562.35 1563.16 1560.69 L1563.16 1566.23 Q1560 1567.57 1556.69 1568.27 Q1553.38 1568.97 1549.98 1568.97 Q1541.45 1568.97 1536.45 1564 Q1531.49 1559.04 1531.49 1550.57 Q1531.49 1541.82 1536.2 1536.69 Q1540.94 1531.54 1548.96 1531.54 Q1556.15 1531.54 1560.32 1536.18 Q1564.52 1540.8 1564.52 1548.76 M1558.67 1547.04 Q1558.6 1542.23 1555.96 1539.37 Q1553.35 1536.5 1549.02 1536.5 Q1544.12 1536.5 1541.16 1539.27 Q1538.23 1542.04 1537.79 1547.07 L1558.67 1547.04 Z\" fill=\"#000000\" fill-rule=\"nonzero\" fill-opacity=\"1\" /><path clip-path=\"url(#clip270)\" d=\"M1573.21 1518.58 L1578.31 1518.58 Q1583.08 1526.09 1585.44 1533.29 Q1587.82 1540.48 1587.82 1547.58 Q1587.82 1554.71 1585.44 1561.93 Q1583.08 1569.16 1578.31 1576.64 L1573.21 1576.64 Q1577.45 1569.35 1579.52 1562.16 Q1581.62 1554.93 1581.62 1547.58 Q1581.62 1540.23 1579.52 1533.06 Q1577.45 1525.9 1573.21 1518.58 Z\" fill=\"#000000\" fill-rule=\"nonzero\" fill-opacity=\"1\" /><polyline clip-path=\"url(#clip270)\" style=\"stroke:#000000; stroke-linecap:round; stroke-linejoin:round; stroke-width:4; stroke-opacity:1; fill:none\" points=\"219.866,1423.18 219.866,47.2441 \"/>\n",
       "<polyline clip-path=\"url(#clip270)\" style=\"stroke:#000000; stroke-linecap:round; stroke-linejoin:round; stroke-width:4; stroke-opacity:1; fill:none\" points=\"2352.76,1423.18 2352.76,47.2441 \"/>\n",
       "<polyline clip-path=\"url(#clip270)\" style=\"stroke:#000000; stroke-linecap:round; stroke-linejoin:round; stroke-width:4; stroke-opacity:1; fill:none\" points=\"219.866,1423.18 238.764,1423.18 \"/>\n",
       "<polyline clip-path=\"url(#clip270)\" style=\"stroke:#000000; stroke-linecap:round; stroke-linejoin:round; stroke-width:4; stroke-opacity:1; fill:none\" points=\"219.866,1138.07 238.764,1138.07 \"/>\n",
       "<polyline clip-path=\"url(#clip270)\" style=\"stroke:#000000; stroke-linecap:round; stroke-linejoin:round; stroke-width:4; stroke-opacity:1; fill:none\" points=\"219.866,852.959 238.764,852.959 \"/>\n",
       "<polyline clip-path=\"url(#clip270)\" style=\"stroke:#000000; stroke-linecap:round; stroke-linejoin:round; stroke-width:4; stroke-opacity:1; fill:none\" points=\"219.866,567.849 238.764,567.849 \"/>\n",
       "<polyline clip-path=\"url(#clip270)\" style=\"stroke:#000000; stroke-linecap:round; stroke-linejoin:round; stroke-width:4; stroke-opacity:1; fill:none\" points=\"219.866,282.738 238.764,282.738 \"/>\n",
       "<polyline clip-path=\"url(#clip270)\" style=\"stroke:#000000; stroke-linecap:round; stroke-linejoin:round; stroke-width:4; stroke-opacity:1; fill:none\" points=\"2352.76,1423.18 2333.86,1423.18 \"/>\n",
       "<polyline clip-path=\"url(#clip270)\" style=\"stroke:#000000; stroke-linecap:round; stroke-linejoin:round; stroke-width:4; stroke-opacity:1; fill:none\" points=\"2352.76,1138.07 2333.86,1138.07 \"/>\n",
       "<polyline clip-path=\"url(#clip270)\" style=\"stroke:#000000; stroke-linecap:round; stroke-linejoin:round; stroke-width:4; stroke-opacity:1; fill:none\" points=\"2352.76,852.959 2333.86,852.959 \"/>\n",
       "<polyline clip-path=\"url(#clip270)\" style=\"stroke:#000000; stroke-linecap:round; stroke-linejoin:round; stroke-width:4; stroke-opacity:1; fill:none\" points=\"2352.76,567.849 2333.86,567.849 \"/>\n",
       "<polyline clip-path=\"url(#clip270)\" style=\"stroke:#000000; stroke-linecap:round; stroke-linejoin:round; stroke-width:4; stroke-opacity:1; fill:none\" points=\"2352.76,282.738 2333.86,282.738 \"/>\n",
       "<path clip-path=\"url(#clip270)\" d=\"M126.691 1408.98 Q123.08 1408.98 121.251 1412.54 Q119.445 1416.08 119.445 1423.21 Q119.445 1430.32 121.251 1433.89 Q123.08 1437.43 126.691 1437.43 Q130.325 1437.43 132.13 1433.89 Q133.959 1430.32 133.959 1423.21 Q133.959 1416.08 132.13 1412.54 Q130.325 1408.98 126.691 1408.98 M126.691 1405.27 Q132.501 1405.27 135.556 1409.88 Q138.635 1414.46 138.635 1423.21 Q138.635 1431.94 135.556 1436.55 Q132.501 1441.13 126.691 1441.13 Q120.88 1441.13 117.802 1436.55 Q114.746 1431.94 114.746 1423.21 Q114.746 1414.46 117.802 1409.88 Q120.88 1405.27 126.691 1405.27 Z\" fill=\"#000000\" fill-rule=\"nonzero\" fill-opacity=\"1\" /><path clip-path=\"url(#clip270)\" d=\"M146.853 1434.58 L151.737 1434.58 L151.737 1440.46 L146.853 1440.46 L146.853 1434.58 Z\" fill=\"#000000\" fill-rule=\"nonzero\" fill-opacity=\"1\" /><path clip-path=\"url(#clip270)\" d=\"M171.922 1408.98 Q168.311 1408.98 166.482 1412.54 Q164.677 1416.08 164.677 1423.21 Q164.677 1430.32 166.482 1433.89 Q168.311 1437.43 171.922 1437.43 Q175.556 1437.43 177.362 1433.89 Q179.19 1430.32 179.19 1423.21 Q179.19 1416.08 177.362 1412.54 Q175.556 1408.98 171.922 1408.98 M171.922 1405.27 Q177.732 1405.27 180.788 1409.88 Q183.866 1414.46 183.866 1423.21 Q183.866 1431.94 180.788 1436.55 Q177.732 1441.13 171.922 1441.13 Q166.112 1441.13 163.033 1436.55 Q159.978 1431.94 159.978 1423.21 Q159.978 1414.46 163.033 1409.88 Q166.112 1405.27 171.922 1405.27 Z\" fill=\"#000000\" fill-rule=\"nonzero\" fill-opacity=\"1\" /><path clip-path=\"url(#clip270)\" d=\"M127.917 1123.87 Q124.306 1123.87 122.478 1127.43 Q120.672 1130.97 120.672 1138.1 Q120.672 1145.21 122.478 1148.78 Q124.306 1152.32 127.917 1152.32 Q131.552 1152.32 133.357 1148.78 Q135.186 1145.21 135.186 1138.1 Q135.186 1130.97 133.357 1127.43 Q131.552 1123.87 127.917 1123.87 M127.917 1120.16 Q133.728 1120.16 136.783 1124.77 Q139.862 1129.35 139.862 1138.1 Q139.862 1146.83 136.783 1151.44 Q133.728 1156.02 127.917 1156.02 Q122.107 1156.02 119.029 1151.44 Q115.973 1146.83 115.973 1138.1 Q115.973 1129.35 119.029 1124.77 Q122.107 1120.16 127.917 1120.16 Z\" fill=\"#000000\" fill-rule=\"nonzero\" fill-opacity=\"1\" /><path clip-path=\"url(#clip270)\" d=\"M148.079 1149.47 L152.964 1149.47 L152.964 1155.35 L148.079 1155.35 L148.079 1149.47 Z\" fill=\"#000000\" fill-rule=\"nonzero\" fill-opacity=\"1\" /><path clip-path=\"url(#clip270)\" d=\"M163.959 1151.41 L171.598 1151.41 L171.598 1125.05 L163.288 1126.72 L163.288 1122.46 L171.552 1120.79 L176.227 1120.79 L176.227 1151.41 L183.866 1151.41 L183.866 1155.35 L163.959 1155.35 L163.959 1151.41 Z\" fill=\"#000000\" fill-rule=\"nonzero\" fill-opacity=\"1\" /><path clip-path=\"url(#clip270)\" d=\"M128.288 838.758 Q124.677 838.758 122.848 842.322 Q121.043 845.864 121.043 852.994 Q121.043 860.1 122.848 863.665 Q124.677 867.207 128.288 867.207 Q131.922 867.207 133.728 863.665 Q135.556 860.1 135.556 852.994 Q135.556 845.864 133.728 842.322 Q131.922 838.758 128.288 838.758 M128.288 835.054 Q134.098 835.054 137.154 839.66 Q140.232 844.244 140.232 852.994 Q140.232 861.721 137.154 866.327 Q134.098 870.91 128.288 870.91 Q122.478 870.91 119.399 866.327 Q116.343 861.721 116.343 852.994 Q116.343 844.244 119.399 839.66 Q122.478 835.054 128.288 835.054 Z\" fill=\"#000000\" fill-rule=\"nonzero\" fill-opacity=\"1\" /><path clip-path=\"url(#clip270)\" d=\"M148.45 864.359 L153.334 864.359 L153.334 870.239 L148.45 870.239 L148.45 864.359 Z\" fill=\"#000000\" fill-rule=\"nonzero\" fill-opacity=\"1\" /><path clip-path=\"url(#clip270)\" d=\"M167.547 866.304 L183.866 866.304 L183.866 870.239 L161.922 870.239 L161.922 866.304 Q164.584 863.549 169.167 858.92 Q173.774 854.267 174.954 852.924 Q177.2 850.401 178.079 848.665 Q178.982 846.906 178.982 845.216 Q178.982 842.461 177.038 840.725 Q175.116 838.989 172.014 838.989 Q169.815 838.989 167.362 839.753 Q164.931 840.517 162.153 842.068 L162.153 837.346 Q164.977 836.211 167.431 835.633 Q169.885 835.054 171.922 835.054 Q177.292 835.054 180.487 837.739 Q183.681 840.424 183.681 844.915 Q183.681 847.045 182.871 848.966 Q182.084 850.864 179.977 853.457 Q179.399 854.128 176.297 857.346 Q173.195 860.54 167.547 866.304 Z\" fill=\"#000000\" fill-rule=\"nonzero\" fill-opacity=\"1\" /><path clip-path=\"url(#clip270)\" d=\"M127.339 553.647 Q123.728 553.647 121.899 557.212 Q120.093 560.754 120.093 567.883 Q120.093 574.99 121.899 578.555 Q123.728 582.096 127.339 582.096 Q130.973 582.096 132.779 578.555 Q134.607 574.99 134.607 567.883 Q134.607 560.754 132.779 557.212 Q130.973 553.647 127.339 553.647 M127.339 549.944 Q133.149 549.944 136.204 554.55 Q139.283 559.133 139.283 567.883 Q139.283 576.61 136.204 581.217 Q133.149 585.8 127.339 585.8 Q121.529 585.8 118.45 581.217 Q115.394 576.61 115.394 567.883 Q115.394 559.133 118.45 554.55 Q121.529 549.944 127.339 549.944 Z\" fill=\"#000000\" fill-rule=\"nonzero\" fill-opacity=\"1\" /><path clip-path=\"url(#clip270)\" d=\"M147.501 579.249 L152.385 579.249 L152.385 585.129 L147.501 585.129 L147.501 579.249 Z\" fill=\"#000000\" fill-rule=\"nonzero\" fill-opacity=\"1\" /><path clip-path=\"url(#clip270)\" d=\"M176.737 566.494 Q180.093 567.212 181.968 569.481 Q183.866 571.749 183.866 575.082 Q183.866 580.198 180.348 582.999 Q176.829 585.8 170.348 585.8 Q168.172 585.8 165.857 585.36 Q163.565 584.943 161.112 584.087 L161.112 579.573 Q163.056 580.707 165.371 581.286 Q167.686 581.865 170.209 581.865 Q174.607 581.865 176.899 580.129 Q179.214 578.392 179.214 575.082 Q179.214 572.027 177.061 570.314 Q174.931 568.578 171.112 568.578 L167.084 568.578 L167.084 564.735 L171.297 564.735 Q174.746 564.735 176.575 563.369 Q178.403 561.981 178.403 559.388 Q178.403 556.726 176.505 555.314 Q174.63 553.879 171.112 553.879 Q169.19 553.879 166.991 554.295 Q164.792 554.712 162.153 555.592 L162.153 551.425 Q164.815 550.684 167.13 550.314 Q169.468 549.944 171.528 549.944 Q176.852 549.944 179.954 552.374 Q183.056 554.782 183.056 558.902 Q183.056 561.772 181.413 563.763 Q179.769 565.731 176.737 566.494 Z\" fill=\"#000000\" fill-rule=\"nonzero\" fill-opacity=\"1\" /><path clip-path=\"url(#clip270)\" d=\"M126.205 268.537 Q122.593 268.537 120.765 272.102 Q118.959 275.643 118.959 282.773 Q118.959 289.879 120.765 293.444 Q122.593 296.986 126.205 296.986 Q129.839 296.986 131.644 293.444 Q133.473 289.879 133.473 282.773 Q133.473 275.643 131.644 272.102 Q129.839 268.537 126.205 268.537 M126.205 264.833 Q132.015 264.833 135.07 269.44 Q138.149 274.023 138.149 282.773 Q138.149 291.5 135.07 296.106 Q132.015 300.689 126.205 300.689 Q120.394 300.689 117.316 296.106 Q114.26 291.5 114.26 282.773 Q114.26 274.023 117.316 269.44 Q120.394 264.833 126.205 264.833 Z\" fill=\"#000000\" fill-rule=\"nonzero\" fill-opacity=\"1\" /><path clip-path=\"url(#clip270)\" d=\"M146.366 294.139 L151.251 294.139 L151.251 300.018 L146.366 300.018 L146.366 294.139 Z\" fill=\"#000000\" fill-rule=\"nonzero\" fill-opacity=\"1\" /><path clip-path=\"url(#clip270)\" d=\"M174.283 269.532 L162.477 287.981 L174.283 287.981 L174.283 269.532 M173.056 265.458 L178.936 265.458 L178.936 287.981 L183.866 287.981 L183.866 291.87 L178.936 291.87 L178.936 300.018 L174.283 300.018 L174.283 291.87 L158.681 291.87 L158.681 287.356 L173.056 265.458 Z\" fill=\"#000000\" fill-rule=\"nonzero\" fill-opacity=\"1\" /><path clip-path=\"url(#clip270)\" d=\"M21.7677 1140.87 L39.6235 1140.87 L39.6235 1132.78 Q39.6235 1128.29 37.3 1125.84 Q34.9765 1123.39 30.6797 1123.39 Q26.4147 1123.39 24.0912 1125.84 Q21.7677 1128.29 21.7677 1132.78 L21.7677 1140.87 M16.4842 1147.3 L16.4842 1132.78 Q16.4842 1124.79 20.1126 1120.72 Q23.7092 1116.61 30.6797 1116.61 Q37.7138 1116.61 41.3104 1120.72 Q44.907 1124.79 44.907 1132.78 L44.907 1140.87 L64.0042 1140.87 L64.0042 1147.3 L16.4842 1147.3 Z\" fill=\"#000000\" fill-rule=\"nonzero\" fill-opacity=\"1\" /><path clip-path=\"url(#clip270)\" d=\"M32.4621 1096.75 Q32.4621 1101.46 36.1542 1104.2 Q39.8145 1106.94 46.212 1106.94 Q52.6095 1106.94 56.3017 1104.23 Q59.9619 1101.49 59.9619 1096.75 Q59.9619 1092.07 56.2698 1089.34 Q52.5777 1086.6 46.212 1086.6 Q39.8781 1086.6 36.186 1089.34 Q32.4621 1092.07 32.4621 1096.75 M27.4968 1096.75 Q27.4968 1089.11 32.4621 1084.75 Q37.4273 1080.39 46.212 1080.39 Q54.9649 1080.39 59.9619 1084.75 Q64.9272 1089.11 64.9272 1096.75 Q64.9272 1104.42 59.9619 1108.78 Q54.9649 1113.11 46.212 1113.11 Q37.4273 1113.11 32.4621 1108.78 Q27.4968 1104.42 27.4968 1096.75 Z\" fill=\"#000000\" fill-rule=\"nonzero\" fill-opacity=\"1\" /><path clip-path=\"url(#clip270)\" d=\"M33.8307 1050.03 Q33.2578 1051.01 33.0032 1052.19 Q32.7167 1053.34 32.7167 1054.74 Q32.7167 1059.7 35.9632 1062.38 Q39.1779 1065.02 45.2253 1065.02 L64.0042 1065.02 L64.0042 1070.91 L28.3562 1070.91 L28.3562 1065.02 L33.8944 1065.02 Q30.6479 1063.17 29.0883 1060.21 Q27.4968 1057.25 27.4968 1053.02 Q27.4968 1052.42 27.5923 1051.68 Q27.656 1050.95 27.8151 1050.06 L33.8307 1050.03 Z\" fill=\"#000000\" fill-rule=\"nonzero\" fill-opacity=\"1\" /><path clip-path=\"url(#clip270)\" d=\"M18.2347 1038.09 L28.3562 1038.09 L28.3562 1026.03 L32.9077 1026.03 L32.9077 1038.09 L52.2594 1038.09 Q56.6199 1038.09 57.8613 1036.91 Q59.1026 1035.71 59.1026 1032.04 L59.1026 1026.03 L64.0042 1026.03 L64.0042 1032.04 Q64.0042 1038.82 61.4897 1041.4 Q58.9434 1043.98 52.2594 1043.98 L32.9077 1043.98 L32.9077 1048.28 L28.3562 1048.28 L28.3562 1043.98 L18.2347 1043.98 L18.2347 1038.09 Z\" fill=\"#000000\" fill-rule=\"nonzero\" fill-opacity=\"1\" /><path clip-path=\"url(#clip270)\" d=\"M14.479 1000.28 L19.3487 1000.28 L19.3487 1005.88 Q19.3487 1009.03 20.6219 1010.27 Q21.895 1011.48 25.2052 1011.48 L28.3562 1011.48 L28.3562 1001.84 L32.9077 1001.84 L32.9077 1011.48 L64.0042 1011.48 L64.0042 1017.37 L32.9077 1017.37 L32.9077 1022.97 L28.3562 1022.97 L28.3562 1017.37 L25.8736 1017.37 Q19.9216 1017.37 17.2162 1014.6 Q14.479 1011.83 14.479 1005.82 L14.479 1000.28 Z\" fill=\"#000000\" fill-rule=\"nonzero\" fill-opacity=\"1\" /><path clip-path=\"url(#clip270)\" d=\"M32.4621 981.565 Q32.4621 986.275 36.1542 989.013 Q39.8145 991.75 46.212 991.75 Q52.6095 991.75 56.3017 989.045 Q59.9619 986.307 59.9619 981.565 Q59.9619 976.886 56.2698 974.149 Q52.5777 971.412 46.212 971.412 Q39.8781 971.412 36.186 974.149 Q32.4621 976.886 32.4621 981.565 M27.4968 981.565 Q27.4968 973.926 32.4621 969.565 Q37.4273 965.205 46.212 965.205 Q54.9649 965.205 59.9619 969.565 Q64.9272 973.926 64.9272 981.565 Q64.9272 989.235 59.9619 993.596 Q54.9649 997.925 46.212 997.925 Q37.4273 997.925 32.4621 993.596 Q27.4968 989.235 27.4968 981.565 Z\" fill=\"#000000\" fill-rule=\"nonzero\" fill-opacity=\"1\" /><path clip-path=\"url(#clip270)\" d=\"M14.479 955.497 L14.479 949.641 L64.0042 949.641 L64.0042 955.497 L14.479 955.497 Z\" fill=\"#000000\" fill-rule=\"nonzero\" fill-opacity=\"1\" /><path clip-path=\"url(#clip270)\" d=\"M28.3562 937.387 L28.3562 931.53 L64.0042 931.53 L64.0042 937.387 L28.3562 937.387 M14.479 937.387 L14.479 931.53 L21.895 931.53 L21.895 937.387 L14.479 937.387 Z\" fill=\"#000000\" fill-rule=\"nonzero\" fill-opacity=\"1\" /><path clip-path=\"url(#clip270)\" d=\"M32.4621 905.463 Q32.4621 910.173 36.1542 912.911 Q39.8145 915.648 46.212 915.648 Q52.6095 915.648 56.3017 912.942 Q59.9619 910.205 59.9619 905.463 Q59.9619 900.784 56.2698 898.047 Q52.5777 895.309 46.212 895.309 Q39.8781 895.309 36.186 898.047 Q32.4621 900.784 32.4621 905.463 M27.4968 905.463 Q27.4968 897.824 32.4621 893.463 Q37.4273 889.103 46.212 889.103 Q54.9649 889.103 59.9619 893.463 Q64.9272 897.824 64.9272 905.463 Q64.9272 913.133 59.9619 917.494 Q54.9649 921.823 46.212 921.823 Q37.4273 921.823 32.4621 917.494 Q27.4968 913.133 27.4968 905.463 Z\" fill=\"#000000\" fill-rule=\"nonzero\" fill-opacity=\"1\" /><path clip-path=\"url(#clip270)\" d=\"M14.479 858.675 L14.479 852.818 L64.0042 852.818 L64.0042 858.675 L14.479 858.675 Z\" fill=\"#000000\" fill-rule=\"nonzero\" fill-opacity=\"1\" /><path clip-path=\"url(#clip270)\" d=\"M32.4621 826.751 Q32.4621 831.461 36.1542 834.199 Q39.8145 836.936 46.212 836.936 Q52.6095 836.936 56.3017 834.231 Q59.9619 831.493 59.9619 826.751 Q59.9619 822.072 56.2698 819.335 Q52.5777 816.598 46.212 816.598 Q39.8781 816.598 36.186 819.335 Q32.4621 822.072 32.4621 826.751 M27.4968 826.751 Q27.4968 819.112 32.4621 814.751 Q37.4273 810.391 46.212 810.391 Q54.9649 810.391 59.9619 814.751 Q64.9272 819.112 64.9272 826.751 Q64.9272 834.422 59.9619 838.782 Q54.9649 843.111 46.212 843.111 Q37.4273 843.111 32.4621 838.782 Q27.4968 834.422 27.4968 826.751 Z\" fill=\"#000000\" fill-rule=\"nonzero\" fill-opacity=\"1\" /><path clip-path=\"url(#clip270)\" d=\"M45.7664 777.226 Q39.4007 777.226 35.8996 779.867 Q32.3984 782.477 32.3984 787.22 Q32.3984 791.93 35.8996 794.572 Q39.4007 797.182 45.7664 797.182 Q52.1003 797.182 55.6014 794.572 Q59.1026 791.93 59.1026 787.22 Q59.1026 782.477 55.6014 779.867 Q52.1003 777.226 45.7664 777.226 M59.58 771.369 Q68.683 771.369 73.1071 775.411 Q77.5631 779.454 77.5631 787.793 Q77.5631 790.88 77.0857 793.617 Q76.6401 796.355 75.6852 798.933 L69.9879 798.933 Q71.3884 796.355 72.0568 793.84 Q72.7252 791.326 72.7252 788.716 Q72.7252 782.955 69.7015 780.09 Q66.7096 777.226 60.6303 777.226 L57.7339 777.226 Q60.885 779.04 62.4446 781.873 Q64.0042 784.705 64.0042 788.652 Q64.0042 795.209 59.0071 799.219 Q54.01 803.23 45.7664 803.23 Q37.491 803.23 32.4939 799.219 Q27.4968 795.209 27.4968 788.652 Q27.4968 784.705 29.0564 781.873 Q30.616 779.04 33.7671 777.226 L28.3562 777.226 L28.3562 771.369 L59.58 771.369 Z\" fill=\"#000000\" fill-rule=\"nonzero\" fill-opacity=\"1\" /><path clip-path=\"url(#clip270)\" d=\"M45.7664 715.128 Q39.4007 715.128 35.8996 717.77 Q32.3984 720.38 32.3984 725.122 Q32.3984 729.833 35.8996 732.475 Q39.4007 735.085 45.7664 735.085 Q52.1003 735.085 55.6014 732.475 Q59.1026 729.833 59.1026 725.122 Q59.1026 720.38 55.6014 717.77 Q52.1003 715.128 45.7664 715.128 M59.58 709.272 Q68.683 709.272 73.1071 713.314 Q77.5631 717.356 77.5631 725.695 Q77.5631 728.783 77.0857 731.52 Q76.6401 734.257 75.6852 736.835 L69.9879 736.835 Q71.3884 734.257 72.0568 731.743 Q72.7252 729.228 72.7252 726.618 Q72.7252 720.857 69.7015 717.993 Q66.7096 715.128 60.6303 715.128 L57.7339 715.128 Q60.885 716.942 62.4446 719.775 Q64.0042 722.608 64.0042 726.555 Q64.0042 733.111 59.0071 737.122 Q54.01 741.132 45.7664 741.132 Q37.491 741.132 32.4939 737.122 Q27.4968 733.111 27.4968 726.555 Q27.4968 722.608 29.0564 719.775 Q30.616 716.942 33.7671 715.128 L28.3562 715.128 L28.3562 709.272 L59.58 709.272 Z\" fill=\"#000000\" fill-rule=\"nonzero\" fill-opacity=\"1\" /><path clip-path=\"url(#clip270)\" d=\"M33.8307 676.552 Q33.2578 677.539 33.0032 678.716 Q32.7167 679.862 32.7167 681.263 Q32.7167 686.228 35.9632 688.901 Q39.1779 691.543 45.2253 691.543 L64.0042 691.543 L64.0042 697.431 L28.3562 697.431 L28.3562 691.543 L33.8944 691.543 Q30.6479 689.697 29.0883 686.737 Q27.4968 683.777 27.4968 679.544 Q27.4968 678.939 27.5923 678.207 Q27.656 677.475 27.8151 676.584 L33.8307 676.552 Z\" fill=\"#000000\" fill-rule=\"nonzero\" fill-opacity=\"1\" /><path clip-path=\"url(#clip270)\" d=\"M32.4621 658.028 Q32.4621 662.738 36.1542 665.476 Q39.8145 668.213 46.212 668.213 Q52.6095 668.213 56.3017 665.507 Q59.9619 662.77 59.9619 658.028 Q59.9619 653.349 56.2698 650.612 Q52.5777 647.874 46.212 647.874 Q39.8781 647.874 36.186 650.612 Q32.4621 653.349 32.4621 658.028 M27.4968 658.028 Q27.4968 650.389 32.4621 646.028 Q37.4273 641.668 46.212 641.668 Q54.9649 641.668 59.9619 646.028 Q64.9272 650.389 64.9272 658.028 Q64.9272 665.698 59.9619 670.059 Q54.9649 674.388 46.212 674.388 Q37.4273 674.388 32.4621 670.059 Q27.4968 665.698 27.4968 658.028 Z\" fill=\"#000000\" fill-rule=\"nonzero\" fill-opacity=\"1\" /><path clip-path=\"url(#clip270)\" d=\"M28.3562 635.366 L28.3562 629.509 L56.1743 622.189 L28.3562 614.9 L28.3562 607.993 L56.1743 600.673 L28.3562 593.384 L28.3562 587.528 L64.0042 596.853 L64.0042 603.76 L34.7856 611.431 L64.0042 619.133 L64.0042 626.04 L28.3562 635.366 Z\" fill=\"#000000\" fill-rule=\"nonzero\" fill-opacity=\"1\" /><path clip-path=\"url(#clip270)\" d=\"M18.2347 572.855 L28.3562 572.855 L28.3562 560.792 L32.9077 560.792 L32.9077 572.855 L52.2594 572.855 Q56.6199 572.855 57.8613 571.677 Q59.1026 570.467 59.1026 566.807 L59.1026 560.792 L64.0042 560.792 L64.0042 566.807 Q64.0042 573.587 61.4897 576.165 Q58.9434 578.743 52.2594 578.743 L32.9077 578.743 L32.9077 583.04 L28.3562 583.04 L28.3562 578.743 L18.2347 578.743 L18.2347 572.855 Z\" fill=\"#000000\" fill-rule=\"nonzero\" fill-opacity=\"1\" /><path clip-path=\"url(#clip270)\" d=\"M42.4881 523.457 L64.0042 523.457 L64.0042 529.313 L42.679 529.313 Q37.6183 529.313 35.1038 531.287 Q32.5894 533.26 32.5894 537.207 Q32.5894 541.949 35.6131 544.686 Q38.6368 547.424 43.8567 547.424 L64.0042 547.424 L64.0042 553.312 L14.479 553.312 L14.479 547.424 L33.8944 547.424 Q30.6797 545.323 29.0883 542.49 Q27.4968 539.626 27.4968 535.902 Q27.4968 529.759 31.3163 526.608 Q35.1038 523.457 42.4881 523.457 Z\" fill=\"#000000\" fill-rule=\"nonzero\" fill-opacity=\"1\" /><path clip-path=\"url(#clip270)\" d=\"M14.5426 476.987 Q21.8632 481.252 29.0246 483.321 Q36.186 485.39 43.5384 485.39 Q50.8908 485.39 58.1159 483.321 Q65.3091 481.22 72.5979 476.987 L72.5979 482.08 Q65.1182 486.854 57.8931 489.241 Q50.668 491.596 43.5384 491.596 Q36.4406 491.596 29.2474 489.241 Q22.0542 486.886 14.5426 482.08 L14.5426 476.987 Z\" fill=\"#000000\" fill-rule=\"nonzero\" fill-opacity=\"1\" /><path clip-path=\"url(#clip270)\" d=\"M58.5933 463.683 L58.5933 453.179 L22.3406 453.179 L24.6323 464.606 L18.7758 464.606 L16.4842 453.243 L16.4842 446.814 L58.5933 446.814 L58.5933 436.31 L64.0042 436.31 L64.0042 463.683 L58.5933 463.683 Z\" fill=\"#000000\" fill-rule=\"nonzero\" fill-opacity=\"1\" /><path clip-path=\"url(#clip270)\" d=\"M16.4842 413.744 L16.4842 408.333 L70.0516 424.884 L70.0516 430.295 L16.4842 413.744 Z\" fill=\"#000000\" fill-rule=\"nonzero\" fill-opacity=\"1\" /><path clip-path=\"url(#clip270)\" d=\"M67.3143 387.358 Q73.68 389.841 75.6216 392.196 Q77.5631 394.551 77.5631 398.498 L77.5631 403.177 L72.6615 403.177 L72.6615 399.739 Q72.6615 397.32 71.5157 395.983 Q70.3699 394.647 66.1048 393.023 L63.4312 391.973 L28.3562 406.391 L28.3562 400.185 L56.238 389.045 L28.3562 377.905 L28.3562 371.698 L67.3143 387.358 Z\" fill=\"#000000\" fill-rule=\"nonzero\" fill-opacity=\"1\" /><path clip-path=\"url(#clip270)\" d=\"M33.8307 342.957 Q33.2578 343.944 33.0032 345.121 Q32.7167 346.267 32.7167 347.668 Q32.7167 352.633 35.9632 355.307 Q39.1779 357.948 45.2253 357.948 L64.0042 357.948 L64.0042 363.837 L28.3562 363.837 L28.3562 357.948 L33.8944 357.948 Q30.6479 356.102 29.0883 353.142 Q27.4968 350.182 27.4968 345.949 Q27.4968 345.344 27.5923 344.612 Q27.656 343.88 27.8151 342.989 L33.8307 342.957 Z\" fill=\"#000000\" fill-rule=\"nonzero\" fill-opacity=\"1\" /><path clip-path=\"url(#clip270)\" d=\"M14.5426 337.737 L14.5426 332.645 Q22.0542 327.87 29.2474 325.515 Q36.4406 323.128 43.5384 323.128 Q50.668 323.128 57.8931 325.515 Q65.1182 327.87 72.5979 332.645 L72.5979 337.737 Q65.3091 333.504 58.1159 331.435 Q50.8908 329.335 43.5384 329.335 Q36.186 329.335 29.0246 331.435 Q21.8632 333.504 14.5426 337.737 Z\" fill=\"#000000\" fill-rule=\"nonzero\" fill-opacity=\"1\" /><polyline clip-path=\"url(#clip272)\" style=\"stroke:#333333; stroke-linecap:round; stroke-linejoin:round; stroke-width:16; stroke-opacity:1; fill:none\" points=\"1040.43,723.567 1040.43,723.567 1040.43,723.567 1040.43,723.567 1040.43,723.567 1040.43,723.567 1040.43,723.567 1040.43,723.567 1040.43,723.567 1040.43,723.567 1040.43,723.567 1040.43,723.567 1040.43,723.567 1040.43,723.567 1040.43,723.567 1040.43,723.567 1040.43,723.567 1040.43,723.567 1040.43,723.567 1040.43,723.567 1040.43,723.567 1040.43,723.567 1040.43,723.567 1040.43,723.567 1040.43,723.567 1040.43,723.567 1040.43,723.567 1040.43,723.567 1040.43,723.567 1040.43,723.567 1040.43,723.567 1040.43,723.567 1040.43,723.567 1040.43,723.567 1040.43,723.567 1040.43,723.567 1040.43,723.567 1040.43,723.567 1040.43,723.567 1040.43,723.567 1040.43,723.567 1040.43,723.567 1040.43,723.567 1040.43,723.567 1040.43,723.567 1040.43,723.567 1040.43,723.567 1040.43,723.567 1040.43,723.567 1040.43,723.567 1040.43,723.567 1040.43,723.567 1040.43,723.567 1040.43,723.567 1040.43,723.567 1040.43,723.566 1040.43,723.565 1040.43,723.565 1040.43,723.565 1040.43,723.565 1040.43,723.565 1040.43,723.565 1040.43,723.565 1040.43,723.565 1040.43,723.565 1041.06,716.177 1043.2,705.3 1046.76,694.423 1051.74,683.546 1058.09,672.669 1065.8,661.792 1074.82,650.916 1085.11,640.039 1096.64,629.162 1109.34,618.285 1123.18,607.408 1138.1,596.531 1154.04,585.654 1170.96,574.777 1188.81,563.9 1207.53,553.023 1227.08,542.146 1247.41,531.269 1268.47,520.392 1290.22,509.515 1312.63,498.638 1335.64,487.761 1359.23,476.884 1383.35,466.007 1407.98,455.13 1433.09,444.253 1458.64,433.376 1484.61,422.499 1510.97,411.622 1537.71,400.745 1564.79,389.868 1592.2,378.991 1619.91,368.114 1647.92,357.238 1676.2,346.361 1704.74,335.484 1733.53,324.607 1762.54,313.73 1791.77,302.853 1821.25,291.976 1850.97,281.099 1880.92,270.222 1911.08,259.345 1941.44,248.468 1972,237.591 2002.74,226.714 2033.65,215.837 2064.72,204.96 2095.96,194.083 2127.34,183.206 2158.86,172.329 \"/>\n",
       "<circle clip-path=\"url(#clip272)\" cx=\"1040.43\" cy=\"723.567\" r=\"14.4\" fill=\"#ffffff\" fill-rule=\"evenodd\" fill-opacity=\"1\" stroke=\"#b0b0b0\" stroke-opacity=\"1\" stroke-width=\"3.2\"/>\n",
       "<circle clip-path=\"url(#clip272)\" cx=\"1040.43\" cy=\"723.567\" r=\"14.4\" fill=\"#ffffff\" fill-rule=\"evenodd\" fill-opacity=\"1\" stroke=\"#b0b0b0\" stroke-opacity=\"1\" stroke-width=\"3.2\"/>\n",
       "<circle clip-path=\"url(#clip272)\" cx=\"1040.43\" cy=\"723.567\" r=\"14.4\" fill=\"#ffffff\" fill-rule=\"evenodd\" fill-opacity=\"1\" stroke=\"#b0b0b0\" stroke-opacity=\"1\" stroke-width=\"3.2\"/>\n",
       "<circle clip-path=\"url(#clip272)\" cx=\"1040.43\" cy=\"723.567\" r=\"14.4\" fill=\"#ffffff\" fill-rule=\"evenodd\" fill-opacity=\"1\" stroke=\"#b0b0b0\" stroke-opacity=\"1\" stroke-width=\"3.2\"/>\n",
       "<circle clip-path=\"url(#clip272)\" cx=\"1040.43\" cy=\"723.567\" r=\"14.4\" fill=\"#ffffff\" fill-rule=\"evenodd\" fill-opacity=\"1\" stroke=\"#b0b0b0\" stroke-opacity=\"1\" stroke-width=\"3.2\"/>\n",
       "<circle clip-path=\"url(#clip272)\" cx=\"1040.43\" cy=\"723.567\" r=\"14.4\" fill=\"#ffffff\" fill-rule=\"evenodd\" fill-opacity=\"1\" stroke=\"#b0b0b0\" stroke-opacity=\"1\" stroke-width=\"3.2\"/>\n",
       "<circle clip-path=\"url(#clip272)\" cx=\"1040.43\" cy=\"723.567\" r=\"14.4\" fill=\"#ffffff\" fill-rule=\"evenodd\" fill-opacity=\"1\" stroke=\"#b0b0b0\" stroke-opacity=\"1\" stroke-width=\"3.2\"/>\n",
       "<circle clip-path=\"url(#clip272)\" cx=\"1040.43\" cy=\"723.567\" r=\"14.4\" fill=\"#ffffff\" fill-rule=\"evenodd\" fill-opacity=\"1\" stroke=\"#b0b0b0\" stroke-opacity=\"1\" stroke-width=\"3.2\"/>\n",
       "<circle clip-path=\"url(#clip272)\" cx=\"1040.43\" cy=\"723.567\" r=\"14.4\" fill=\"#ffffff\" fill-rule=\"evenodd\" fill-opacity=\"1\" stroke=\"#b0b0b0\" stroke-opacity=\"1\" stroke-width=\"3.2\"/>\n",
       "<circle clip-path=\"url(#clip272)\" cx=\"1040.43\" cy=\"723.567\" r=\"14.4\" fill=\"#ffffff\" fill-rule=\"evenodd\" fill-opacity=\"1\" stroke=\"#b0b0b0\" stroke-opacity=\"1\" stroke-width=\"3.2\"/>\n",
       "<circle clip-path=\"url(#clip272)\" cx=\"1040.43\" cy=\"723.567\" r=\"14.4\" fill=\"#ffffff\" fill-rule=\"evenodd\" fill-opacity=\"1\" stroke=\"#b0b0b0\" stroke-opacity=\"1\" stroke-width=\"3.2\"/>\n",
       "<circle clip-path=\"url(#clip272)\" cx=\"1040.43\" cy=\"723.567\" r=\"14.4\" fill=\"#ffffff\" fill-rule=\"evenodd\" fill-opacity=\"1\" stroke=\"#b0b0b0\" stroke-opacity=\"1\" stroke-width=\"3.2\"/>\n",
       "<circle clip-path=\"url(#clip272)\" cx=\"1040.43\" cy=\"723.567\" r=\"14.4\" fill=\"#ffffff\" fill-rule=\"evenodd\" fill-opacity=\"1\" stroke=\"#b0b0b0\" stroke-opacity=\"1\" stroke-width=\"3.2\"/>\n",
       "<circle clip-path=\"url(#clip272)\" cx=\"1040.43\" cy=\"723.567\" r=\"14.4\" fill=\"#ffffff\" fill-rule=\"evenodd\" fill-opacity=\"1\" stroke=\"#b0b0b0\" stroke-opacity=\"1\" stroke-width=\"3.2\"/>\n",
       "<circle clip-path=\"url(#clip272)\" cx=\"1040.43\" cy=\"723.567\" r=\"14.4\" fill=\"#ffffff\" fill-rule=\"evenodd\" fill-opacity=\"1\" stroke=\"#b0b0b0\" stroke-opacity=\"1\" stroke-width=\"3.2\"/>\n",
       "<circle clip-path=\"url(#clip272)\" cx=\"1040.43\" cy=\"723.567\" r=\"14.4\" fill=\"#ffffff\" fill-rule=\"evenodd\" fill-opacity=\"1\" stroke=\"#b0b0b0\" stroke-opacity=\"1\" stroke-width=\"3.2\"/>\n",
       "<circle clip-path=\"url(#clip272)\" cx=\"1040.43\" cy=\"723.567\" r=\"14.4\" fill=\"#ffffff\" fill-rule=\"evenodd\" fill-opacity=\"1\" stroke=\"#b0b0b0\" stroke-opacity=\"1\" stroke-width=\"3.2\"/>\n",
       "<circle clip-path=\"url(#clip272)\" cx=\"1040.43\" cy=\"723.567\" r=\"14.4\" fill=\"#ffffff\" fill-rule=\"evenodd\" fill-opacity=\"1\" stroke=\"#b0b0b0\" stroke-opacity=\"1\" stroke-width=\"3.2\"/>\n",
       "<circle clip-path=\"url(#clip272)\" cx=\"1040.43\" cy=\"723.567\" r=\"14.4\" fill=\"#ffffff\" fill-rule=\"evenodd\" fill-opacity=\"1\" stroke=\"#b0b0b0\" stroke-opacity=\"1\" stroke-width=\"3.2\"/>\n",
       "<circle clip-path=\"url(#clip272)\" cx=\"1040.43\" cy=\"723.565\" r=\"14.4\" fill=\"#ffffff\" fill-rule=\"evenodd\" fill-opacity=\"1\" stroke=\"#b0b0b0\" stroke-opacity=\"1\" stroke-width=\"3.2\"/>\n",
       "<circle clip-path=\"url(#clip272)\" cx=\"1040.43\" cy=\"723.565\" r=\"14.4\" fill=\"#ffffff\" fill-rule=\"evenodd\" fill-opacity=\"1\" stroke=\"#b0b0b0\" stroke-opacity=\"1\" stroke-width=\"3.2\"/>\n",
       "<circle clip-path=\"url(#clip272)\" cx=\"1040.43\" cy=\"723.565\" r=\"14.4\" fill=\"#ffffff\" fill-rule=\"evenodd\" fill-opacity=\"1\" stroke=\"#b0b0b0\" stroke-opacity=\"1\" stroke-width=\"3.2\"/>\n",
       "<circle clip-path=\"url(#clip272)\" cx=\"1043.2\" cy=\"705.3\" r=\"14.4\" fill=\"#ffffff\" fill-rule=\"evenodd\" fill-opacity=\"1\" stroke=\"#b0b0b0\" stroke-opacity=\"1\" stroke-width=\"3.2\"/>\n",
       "<circle clip-path=\"url(#clip272)\" cx=\"1058.09\" cy=\"672.669\" r=\"14.4\" fill=\"#ffffff\" fill-rule=\"evenodd\" fill-opacity=\"1\" stroke=\"#b0b0b0\" stroke-opacity=\"1\" stroke-width=\"3.2\"/>\n",
       "<circle clip-path=\"url(#clip272)\" cx=\"1085.11\" cy=\"640.039\" r=\"14.4\" fill=\"#ffffff\" fill-rule=\"evenodd\" fill-opacity=\"1\" stroke=\"#b0b0b0\" stroke-opacity=\"1\" stroke-width=\"3.2\"/>\n",
       "<circle clip-path=\"url(#clip272)\" cx=\"1123.18\" cy=\"607.408\" r=\"14.4\" fill=\"#ffffff\" fill-rule=\"evenodd\" fill-opacity=\"1\" stroke=\"#b0b0b0\" stroke-opacity=\"1\" stroke-width=\"3.2\"/>\n",
       "<circle clip-path=\"url(#clip272)\" cx=\"1170.96\" cy=\"574.777\" r=\"14.4\" fill=\"#ffffff\" fill-rule=\"evenodd\" fill-opacity=\"1\" stroke=\"#b0b0b0\" stroke-opacity=\"1\" stroke-width=\"3.2\"/>\n",
       "<circle clip-path=\"url(#clip272)\" cx=\"1227.08\" cy=\"542.146\" r=\"14.4\" fill=\"#ffffff\" fill-rule=\"evenodd\" fill-opacity=\"1\" stroke=\"#b0b0b0\" stroke-opacity=\"1\" stroke-width=\"3.2\"/>\n",
       "<circle clip-path=\"url(#clip272)\" cx=\"1290.22\" cy=\"509.515\" r=\"14.4\" fill=\"#ffffff\" fill-rule=\"evenodd\" fill-opacity=\"1\" stroke=\"#b0b0b0\" stroke-opacity=\"1\" stroke-width=\"3.2\"/>\n",
       "<circle clip-path=\"url(#clip272)\" cx=\"1359.23\" cy=\"476.884\" r=\"14.4\" fill=\"#ffffff\" fill-rule=\"evenodd\" fill-opacity=\"1\" stroke=\"#b0b0b0\" stroke-opacity=\"1\" stroke-width=\"3.2\"/>\n",
       "<circle clip-path=\"url(#clip272)\" cx=\"1433.09\" cy=\"444.253\" r=\"14.4\" fill=\"#ffffff\" fill-rule=\"evenodd\" fill-opacity=\"1\" stroke=\"#b0b0b0\" stroke-opacity=\"1\" stroke-width=\"3.2\"/>\n",
       "<circle clip-path=\"url(#clip272)\" cx=\"1510.97\" cy=\"411.622\" r=\"14.4\" fill=\"#ffffff\" fill-rule=\"evenodd\" fill-opacity=\"1\" stroke=\"#b0b0b0\" stroke-opacity=\"1\" stroke-width=\"3.2\"/>\n",
       "<circle clip-path=\"url(#clip272)\" cx=\"1592.2\" cy=\"378.991\" r=\"14.4\" fill=\"#ffffff\" fill-rule=\"evenodd\" fill-opacity=\"1\" stroke=\"#b0b0b0\" stroke-opacity=\"1\" stroke-width=\"3.2\"/>\n",
       "<circle clip-path=\"url(#clip272)\" cx=\"1676.2\" cy=\"346.361\" r=\"14.4\" fill=\"#ffffff\" fill-rule=\"evenodd\" fill-opacity=\"1\" stroke=\"#b0b0b0\" stroke-opacity=\"1\" stroke-width=\"3.2\"/>\n",
       "<circle clip-path=\"url(#clip272)\" cx=\"1762.54\" cy=\"313.73\" r=\"14.4\" fill=\"#ffffff\" fill-rule=\"evenodd\" fill-opacity=\"1\" stroke=\"#b0b0b0\" stroke-opacity=\"1\" stroke-width=\"3.2\"/>\n",
       "<circle clip-path=\"url(#clip272)\" cx=\"1850.97\" cy=\"281.099\" r=\"14.4\" fill=\"#ffffff\" fill-rule=\"evenodd\" fill-opacity=\"1\" stroke=\"#b0b0b0\" stroke-opacity=\"1\" stroke-width=\"3.2\"/>\n",
       "<circle clip-path=\"url(#clip272)\" cx=\"1941.44\" cy=\"248.468\" r=\"14.4\" fill=\"#ffffff\" fill-rule=\"evenodd\" fill-opacity=\"1\" stroke=\"#b0b0b0\" stroke-opacity=\"1\" stroke-width=\"3.2\"/>\n",
       "<circle clip-path=\"url(#clip272)\" cx=\"2033.65\" cy=\"215.837\" r=\"14.4\" fill=\"#ffffff\" fill-rule=\"evenodd\" fill-opacity=\"1\" stroke=\"#b0b0b0\" stroke-opacity=\"1\" stroke-width=\"3.2\"/>\n",
       "<circle clip-path=\"url(#clip272)\" cx=\"2127.34\" cy=\"183.206\" r=\"14.4\" fill=\"#ffffff\" fill-rule=\"evenodd\" fill-opacity=\"1\" stroke=\"#b0b0b0\" stroke-opacity=\"1\" stroke-width=\"3.2\"/>\n",
       "<path clip-path=\"url(#clip270)\" d=\"M290.963 196.789 L937.86 196.789 L937.86 93.1086 L290.963 93.1086  Z\" fill=\"#f2f2f2\" fill-rule=\"evenodd\" fill-opacity=\"1\"/>\n",
       "<polyline clip-path=\"url(#clip270)\" style=\"stroke:#000000; stroke-linecap:round; stroke-linejoin:round; stroke-width:4; stroke-opacity:0; fill:none\" points=\"290.963,196.789 937.86,196.789 937.86,93.1086 290.963,93.1086 290.963,196.789 \"/>\n",
       "<circle clip-path=\"url(#clip270)\" cx=\"385.758\" cy=\"144.949\" r=\"20.48\" fill=\"#ffffff\" fill-rule=\"evenodd\" fill-opacity=\"1\" stroke=\"#b0b0b0\" stroke-opacity=\"1\" stroke-width=\"4.55111\"/>\n",
       "<path clip-path=\"url(#clip270)\" d=\"M480.553 127.669 L502.405 127.669 L502.405 131.604 L485.229 131.604 L485.229 141.835 L501.687 141.835 L501.687 145.77 L485.229 145.77 L485.229 158.293 L502.821 158.293 L502.821 162.229 L480.553 162.229 L480.553 127.669 Z\" fill=\"#000000\" fill-rule=\"nonzero\" fill-opacity=\"1\" /><path clip-path=\"url(#clip270)\" d=\"M526.849 137.067 L526.849 141.094 Q525.043 140.169 523.099 139.706 Q521.154 139.243 519.071 139.243 Q515.9 139.243 514.303 140.215 Q512.729 141.187 512.729 143.131 Q512.729 144.613 513.863 145.469 Q514.997 146.303 518.423 147.067 L519.881 147.391 Q524.418 148.363 526.316 150.145 Q528.238 151.905 528.238 155.076 Q528.238 158.687 525.367 160.793 Q522.52 162.9 517.52 162.9 Q515.437 162.9 513.168 162.483 Q510.923 162.09 508.423 161.28 L508.423 156.881 Q510.784 158.108 513.076 158.733 Q515.367 159.335 517.613 159.335 Q520.622 159.335 522.242 158.317 Q523.863 157.275 523.863 155.4 Q523.863 153.664 522.682 152.738 Q521.525 151.812 517.566 150.956 L516.085 150.608 Q512.127 149.775 510.367 148.062 Q508.608 146.326 508.608 143.317 Q508.608 139.659 511.201 137.669 Q513.793 135.678 518.562 135.678 Q520.923 135.678 523.006 136.025 Q525.09 136.372 526.849 137.067 Z\" fill=\"#000000\" fill-rule=\"nonzero\" fill-opacity=\"1\" /><path clip-path=\"url(#clip270)\" d=\"M539.233 128.942 L539.233 136.303 L548.006 136.303 L548.006 139.613 L539.233 139.613 L539.233 153.687 Q539.233 156.858 540.089 157.761 Q540.969 158.664 543.631 158.664 L548.006 158.664 L548.006 162.229 L543.631 162.229 Q538.701 162.229 536.826 160.4 Q534.951 158.548 534.951 153.687 L534.951 139.613 L531.826 139.613 L531.826 136.303 L534.951 136.303 L534.951 128.942 L539.233 128.942 Z\" fill=\"#000000\" fill-rule=\"nonzero\" fill-opacity=\"1\" /><path clip-path=\"url(#clip270)\" d=\"M553.608 136.303 L557.867 136.303 L557.867 162.229 L553.608 162.229 L553.608 136.303 M553.608 126.21 L557.867 126.21 L557.867 131.604 L553.608 131.604 L553.608 126.21 Z\" fill=\"#000000\" fill-rule=\"nonzero\" fill-opacity=\"1\" /><path clip-path=\"url(#clip270)\" d=\"M586.964 141.28 Q588.561 138.409 590.784 137.044 Q593.006 135.678 596.015 135.678 Q600.066 135.678 602.265 138.525 Q604.464 141.349 604.464 146.581 L604.464 162.229 L600.182 162.229 L600.182 146.719 Q600.182 142.993 598.862 141.187 Q597.543 139.382 594.835 139.382 Q591.524 139.382 589.603 141.581 Q587.682 143.78 587.682 147.576 L587.682 162.229 L583.399 162.229 L583.399 146.719 Q583.399 142.969 582.08 141.187 Q580.761 139.382 578.006 139.382 Q574.742 139.382 572.821 141.604 Q570.9 143.803 570.9 147.576 L570.9 162.229 L566.617 162.229 L566.617 136.303 L570.9 136.303 L570.9 140.331 Q572.358 137.946 574.395 136.812 Q576.432 135.678 579.233 135.678 Q582.057 135.678 584.024 137.113 Q586.015 138.548 586.964 141.28 Z\" fill=\"#000000\" fill-rule=\"nonzero\" fill-opacity=\"1\" /><path clip-path=\"url(#clip270)\" d=\"M624.742 149.196 Q619.58 149.196 617.589 150.377 Q615.598 151.557 615.598 154.405 Q615.598 156.673 617.08 158.016 Q618.584 159.335 621.154 159.335 Q624.696 159.335 626.825 156.835 Q628.978 154.312 628.978 150.145 L628.978 149.196 L624.742 149.196 M633.237 147.437 L633.237 162.229 L628.978 162.229 L628.978 158.293 Q627.52 160.655 625.344 161.789 Q623.168 162.9 620.02 162.9 Q616.038 162.9 613.677 160.678 Q611.339 158.432 611.339 154.682 Q611.339 150.307 614.256 148.085 Q617.196 145.863 623.006 145.863 L628.978 145.863 L628.978 145.446 Q628.978 142.507 627.033 140.909 Q625.112 139.289 621.617 139.289 Q619.395 139.289 617.288 139.821 Q615.182 140.354 613.237 141.419 L613.237 137.483 Q615.575 136.581 617.774 136.141 Q619.973 135.678 622.057 135.678 Q627.682 135.678 630.459 138.594 Q633.237 141.511 633.237 147.437 Z\" fill=\"#000000\" fill-rule=\"nonzero\" fill-opacity=\"1\" /><path clip-path=\"url(#clip270)\" d=\"M646.223 128.942 L646.223 136.303 L654.996 136.303 L654.996 139.613 L646.223 139.613 L646.223 153.687 Q646.223 156.858 647.08 157.761 Q647.959 158.664 650.621 158.664 L654.996 158.664 L654.996 162.229 L650.621 162.229 Q645.691 162.229 643.816 160.4 Q641.941 158.548 641.941 153.687 L641.941 139.613 L638.816 139.613 L638.816 136.303 L641.941 136.303 L641.941 128.942 L646.223 128.942 Z\" fill=\"#000000\" fill-rule=\"nonzero\" fill-opacity=\"1\" /><path clip-path=\"url(#clip270)\" d=\"M682.774 148.201 L682.774 150.284 L663.191 150.284 Q663.468 154.682 665.83 156.997 Q668.214 159.289 672.45 159.289 Q674.904 159.289 677.195 158.687 Q679.51 158.085 681.779 156.881 L681.779 160.909 Q679.487 161.881 677.08 162.391 Q674.672 162.9 672.195 162.9 Q665.992 162.9 662.357 159.289 Q658.746 155.678 658.746 149.52 Q658.746 143.155 662.172 139.428 Q665.621 135.678 671.455 135.678 Q676.686 135.678 679.718 139.057 Q682.774 142.414 682.774 148.201 M678.515 146.951 Q678.468 143.456 676.547 141.372 Q674.649 139.289 671.501 139.289 Q667.936 139.289 665.783 141.303 Q663.654 143.317 663.33 146.974 L678.515 146.951 Z\" fill=\"#000000\" fill-rule=\"nonzero\" fill-opacity=\"1\" /><path clip-path=\"url(#clip270)\" d=\"M706.825 140.238 L706.825 126.21 L711.084 126.21 L711.084 162.229 L706.825 162.229 L706.825 158.34 Q705.482 160.655 703.422 161.789 Q701.385 162.9 698.515 162.9 Q693.816 162.9 690.853 159.15 Q687.913 155.4 687.913 149.289 Q687.913 143.178 690.853 139.428 Q693.816 135.678 698.515 135.678 Q701.385 135.678 703.422 136.812 Q705.482 137.923 706.825 140.238 M692.311 149.289 Q692.311 153.988 694.232 156.673 Q696.177 159.335 699.556 159.335 Q702.936 159.335 704.88 156.673 Q706.825 153.988 706.825 149.289 Q706.825 144.59 704.88 141.928 Q702.936 139.243 699.556 139.243 Q696.177 139.243 694.232 141.928 Q692.311 144.59 692.311 149.289 Z\" fill=\"#000000\" fill-rule=\"nonzero\" fill-opacity=\"1\" /><path clip-path=\"url(#clip270)\" d=\"M751.454 137.067 L751.454 141.094 Q749.649 140.169 747.704 139.706 Q745.76 139.243 743.676 139.243 Q740.505 139.243 738.908 140.215 Q737.334 141.187 737.334 143.131 Q737.334 144.613 738.468 145.469 Q739.602 146.303 743.028 147.067 L744.487 147.391 Q749.024 148.363 750.922 150.145 Q752.843 151.905 752.843 155.076 Q752.843 158.687 749.973 160.793 Q747.125 162.9 742.125 162.9 Q740.042 162.9 737.774 162.483 Q735.528 162.09 733.028 161.28 L733.028 156.881 Q735.389 158.108 737.681 158.733 Q739.973 159.335 742.218 159.335 Q745.227 159.335 746.848 158.317 Q748.468 157.275 748.468 155.4 Q748.468 153.664 747.287 152.738 Q746.13 151.812 742.172 150.956 L740.69 150.608 Q736.732 149.775 734.973 148.062 Q733.213 146.326 733.213 143.317 Q733.213 139.659 735.806 137.669 Q738.399 135.678 743.167 135.678 Q745.528 135.678 747.612 136.025 Q749.695 136.372 751.454 137.067 Z\" fill=\"#000000\" fill-rule=\"nonzero\" fill-opacity=\"1\" /><path clip-path=\"url(#clip270)\" d=\"M769.672 139.289 Q766.246 139.289 764.255 141.974 Q762.264 144.636 762.264 149.289 Q762.264 153.942 764.232 156.627 Q766.223 159.289 769.672 159.289 Q773.074 159.289 775.065 156.604 Q777.056 153.918 777.056 149.289 Q777.056 144.682 775.065 141.997 Q773.074 139.289 769.672 139.289 M769.672 135.678 Q775.227 135.678 778.398 139.289 Q781.57 142.9 781.57 149.289 Q781.57 155.655 778.398 159.289 Q775.227 162.9 769.672 162.9 Q764.093 162.9 760.922 159.289 Q757.774 155.655 757.774 149.289 Q757.774 142.9 760.922 139.289 Q764.093 135.678 769.672 135.678 Z\" fill=\"#000000\" fill-rule=\"nonzero\" fill-opacity=\"1\" /><path clip-path=\"url(#clip270)\" d=\"M788.63 126.21 L792.889 126.21 L792.889 162.229 L788.63 162.229 L788.63 126.21 Z\" fill=\"#000000\" fill-rule=\"nonzero\" fill-opacity=\"1\" /><path clip-path=\"url(#clip270)\" d=\"M801.361 151.997 L801.361 136.303 L805.62 136.303 L805.62 151.835 Q805.62 155.516 807.056 157.368 Q808.491 159.196 811.361 159.196 Q814.81 159.196 816.801 156.997 Q818.815 154.798 818.815 151.002 L818.815 136.303 L823.074 136.303 L823.074 162.229 L818.815 162.229 L818.815 158.247 Q817.264 160.608 815.204 161.766 Q813.167 162.9 810.458 162.9 Q805.991 162.9 803.676 160.122 Q801.361 157.344 801.361 151.997 M812.079 135.678 L812.079 135.678 Z\" fill=\"#000000\" fill-rule=\"nonzero\" fill-opacity=\"1\" /><path clip-path=\"url(#clip270)\" d=\"M836.06 128.942 L836.06 136.303 L844.833 136.303 L844.833 139.613 L836.06 139.613 L836.06 153.687 Q836.06 156.858 836.917 157.761 Q837.796 158.664 840.458 158.664 L844.833 158.664 L844.833 162.229 L840.458 162.229 Q835.528 162.229 833.653 160.4 Q831.778 158.548 831.778 153.687 L831.778 139.613 L828.653 139.613 L828.653 136.303 L831.778 136.303 L831.778 128.942 L836.06 128.942 Z\" fill=\"#000000\" fill-rule=\"nonzero\" fill-opacity=\"1\" /><path clip-path=\"url(#clip270)\" d=\"M850.435 136.303 L854.694 136.303 L854.694 162.229 L850.435 162.229 L850.435 136.303 M850.435 126.21 L854.694 126.21 L854.694 131.604 L850.435 131.604 L850.435 126.21 Z\" fill=\"#000000\" fill-rule=\"nonzero\" fill-opacity=\"1\" /><path clip-path=\"url(#clip270)\" d=\"M873.653 139.289 Q870.227 139.289 868.236 141.974 Q866.245 144.636 866.245 149.289 Q866.245 153.942 868.213 156.627 Q870.203 159.289 873.653 159.289 Q877.055 159.289 879.046 156.604 Q881.037 153.918 881.037 149.289 Q881.037 144.682 879.046 141.997 Q877.055 139.289 873.653 139.289 M873.653 135.678 Q879.208 135.678 882.379 139.289 Q885.551 142.9 885.551 149.289 Q885.551 155.655 882.379 159.289 Q879.208 162.9 873.653 162.9 Q868.074 162.9 864.903 159.289 Q861.754 155.655 861.754 149.289 Q861.754 142.9 864.903 139.289 Q868.074 135.678 873.653 135.678 Z\" fill=\"#000000\" fill-rule=\"nonzero\" fill-opacity=\"1\" /><path clip-path=\"url(#clip270)\" d=\"M914.162 146.581 L914.162 162.229 L909.902 162.229 L909.902 146.719 Q909.902 143.039 908.467 141.21 Q907.032 139.382 904.162 139.382 Q900.713 139.382 898.722 141.581 Q896.731 143.78 896.731 147.576 L896.731 162.229 L892.449 162.229 L892.449 136.303 L896.731 136.303 L896.731 140.331 Q898.259 137.993 900.319 136.835 Q902.402 135.678 905.111 135.678 Q909.578 135.678 911.87 138.456 Q914.162 141.21 914.162 146.581 Z\" fill=\"#000000\" fill-rule=\"nonzero\" fill-opacity=\"1\" /></svg>\n"
      ],
      "text/html": [
       "<img src=\"data:image/png;base64,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\" />"
      ]
     },
     "metadata": {},
     "output_type": "display_data"
    }
   ],
   "source": [
    "let\n",
    "\n",
    "    # initialize -\n",
    "    max_risk_value = results_array[end,1]; # what is the biggest risk we have (x-axis value)\n",
    "    max_reward_value = results_array[end,2]; # what is the biggest reward that we have (y-axis value)\n",
    "    number_of_portfolios = length(efficient_frontier); # how many portfolios did we recover?\n",
    "    skip = 3;\n",
    "\n",
    "    plot(results_array[:,1], results_array[:,2], lw=4, xlabel=\"Risk sqrt(variance)\", \n",
    "        ylabel=\"Portfolio log growth (1/yr)\", fontsize=18, label=\"\", c=:gray20, \n",
    "        xlim=(0.0, 1.1*max_risk_value), ylim = (0.0, 1.1*max_reward_value))\n",
    "    scatter!(results_array[1:skip:number_of_portfolios,1], results_array[1:skip:number_of_portfolios,2], \n",
    "        label=\"Estimated solution\", c=:white, ms=4, msc=:gray69)\n",
    "\n",
    "    plot!(bg=\"gray95\", background_color_outside=\"white\", framestyle = :box, fg_legend = :transparent);\n",
    "end"
   ]
  },
  {
   "cell_type": "code",
   "execution_count": 164,
   "id": "8b3a9fa1",
   "metadata": {},
   "outputs": [],
   "source": [
    "do_I_see_minvar_plot = nothing; # set to {true | false} if you see the minvar plot (true = yes, false = no)."
   ]
  },
  {
   "cell_type": "markdown",
   "id": "21afb91b",
   "metadata": {},
   "source": [
    "## Task 3: Simulate the performance of the minimum-variance portfolio on out-of-sample data\n",
    "Now that we have computed the efficient frontier and identified the minimum-variance portfolio, we can simulate its performance on out-of-sample data using our multiple asset Geometric Brownian Motion (MAGBM) model. This will help us understand how the portfolio might perform in a real-world scenario. \n",
    "\n",
    "To run this simulation, we need a few things. First, which portfolio are we simulating? Let's choose the minimum-variance portfolio from our efficient frontier results. We'll extract the allocation weights for this portfolio. We'll save these weights in the `w::Array{Float64,1}` array."
   ]
  },
  {
   "cell_type": "code",
   "execution_count": 165,
   "id": "7ae29856",
   "metadata": {},
   "outputs": [],
   "source": [
    "w = let\n",
    "\n",
    "    # initialize -\n",
    "    index_to_view = 1; # TODO: change this index to view different portfolios\n",
    "    w = results_array[index_to_view, 3:end] .|> x-> round(x, digits=4) |> abs; # 3:end gives the allocations\n",
    "    w; # return\n",
    "end;"
   ]
  },
  {
   "cell_type": "markdown",
   "id": "2a67b7cc",
   "metadata": {},
   "source": [
    "\n",
    "### Compute the $\\mathbf{A}$ matrix using Cholesky factorization \n",
    "We need to compute the Cholesky decomposition of the covariance matrix for the assets in our portfolio to run the MAGBM model. This will allow us to generate correlated random variables that reflect the relationships between the asset returns. Let's start there.\n",
    "\n",
    "MAGBM factors the covariance matrix $\\Sigma = \\mathbf{A}\\mathbf{A}^{\\top}$ using a [Cholesky factorization](https://en.wikipedia.org/wiki/Cholesky_decomposition) to get the $a_{ij}$ coefficients which appear in the noise term of the multi-asset geometric Brownian motion expression. We'll use the [Cholesky factorization](https://en.wikipedia.org/wiki/Cholesky_decomposition) routine implemented in the [LinearAlgebra.jl package](https://docs.julialang.org/en/v1/stdlib/LinearAlgebra/), which is part of the [Julia standard library](https://docs.julialang.org/en/v1/).\n",
    "\n",
    "> __What is going on?__ We call the [cholesky function](https://docs.julialang.org/en/v1/stdlib/LinearAlgebra/#LinearAlgebra.cholesky) with the covariance matrix `Σ̂ᵣ` as an argument. This returns the matrix factorization in the [Cholesky type](https://docs.julialang.org/en/v1/stdlib/LinearAlgebra/#LinearAlgebra.Cholesky), which has the `L` and `U` fields, holding the `lower` and `upper` triangular factorizations, respectively. We convert the `lower` triangular factor into a [Matrix type](https://docs.julialang.org/en/v1/base/arrays/#Base.Matrix) so that we can do computations with it later. We store this matrix in the variable $\\mathbf{A}$, where the coefficients $a_{ij}\\in\\mathbf{A}$.\n",
    "\n",
    "So what do we get?"
   ]
  },
  {
   "cell_type": "code",
   "execution_count": 166,
   "id": "514ceffa",
   "metadata": {},
   "outputs": [],
   "source": [
    "A,Ā = let \n",
    "    factors = cholesky(Σ̂ᵣ);\n",
    "    A = factors.L |> x-> Matrix(x)\n",
    "    Ā = diagm(0 => diag(A))\n",
    "    (A, Ā)\n",
    "end;"
   ]
  },
  {
   "cell_type": "markdown",
   "id": "24aa643e",
   "metadata": {},
   "source": [
    "#### Check: Is the Cholesky factorization legit?\n",
    "Before we use the [Cholesky factorization](https://en.wikipedia.org/wiki/Cholesky_decomposition) in our multi-asset simulation, let's check that we can recover the original firm-specific covariance matrix `Σ̂ᵣ`. We know that $\\mathbf{A}\\mathbf{A}^{\\top} = \\Sigma$, so let's compare `Σ̂ᵣ` and the matrix product $\\mathbf{A}\\mathbf{A}^{\\top}$ using the [@assert macro](https://docs.julialang.org/en/v1/base/base/#Base.@assert) in combination with the [isapprox function](https://docs.julialang.org/en/v1/base/math/#Base.isapprox) with `rtol = 1e-6` (or you can choose some other random small value).\n",
    "> __Test__ If the `Σ̂ᵣ` and the matrix product $\\mathbf{A}\\mathbf{A}^{\\top}$ are `NOT` close, i.e., the difference between them is larger than the absolute tolerance `atol` value, the [isapprox function](https://docs.julialang.org/en/v1/base/math/#Base.isapprox) will evaluate to `false` and the [@assert macro](https://docs.julialang.org/en/v1/base/base/#Base.@assert) will throw an [AssertionError](https://docs.julialang.org/en/v1/base/base/#Core.AssertionError). Otherwise, nothing happens (which is good).\n",
    "\n",
    "Did we pass the test? If you did not get an error, then yes!"
   ]
  },
  {
   "cell_type": "code",
   "execution_count": 167,
   "id": "500b0162",
   "metadata": {},
   "outputs": [],
   "source": [
    "@assert isapprox(Σ̂ᵣ, A*transpose(A), atol = 1e-6)"
   ]
  },
  {
   "cell_type": "markdown",
   "id": "6b5c68ef",
   "metadata": {},
   "source": [
    "Next, let's grab the initial prices for the assets in our portfolio from the `dataset::Dict{String,DataFrame}` dictionary. We'll store these initial prices in the `Sₒ::Array{Float64,1}` array."
   ]
  },
  {
   "cell_type": "code",
   "execution_count": 168,
   "id": "be8d7330",
   "metadata": {},
   "outputs": [],
   "source": [
    "Sₒ = let\n",
    "\n",
    "    # initialize -\n",
    "    Sₒ = Array{Float64,1}(); # initial stock prices vector\n",
    "\n",
    "    # TODO: Uncomment the lines below to populate the initial stock prices vector Sₒ\n",
    "    # We iterate throough the list of tickers and get the opening price on day 1\n",
    "    # We use the push! function to append values to the Sₒ array\n",
    "    # for ticker ∈ my_list_of_tickers\n",
    "    #     data = dataset[ticker]; # get the data for the ticker\n",
    "    #     price = data[1, :open]; # get the first opening price (we buy at the open of day 1)\n",
    "    #     push!(Sₒ, price); # append to Sₒ\n",
    "    # end\n",
    "\n",
    "    \n",
    "    Sₒ; # return\n",
    "end;"
   ]
  },
  {
   "cell_type": "markdown",
   "id": "a31e73bb",
   "metadata": {},
   "source": [
    "How much of each asset do we purchase in our minimum-variance portfolio? We can compute this from the initial investment amount and the allocation weights.\n",
    "\n",
    "> __Initial share calculation:__ The number of shares purchased for each asset in the minimum-variance portfolio is calculated by multiplying the total initial investment budget ($B$) by the allocation weight for each asset, and then dividing by the initial price of that asset, which we denote as $S^{(i)}_{0}$. This gives us the number of shares we can afford to buy with our allocated funds for each asset, or:\n",
    "> $$\n",
    "\\begin{align*}\n",
    "N_i &= \\frac{w_i\\;B}{S^{(i)}_{0}} \\\\\n",
    "\\end{align*}\n",
    "$$ \n",
    "\n",
    "Let's compute the initial number of shares purchased for each asset in our minimum-variance portfolio, we'll store these values in the `Nₒ::Array{Float64,1}` array:"
   ]
  },
  {
   "cell_type": "code",
   "execution_count": 169,
   "id": "6cef2f71",
   "metadata": {},
   "outputs": [],
   "source": [
    "Nₒ = let\n",
    "    \n",
    "    # initialize -\n",
    "    total_budget = total_initial_investment; # total initial investment amount (USD)\n",
    "    Nₒ = Array{Float64,1}()\n",
    "\n",
    "    # TODO: Uncomment the lines below to compute the number of shares for each asset (assuming we can buy fractional shares, and the price is Sₒ)\n",
    "    # We iterate through each weight wᵢ, compute the number of shares nᵢ = (wᵢ * total_budget) / Sₒ[i], and append to Nₒ\n",
    "    # for i ∈ eachindex(w)\n",
    "    #     wᵢ = w[i] # get the weight for asset i\n",
    "    #     nᵢ = (wᵢ*total_budget)/Sₒ[i]; # compute number of shares for asset i\n",
    "    #     push!(Nₒ,nᵢ) # append to the Nₒ array\n",
    "    # end\n",
    "\n",
    "    Nₒ; # return\n",
    "end;"
   ]
  },
  {
   "cell_type": "markdown",
   "id": "936af8a1",
   "metadata": {},
   "source": [
    "Let's make a table to summarize our initial investment [using the `pretty_table(...)` function exported by the `PrettyTables.jl` package](https://github.com/ronisbr/PrettyTables.jl)."
   ]
  },
  {
   "cell_type": "code",
   "execution_count": 170,
   "id": "8024cb66",
   "metadata": {},
   "outputs": [
    {
     "ename": "BoundsError",
     "evalue": "BoundsError: attempt to access 0-element Vector{Float64} at index [1]",
     "output_type": "error",
     "traceback": [
      "BoundsError: attempt to access 0-element Vector{Float64} at index [1]\n",
      "\n",
      "Stacktrace:\n",
      " [1] throw_boundserror(A::Vector{Float64}, I::Tuple{Int64})\n",
      "   @ Base ./essentials.jl:15\n",
      " [2] getindex(A::Vector{Float64}, i::Int64)\n",
      "   @ Base ./essentials.jl:919\n",
      " [3] top-level scope\n",
      "   @ ~/Documents/GitHub/ps3-5660-f25-H-janj/jl_notebook_cell_df34fa98e69747e1a8f8a730347b8e2f_Y101sZmlsZQ==.jl:8"
     ]
    }
   ],
   "source": [
    "let\n",
    "\n",
    "    # initialize -\n",
    "    total_budget = total_initial_investment; # total initial investment amount (USD)\n",
    "    df = DataFrame();\n",
    "\n",
    "    for (i, ticker) ∈ enumerate(my_list_of_tickers)\n",
    "        Sₒᵢ = Sₒ[i]\n",
    "        wᵢ = w[i]\n",
    "        nᵢ = Nₒ[i]\n",
    "        total_investmentᵢ = wᵢ*total_budget\n",
    "        temp_df = (Ticker = ticker, Initial_Price = Sₒᵢ, Allocation_w = wᵢ, Number_of_Shares = nᵢ, Total_Investment = total_investmentᵢ);\n",
    "        df = push!(df, temp_df);\n",
    "    end\n",
    "\n",
    "    # build a table -\n",
    "    pretty_table(df, backend = :text,\n",
    "         table_format = TextTableFormat(borders = text_table_borders__compact))\n",
    "\n",
    "end"
   ]
  },
  {
   "cell_type": "code",
   "execution_count": 171,
   "id": "a15c7abf",
   "metadata": {},
   "outputs": [],
   "source": [
    "do_I_see_the_ticker_setup_table = nothing; # set to {true | false} if you see the ticker setup table (true = yes, false = no)."
   ]
  },
  {
   "cell_type": "markdown",
   "id": "bb738ea9",
   "metadata": {},
   "source": [
    "### Run the multi-asset simulation to compute the share price trajectories\n",
    "Building on the single asset case, we construct an instance of [the `MyMultipleAssetGeometricBrownianMotionEquityModel` type](https://varnerlab.github.io/VLQuantitativeFinancePackage.jl/dev/equity/#VLQuantitativeFinancePackage.MyMultipleAssetGeometricBrownianMotionEquityModel), where we pass the drift vector $\\mu$ and the factored covariance matrix $\\mathbf{A}$ into [a `build(...)` method](https://varnerlab.github.io/VLQuantitativeFinancePackage.jl/dev/equity/#VLQuantitativeFinancePackage.build-Tuple{Type{MyMultipleAssetGeometricBrownianMotionEquityModel},%20NamedTuple}):"
   ]
  },
  {
   "cell_type": "code",
   "execution_count": 172,
   "id": "d4c1765b",
   "metadata": {},
   "outputs": [],
   "source": [
    "# TODO: Build the GBM model instance using a build method\n",
    "multiasset_model = nothing;"
   ]
  },
  {
   "cell_type": "markdown",
   "id": "2838b880",
   "metadata": {},
   "source": [
    "Then we pass the start time `T₁`, the stop time `T₂` for the simulation, the initial conditions `Sₒ`, the time step `Δt`, and other simulation parameters along with the `model` instance into the `sample(...)` function. This function computes `number_of_paths` sample paths and returns the simulated data in the `simulation_dictionary` variable.\n",
    "\n",
    "The `simulation_dictionary` data structure holds a simulation array for each sample path, where the simulation array has time in the first column and the simulated price for each asset in columns $2\\dots\\dim\\mathcal{L}$. Each row is a time value; there will be `T+1` rows for each simulation array."
   ]
  },
  {
   "cell_type": "code",
   "execution_count": 173,
   "id": "ab7154d2",
   "metadata": {},
   "outputs": [
    {
     "ename": "MethodError",
     "evalue": "MethodError: no method matching sample(::Nothing, ::@NamedTuple{Sₒ::Vector{Float64}, T₁::Float64, T₂::Float64, Δt::Float64}; number_of_paths::Int64)\nThe function `sample` exists, but no method is defined for this combination of argument types.\n\nClosest candidates are:\n  sample(!Matched::MyGeometricBrownianMotionEquityModel, ::NamedTuple; number_of_paths)\n   @ VLQuantitativeFinancePackage ~/.julia/packages/VLQuantitativeFinancePackage/9NEqK/src/Compute.jl:650\n  sample(!Matched::MyMultipleAssetGeometricBrownianMotionEquityModel, ::NamedTuple; number_of_paths)\n   @ VLQuantitativeFinancePackage ~/.julia/packages/VLQuantitativeFinancePackage/9NEqK/src/Compute.jl:713\n  sample(!Matched::MyBinomialEquityPriceTree, !Matched::Int64; number_of_paths)\n   @ VLQuantitativeFinancePackage ~/.julia/packages/VLQuantitativeFinancePackage/9NEqK/src/Compute.jl:1384\n  ...\n",
     "output_type": "error",
     "traceback": [
      "MethodError: no method matching sample(::Nothing, ::@NamedTuple{Sₒ::Vector{Float64}, T₁::Float64, T₂::Float64, Δt::Float64}; number_of_paths::Int64)\n",
      "The function `sample` exists, but no method is defined for this combination of argument types.\n",
      "\n",
      "Closest candidates are:\n",
      "  sample(!Matched::MyGeometricBrownianMotionEquityModel, ::NamedTuple; number_of_paths)\n",
      "   @ VLQuantitativeFinancePackage ~/.julia/packages/VLQuantitativeFinancePackage/9NEqK/src/Compute.jl:650\n",
      "  sample(!Matched::MyMultipleAssetGeometricBrownianMotionEquityModel, ::NamedTuple; number_of_paths)\n",
      "   @ VLQuantitativeFinancePackage ~/.julia/packages/VLQuantitativeFinancePackage/9NEqK/src/Compute.jl:713\n",
      "  sample(!Matched::MyBinomialEquityPriceTree, !Matched::Int64; number_of_paths)\n",
      "   @ VLQuantitativeFinancePackage ~/.julia/packages/VLQuantitativeFinancePackage/9NEqK/src/Compute.jl:1384\n",
      "  ...\n",
      "\n",
      "\n",
      "Stacktrace:\n",
      " [1] top-level scope\n",
      "   @ ~/Documents/GitHub/ps3-5660-f25-H-janj/jl_notebook_cell_df34fa98e69747e1a8f8a730347b8e2f_Y106sZmlsZQ==.jl:13"
     ]
    }
   ],
   "source": [
    "simulation_dictionary = let\n",
    "    \n",
    "    # initialize -\n",
    "    start_index = 1;\n",
    "    stop_index = TSIM + start_index - 1;\n",
    "    number_of_trials = 250; # number of sample paths to compute\n",
    "\n",
    "    # specify the time range -\n",
    "    T₁ = start_index*Δt # start time (in years)\n",
    "    T₂ = stop_index*Δt # end time (in years)\n",
    "\n",
    "    # run the simulation -\n",
    "    simulation_dictionary = VLQuantitativeFinancePackage.sample(multiasset_model, (Sₒ = Sₒ, T₁ = T₁, T₂ = T₂, Δt = Δt), \n",
    "        number_of_paths = number_of_trials);\n",
    "\n",
    "    simulation_dictionary; # return \n",
    "end;"
   ]
  },
  {
   "cell_type": "markdown",
   "id": "a152b69e",
   "metadata": {},
   "source": [
    "#### Compute the simulated wealth of portfolio $\\mathcal{P}$ given our allocation\n",
    "`Unhide` the code block below to see how we computed the __simulated wealth__ of the portfolio $\\mathcal{P}$ for the allocation specified above. We store the simulation data in the `simulated_wealth_array::Array{Float64,2}` variable.\n",
    "\n",
    "> __What's in the simulated wealth array?__ Each column in the `simulated_wealth_array` corresponds to a sample path from the multi-asset GBM simulation. Each row corresponds to a time value. The entries in the array are the total wealth of the portfolio $\\mathcal{P}$ at each time for each sample path.\n",
    "\n",
    "Let's compute the simulated wealth of our portfolio $\\mathcal{P}$."
   ]
  },
  {
   "cell_type": "code",
   "execution_count": 174,
   "id": "6b324452",
   "metadata": {},
   "outputs": [
    {
     "ename": "UndefVarError",
     "evalue": "UndefVarError: `simulation_dictionary` not defined in `Main`\nSuggestion: add an appropriate import or assignment. This global was declared but not assigned.",
     "output_type": "error",
     "traceback": [
      "UndefVarError: `simulation_dictionary` not defined in `Main`\n",
      "Suggestion: add an appropriate import or assignment. This global was declared but not assigned.\n",
      "\n",
      "Stacktrace:\n",
      " [1] top-level scope\n",
      "   @ ~/Documents/GitHub/ps3-5660-f25-H-janj/jl_notebook_cell_df34fa98e69747e1a8f8a730347b8e2f_Y111sZmlsZQ==.jl:4"
     ]
    }
   ],
   "source": [
    "simulated_wealth_array = let\n",
    "\n",
    "    # initialize -\n",
    "    number_of_trials = length(simulation_dictionary) # number of trials\n",
    "    number_of_days = simulation_dictionary[1] |> m -> size(m,1) # number of days in each trial\n",
    "    M = length(my_list_of_tickers); # number of assets in portfolio\n",
    "    simulated_wealth_array = Array{Float64,2}(undef, number_of_days, number_of_trials);\n",
    "   \n",
    "    # compute the wealth for each trial \n",
    "    for i ∈ 1:number_of_trials\n",
    "        \n",
    "        simulation_array = simulation_dictionary[i]\n",
    "        \n",
    "        portfolio_performance_array = Array{Float64,2}(undef, number_of_days, M+1)\n",
    "        for j ∈ eachindex(my_list_of_tickers)\n",
    "        \n",
    "            ticker = my_list_of_tickers[j];\n",
    "            price_data = simulation_array[:,j+1];\n",
    "            nⱼ = Nₒ[j]\n",
    "        \n",
    "            for k ∈ 1:number_of_days\n",
    "                portfolio_performance_array[k,j] = nⱼ*price_data[k];\n",
    "            end\n",
    "        end\n",
    "    \n",
    "        # total -\n",
    "        for j ∈ 1:number_of_days\n",
    "            portfolio_performance_array[j,end] = sum(portfolio_performance_array[j,1:end-1])\n",
    "        end\n",
    "        \n",
    "        # wealth -\n",
    "        for j ∈ 1:number_of_days\n",
    "            simulated_wealth_array[j,i] = portfolio_performance_array[j,end];\n",
    "        end\n",
    "    end\n",
    "    simulated_wealth_array;\n",
    "end;"
   ]
  },
  {
   "cell_type": "markdown",
   "id": "2cc3919c",
   "metadata": {},
   "source": [
    "#### Compute the __actual wealth__ of portfolio $\\mathcal{P}$ given our allocation\n",
    "`Unhide` the code block below to see how we computed the __actual wealth__ of the portfolio $\\mathcal{P}$ for the allocation specified above. We store the simulation data in the `actual_portfolio_performance_array::Array{Float64,2}` variable.\n",
    "\n",
    "> __What's in the actual wealth array?__ Each row in the `actual_portfolio_performance_array` corresponds to a time value. The entries in the array are the total wealth of the portfolio $\\mathcal{P}$ at each time for the actual market data.\n",
    "\n",
    "Let's compute the actual wealth of our portfolio $\\mathcal{P}$."
   ]
  },
  {
   "cell_type": "code",
   "execution_count": 175,
   "id": "6f0305f8",
   "metadata": {},
   "outputs": [
    {
     "ename": "UndefVarError",
     "evalue": "UndefVarError: `simulation_dictionary` not defined in `Main`\nSuggestion: add an appropriate import or assignment. This global was declared but not assigned.",
     "output_type": "error",
     "traceback": [
      "UndefVarError: `simulation_dictionary` not defined in `Main`\n",
      "Suggestion: add an appropriate import or assignment. This global was declared but not assigned.\n",
      "\n",
      "Stacktrace:\n",
      " [1] top-level scope\n",
      "   @ ~/Documents/GitHub/ps3-5660-f25-H-janj/jl_notebook_cell_df34fa98e69747e1a8f8a730347b8e2f_Y113sZmlsZQ==.jl:5"
     ]
    }
   ],
   "source": [
    "actual_portfolio_performance_array = let\n",
    "\n",
    "\n",
    "    # initialize -\n",
    "    number_of_trials = length(simulation_dictionary) # number of trials\n",
    "    number_of_days = simulation_dictionary[1] |> m -> size(m,1) # number of days in each trial\n",
    "    M = length(my_list_of_tickers); # number of assets in portfolio\n",
    "    actual_portfolio_performance_array = Array{Float64,2}(undef, number_of_days, M+1)\n",
    "    \n",
    "    # compute the wealth for each trial\n",
    "    for i ∈ eachindex(my_list_of_tickers)\n",
    "        \n",
    "        ticker = my_list_of_tickers[i];\n",
    "        price_df = dataset[ticker];\n",
    "        ticker_data = filter(:timestamp => x-> x >= startdate, price_df)\n",
    "        nᵢ = Nₒ[i]\n",
    "        \n",
    "        for j ∈ 1:number_of_days\n",
    "            actual_portfolio_performance_array[j,i] = nᵢ*ticker_data[j,:volume_weighted_average_price];\n",
    "        end\n",
    "    end\n",
    "    \n",
    "    # total -\n",
    "    for i ∈ 1:number_of_days\n",
    "        actual_portfolio_performance_array[i,end] = sum(actual_portfolio_performance_array[i,1:end-1])\n",
    "    end\n",
    "    actual_portfolio_performance_array;\n",
    "end;"
   ]
  },
  {
   "cell_type": "markdown",
   "id": "54aa3966",
   "metadata": {},
   "source": [
    "### Compute the wealth of an index portfolio\n",
    "An alternative to building a portfolio of risky assets is to invest in an index fund that tracks a market index, such as the S&P 500. Let's use the [SPY ETF](https://en.wikipedia.org/wiki/SPDR_S%26P_500) as a proxy for the S&P 500 index, and compute our wealth if we had invested our entire `total_budget` in the SPY ETF at the start of our investment period.\n",
    "\n",
    "> __What's in the benchmark wealth array?__ The `benchmark_wealth_array` is a one-dimensional array where each entry corresponds to the total wealth of the benchmark portfolio (SPY ETF) at each time value during the investment period. Here we are assuming we invested our entire `total_budget` in the SPY ETF at the start of the investment period.\n",
    "\n",
    "Let's compute the benchmark wealth array."
   ]
  },
  {
   "cell_type": "code",
   "execution_count": 176,
   "id": "77bfffab",
   "metadata": {},
   "outputs": [],
   "source": [
    "benchmark_wealth_array = let\n",
    "\n",
    "    # initialize -\n",
    "    total_budget = total_initial_investment; # total initial investment amount (USD)\n",
    "    spy_data = dataset[\"SPY\"];\n",
    "    spy_data = filter(:timestamp => x-> x >= startdate, spy_data)\n",
    "    number_of_days = size(spy_data,1)\n",
    "    benchmark_wealth_array = Array{Float64,2}(undef, number_of_days, 1)\n",
    "\n",
    "    # compute the wealth -\n",
    "    for i ∈ 1:number_of_days\n",
    "        benchmark_wealth_array[i,1] = (total_budget/spy_data[1,:open])*spy_data[i,:volume_weighted_average_price];\n",
    "    end\n",
    "    benchmark_wealth_array;\n",
    "end;"
   ]
  },
  {
   "cell_type": "markdown",
   "id": "5d40b911",
   "metadata": {},
   "source": [
    "### Visualize simulated, actual and benchmark wealth arrays\n",
    "`Unhide` the code block below to see how we plotted the performance of the __simulated__ and __actual__ portfolio $\\mathcal{P}$ with our allocation $\\mathbf{w}$, along with the benchmark performance of the SPY ETF."
   ]
  },
  {
   "cell_type": "code",
   "execution_count": 177,
   "id": "faff302a",
   "metadata": {},
   "outputs": [
    {
     "ename": "UndefVarError",
     "evalue": "UndefVarError: `simulation_dictionary` not defined in `Main`\nSuggestion: add an appropriate import or assignment. This global was declared but not assigned.",
     "output_type": "error",
     "traceback": [
      "UndefVarError: `simulation_dictionary` not defined in `Main`\n",
      "Suggestion: add an appropriate import or assignment. This global was declared but not assigned.\n",
      "\n",
      "Stacktrace:\n",
      " [1] top-level scope\n",
      "   @ ~/Documents/GitHub/ps3-5660-f25-H-janj/jl_notebook_cell_df34fa98e69747e1a8f8a730347b8e2f_Y120sZmlsZQ==.jl:5"
     ]
    }
   ],
   "source": [
    "let\n",
    "\n",
    "    # initialize -\n",
    "    total_budget = total_initial_investment; # total initial investment amount (USD)\n",
    "    number_of_trials = length(simulation_dictionary) # number of trials\n",
    "    p = plot(); # initialize an empty plot\n",
    "    \n",
    "    # plot the trajectories -\n",
    "    for i ∈ 1:number_of_trials\n",
    "        plot!((1/total_budget)*simulated_wealth_array[:,i], c=:gray86,lw=1, label=\"\")\n",
    "    end\n",
    "    \n",
    "    # compute the expected wealth array, and bounds 0\n",
    "    expected_wealth_array = mean(simulated_wealth_array,dims=2)\n",
    "    L68 = (1/total_budget)*(expected_wealth_array .- std(simulated_wealth_array,dims=2))\n",
    "    U68 = (1/total_budget)*(expected_wealth_array .+ std(simulated_wealth_array,dims=2))\n",
    "    plot!((1/total_budget)*expected_wealth_array,fillrange=L68, c=:deepskyblue1, alpha=0.75,label=\"\")\n",
    "    plot!((1/total_budget)*expected_wealth_array,fillrange=U68, c=:deepskyblue1, alpha=0.75, label=\"\")\n",
    "    \n",
    "    L95 = (1/total_budget)*(expected_wealth_array .- 1.96*std(simulated_wealth_array,dims=2))\n",
    "    U95 = (1/total_budget)*(expected_wealth_array .+ 1.96*std(simulated_wealth_array,dims=2))\n",
    "    plot!((1/total_budget)*expected_wealth_array,fillrange=L95, c=:deepskyblue1, alpha=0.40,label=\"\")\n",
    "    plot!((1/total_budget)*expected_wealth_array,fillrange=U95, c=:deepskyblue1, alpha=0.40, label=\"\")\n",
    "\n",
    "    L99 = (1/total_budget)*(expected_wealth_array .- 2.576*std(simulated_wealth_array,dims=2))\n",
    "    U99 = (1/total_budget)*(expected_wealth_array .+ 2.576*std(simulated_wealth_array,dims=2))\n",
    "    plot!((1/total_budget)*expected_wealth_array,fillrange=L99, c=:deepskyblue1, alpha=0.30,label=\"\")\n",
    "    plot!((1/total_budget)*expected_wealth_array,fillrange=U99, c=:deepskyblue1, alpha=0.30, label=\"\")\n",
    "    \n",
    "    plot!((1/expected_wealth_array[1]).*expected_wealth_array, ls=:dash, c=:blue, lw=3, label=\"Portfolio (expected)\")\n",
    "    plot!((1/actual_portfolio_performance_array[1,end]).*actual_portfolio_performance_array[:,end], lw=3, \n",
    "        c=:red, label=\"Portfolio (actual)\")\n",
    "\n",
    "    # plot the benchmark -\n",
    "    plot!((1/total_budget)*benchmark_wealth_array, lw=3, ls=:dot, c=:red, label=\"Benchmark (SPY ETF)\")\n",
    "\n",
    "    plot!(L68, c=:deepskyblue3, lw=2, label=\"\")\n",
    "    plot!(U68, c=:deepskyblue3, lw=2, label=\"\")\n",
    "    plot!(L95, c=:deepskyblue2, lw=2, label=\"\")\n",
    "    plot!(U95, c=:deepskyblue2, lw=2, label=\"\")\n",
    "    plot!(L99, c=:deepskyblue1, lw=2, label=\"\")\n",
    "    plot!(U99, c=:deepskyblue1, lw=2, label=\"\")\n",
    "    \n",
    "    \n",
    "    plot!(bg=\"gray95\", background_color_outside=\"white\", framestyle = :box, fg_legend = :transparent);\n",
    "    \n",
    "    xlabel!(\"Trading Day Index (2025)\", fontsize=18)\n",
    "    ylabel!(\"Scaled Wealth (USD)\", fontsize=18)\n",
    "    current()\n",
    "end"
   ]
  },
  {
   "cell_type": "code",
   "execution_count": 178,
   "id": "f8228403",
   "metadata": {},
   "outputs": [],
   "source": [
    "do_I_see_the_final_wealth_plot = nothing; # set to {true | false} if you see the final wealth plot (true = yes, false = no)."
   ]
  },
  {
   "cell_type": "markdown",
   "id": "88def7fc",
   "metadata": {},
   "source": [
    "___"
   ]
  },
  {
   "cell_type": "markdown",
   "id": "9048c51a",
   "metadata": {},
   "source": [
    "## Discussion Questions\n",
    "\n",
    "### Question 1: Portfolio Composition and the Efficient Frontier Trade-off\n",
    "Change the `index_to_view::Int` value to analyze three distinct portfolios along the efficient frontier: the minimum-variance portfolio (lowest risk), a medium-risk portfolio (approximately middle of the frontier), and the maximum-return portfolio (highest risk-return point).\n",
    "\n",
    "__Discuss:__ How does the composition of the portfolio change as you move from minimum variance to maximum return? Which assets become more or less prominent, and why might this happen based on the individual asset characteristics (hint: look at the expected returns in $\\hat{\\mathbf{\\mu}}$ and the variance terms on the diagonal of $\\hat{\\mathbf{\\Sigma}}_{r}$ for each asset)? What does this tell you about the trade-off between diversification and concentration as risk tolerance increases?"
   ]
  },
  {
   "cell_type": "markdown",
   "id": "7c8aed5a",
   "metadata": {},
   "source": [
    "__TODO__: Fill in your DQ1 answer here (double-click to edit)."
   ]
  },
  {
   "cell_type": "code",
   "execution_count": 179,
   "id": "02b64fdb",
   "metadata": {},
   "outputs": [],
   "source": [
    "did_I_answer_DQ1 = nothing; # change this to {true | false} if you answered DQ1 (true = yes, false = no)"
   ]
  },
  {
   "cell_type": "markdown",
   "id": "906d39da",
   "metadata": {},
   "source": [
    "### Question 2: Out-of-Sample Performance and Model Limitations\n",
    "Compare the performance of your minimum-variance portfolio against the SPY ETF benchmark by analyzing the visualization from the final plot. Consider both the simulated (blue confidence bands) and actual (red line) performance trajectories.\n",
    "\n",
    "__Discuss:__ Did the minimum-variance portfolio outperform or underperform the SPY benchmark during the out-of-sample period? What does the relationship between the actual portfolio performance and the simulated confidence intervals tell you about the reliability of the historical parameter estimates ($\\hat{\\mu}$ and $\\hat{\\mathbf{\\Sigma}}_{r}$)? \n",
    "\n",
    "* If the actual performance fell outside the 99% confidence bands, what might this suggest about the limitations of using historical data to predict future portfolio behavior? Consider factors such as parameter estimation error, regime changes, or non-stationarity in the underlying asset dynamics."
   ]
  },
  {
   "cell_type": "markdown",
   "id": "8761f6a2",
   "metadata": {},
   "source": [
    "__TODO__: Fill in your DQ2 answer here (double-click to edit)."
   ]
  },
  {
   "cell_type": "code",
   "execution_count": 180,
   "id": "047b9757",
   "metadata": {},
   "outputs": [],
   "source": [
    "did_I_answer_DQ2 = nothing; # change this to {true | false} if you answered DQ1 (true = yes, false = no)"
   ]
  },
  {
   "cell_type": "markdown",
   "id": "2d506954",
   "metadata": {},
   "source": [
    "___"
   ]
  },
  {
   "cell_type": "markdown",
   "id": "8de04ee8",
   "metadata": {},
   "source": [
    "## Summary\n",
    "In this example, we implemented a complete data-driven approach to modern portfolio theory, computing the efficient frontier for a portfolio of risky assets using historical market data and evaluating performance through simulation.\n",
    "\n",
    "> __Key Takeaways:__\n",
    "> * **Historical data provides empirical inputs for portfolio optimization, but with important limitations.** By computing sample means and covariance matrices from real price data, we obtain the statistical parameters needed for Markowitz optimization, though these estimates reflect past relationships that may not persist in the future—making out-of-sample testing crucial for validation.\n",
    ">\n",
    "> * **Markowitz optimization systematically balances expected return against portfolio risk.** The minimum-variance framework estimates optimal asset allocations that minimize portfolio variance for each target return level, and by plotting these optimal portfolios across different return targets, we visualize the efficient frontier—the boundary of achievable risk-return combinations showing how diversification can reduce risk without sacrificing expected return.\n",
    ">\n",
    "> * **Stochastic simulation enables robust testing of portfolio strategies under uncertainty.** Multi-asset geometric Brownian motion models generate correlated price trajectories that capture realistic market dynamics, allowing us to evaluate how minimum-variance portfolios perform on out-of-sample data compared to benchmarks like index funds, revealing the practical implications of optimization-based allocation decisions.\n",
    "\n",
    "This framework demonstrates how quantitative methods can guide portfolio construction decisions, though real-world implementation requires careful consideration of parameter estimation uncertainty, changing market conditions, and many other factors. But it is a start!\n",
    "___"
   ]
  },
  {
   "cell_type": "markdown",
   "id": "5bb73370",
   "metadata": {},
   "source": [
    "## Tests\n",
    "The code block below shows how we implemented the tests and what we are testing. In these tests, we check values in your notebook and give feedback on which items are correct, missing, etc."
   ]
  },
  {
   "cell_type": "code",
   "execution_count": 181,
   "id": "b4d02212",
   "metadata": {},
   "outputs": [
    {
     "name": "stdout",
     "output_type": "stream",
     "text": [
      "Task 3: Portfolio Selection and Initial Prices: \u001b[91m\u001b[1mTest Failed\u001b[22m\u001b[39m at \u001b[39m\u001b[1m/Users/haider/Documents/GitHub/ps3-5660-f25-H-janj/jl_notebook_cell_df34fa98e69747e1a8f8a730347b8e2f_Y135sZmlsZQ==.jl:60\u001b[22m\n",
      "  Expression: length(Sₒ) == length(my_list_of_tickers)\n",
      "   Evaluated: 0 == 3\n",
      "\n",
      "Stacktrace:\n",
      " [1] \u001b[0m\u001b[1mmacro expansion\u001b[22m\n",
      "\u001b[90m   @\u001b[39m \u001b[90m~/.julia/juliaup/julia-1.12.1+0.aarch64.apple.darwin14/share/julia/stdlib/v1.12/Test/src/\u001b[39m\u001b[90m\u001b[4mTest.jl:680\u001b[24m\u001b[39m\u001b[90m [inlined]\u001b[39m\n",
      " [2] \u001b[0m\u001b[1mmacro expansion\u001b[22m\n",
      "\u001b[90m   @\u001b[39m \u001b[90m~/Documents/GitHub/ps3-5660-f25-H-janj/\u001b[39m\u001b[90m\u001b[4mjl_notebook_cell_df34fa98e69747e1a8f8a730347b8e2f_Y135sZmlsZQ==.jl:60\u001b[24m\u001b[39m\u001b[90m [inlined]\u001b[39m\n",
      " [3] \u001b[0m\u001b[1mmacro expansion\u001b[22m\n",
      "\u001b[90m   @\u001b[39m \u001b[90m~/.julia/juliaup/julia-1.12.1+0.aarch64.apple.darwin14/share/julia/stdlib/v1.12/Test/src/\u001b[39m\u001b[90m\u001b[4mTest.jl:1776\u001b[24m\u001b[39m\u001b[90m [inlined]\u001b[39m\n",
      " [4] \u001b[0m\u001b[1mmacro expansion\u001b[22m\n",
      "\u001b[90m   @\u001b[39m \u001b[90m~/Documents/GitHub/ps3-5660-f25-H-janj/\u001b[39m\u001b[90m\u001b[4mjl_notebook_cell_df34fa98e69747e1a8f8a730347b8e2f_Y135sZmlsZQ==.jl:54\u001b[24m\u001b[39m\u001b[90m [inlined]\u001b[39m\n",
      " [5] \u001b[0m\u001b[1mmacro expansion\u001b[22m\n",
      "\u001b[90m   @\u001b[39m \u001b[90m~/.julia/juliaup/julia-1.12.1+0.aarch64.apple.darwin14/share/julia/stdlib/v1.12/Test/src/\u001b[39m\u001b[90m\u001b[4mTest.jl:1776\u001b[24m\u001b[39m\u001b[90m [inlined]\u001b[39m\n",
      " [6] top-level scope\n",
      "\u001b[90m   @\u001b[39m \u001b[90m~/Documents/GitHub/ps3-5660-f25-H-janj/\u001b[39m\u001b[90m\u001b[4mjl_notebook_cell_df34fa98e69747e1a8f8a730347b8e2f_Y135sZmlsZQ==.jl:4\u001b[24m\u001b[39m\n",
      "Task 3: Share Calculations: \u001b[91m\u001b[1mTest Failed\u001b[22m\u001b[39m at \u001b[39m\u001b[1m/Users/haider/Documents/GitHub/ps3-5660-f25-H-janj/jl_notebook_cell_df34fa98e69747e1a8f8a730347b8e2f_Y135sZmlsZQ==.jl:67\u001b[22m\n",
      "  Expression: length(Nₒ) == length(my_list_of_tickers)\n",
      "   Evaluated: 0 == 3\n",
      "\n",
      "Stacktrace:\n",
      " [1] \u001b[0m\u001b[1mmacro expansion\u001b[22m\n",
      "\u001b[90m   @\u001b[39m \u001b[90m~/.julia/juliaup/julia-1.12.1+0.aarch64.apple.darwin14/share/julia/stdlib/v1.12/Test/src/\u001b[39m\u001b[90m\u001b[4mTest.jl:680\u001b[24m\u001b[39m\u001b[90m [inlined]\u001b[39m\n",
      " [2] \u001b[0m\u001b[1mmacro expansion\u001b[22m\n",
      "\u001b[90m   @\u001b[39m \u001b[90m~/Documents/GitHub/ps3-5660-f25-H-janj/\u001b[39m\u001b[90m\u001b[4mjl_notebook_cell_df34fa98e69747e1a8f8a730347b8e2f_Y135sZmlsZQ==.jl:67\u001b[24m\u001b[39m\u001b[90m [inlined]\u001b[39m\n",
      " [3] \u001b[0m\u001b[1mmacro expansion\u001b[22m\n",
      "\u001b[90m   @\u001b[39m \u001b[90m~/.julia/juliaup/julia-1.12.1+0.aarch64.apple.darwin14/share/julia/stdlib/v1.12/Test/src/\u001b[39m\u001b[90m\u001b[4mTest.jl:1776\u001b[24m\u001b[39m\u001b[90m [inlined]\u001b[39m\n",
      " [4] \u001b[0m\u001b[1mmacro expansion\u001b[22m\n",
      "\u001b[90m   @\u001b[39m \u001b[90m~/Documents/GitHub/ps3-5660-f25-H-janj/\u001b[39m\u001b[90m\u001b[4mjl_notebook_cell_df34fa98e69747e1a8f8a730347b8e2f_Y135sZmlsZQ==.jl:66\u001b[24m\u001b[39m\u001b[90m [inlined]\u001b[39m\n",
      " [5] \u001b[0m\u001b[1mmacro expansion\u001b[22m\n",
      "\u001b[90m   @\u001b[39m \u001b[90m~/.julia/juliaup/julia-1.12.1+0.aarch64.apple.darwin14/share/julia/stdlib/v1.12/Test/src/\u001b[39m\u001b[90m\u001b[4mTest.jl:1776\u001b[24m\u001b[39m\u001b[90m [inlined]\u001b[39m\n",
      " [6] top-level scope\n",
      "\u001b[90m   @\u001b[39m \u001b[90m~/Documents/GitHub/ps3-5660-f25-H-janj/\u001b[39m\u001b[90m\u001b[4mjl_notebook_cell_df34fa98e69747e1a8f8a730347b8e2f_Y135sZmlsZQ==.jl:4\u001b[24m\u001b[39m\n",
      "Task 3: Share Calculations: \u001b[91m\u001b[1mTest Failed\u001b[22m\u001b[39m at \u001b[39m\u001b[1m/Users/haider/Documents/GitHub/ps3-5660-f25-H-janj/jl_notebook_cell_df34fa98e69747e1a8f8a730347b8e2f_Y135sZmlsZQ==.jl:72\u001b[22m\n",
      "  Expression: isapprox(total_value, total_initial_investment, atol = 0.01)\n",
      "   Evaluated: isapprox(0.0, 1000; atol = 0.01)\n",
      "\n",
      "Stacktrace:\n",
      " [1] \u001b[0m\u001b[1mmacro expansion\u001b[22m\n",
      "\u001b[90m   @\u001b[39m \u001b[90m~/.julia/juliaup/julia-1.12.1+0.aarch64.apple.darwin14/share/julia/stdlib/v1.12/Test/src/\u001b[39m\u001b[90m\u001b[4mTest.jl:680\u001b[24m\u001b[39m\u001b[90m [inlined]\u001b[39m\n",
      " [2] \u001b[0m\u001b[1mmacro expansion\u001b[22m\n",
      "\u001b[90m   @\u001b[39m \u001b[90m~/Documents/GitHub/ps3-5660-f25-H-janj/\u001b[39m\u001b[90m\u001b[4mjl_notebook_cell_df34fa98e69747e1a8f8a730347b8e2f_Y135sZmlsZQ==.jl:72\u001b[24m\u001b[39m\u001b[90m [inlined]\u001b[39m\n",
      " [3] \u001b[0m\u001b[1mmacro expansion\u001b[22m\n",
      "\u001b[90m   @\u001b[39m \u001b[90m~/.julia/juliaup/julia-1.12.1+0.aarch64.apple.darwin14/share/julia/stdlib/v1.12/Test/src/\u001b[39m\u001b[90m\u001b[4mTest.jl:1776\u001b[24m\u001b[39m\u001b[90m [inlined]\u001b[39m\n",
      " [4] \u001b[0m\u001b[1mmacro expansion\u001b[22m\n",
      "\u001b[90m   @\u001b[39m \u001b[90m~/Documents/GitHub/ps3-5660-f25-H-janj/\u001b[39m\u001b[90m\u001b[4mjl_notebook_cell_df34fa98e69747e1a8f8a730347b8e2f_Y135sZmlsZQ==.jl:66\u001b[24m\u001b[39m\u001b[90m [inlined]\u001b[39m\n",
      " [5] \u001b[0m\u001b[1mmacro expansion\u001b[22m\n",
      "\u001b[90m   @\u001b[39m \u001b[90m~/.julia/juliaup/julia-1.12.1+0.aarch64.apple.darwin14/share/julia/stdlib/v1.12/Test/src/\u001b[39m\u001b[90m\u001b[4mTest.jl:1776\u001b[24m\u001b[39m\u001b[90m [inlined]\u001b[39m\n",
      " [6] top-level scope\n",
      "\u001b[90m   @\u001b[39m \u001b[90m~/Documents/GitHub/ps3-5660-f25-H-janj/\u001b[39m\u001b[90m\u001b[4mjl_notebook_cell_df34fa98e69747e1a8f8a730347b8e2f_Y135sZmlsZQ==.jl:4\u001b[24m\u001b[39m\n",
      "Task 3: Multi-Asset GBM Model: \u001b[91m\u001b[1mTest Failed\u001b[22m\u001b[39m at \u001b[39m\u001b[1m/Users/haider/Documents/GitHub/ps3-5660-f25-H-janj/jl_notebook_cell_df34fa98e69747e1a8f8a730347b8e2f_Y135sZmlsZQ==.jl:84\u001b[22m\n",
      "  Expression: isdefined(Main, :simulation_dictionary)\n",
      "\n",
      "Stacktrace:\n",
      " [1] \u001b[0m\u001b[1mmacro expansion\u001b[22m\n",
      "\u001b[90m   @\u001b[39m \u001b[90m~/.julia/juliaup/julia-1.12.1+0.aarch64.apple.darwin14/share/julia/stdlib/v1.12/Test/src/\u001b[39m\u001b[90m\u001b[4mTest.jl:680\u001b[24m\u001b[39m\u001b[90m [inlined]\u001b[39m\n",
      " [2] \u001b[0m\u001b[1mmacro expansion\u001b[22m\n",
      "\u001b[90m   @\u001b[39m \u001b[90m~/Documents/GitHub/ps3-5660-f25-H-janj/\u001b[39m\u001b[90m\u001b[4mjl_notebook_cell_df34fa98e69747e1a8f8a730347b8e2f_Y135sZmlsZQ==.jl:84\u001b[24m\u001b[39m\u001b[90m [inlined]\u001b[39m\n",
      " [3] \u001b[0m\u001b[1mmacro expansion\u001b[22m\n",
      "\u001b[90m   @\u001b[39m \u001b[90m~/.julia/juliaup/julia-1.12.1+0.aarch64.apple.darwin14/share/julia/stdlib/v1.12/Test/src/\u001b[39m\u001b[90m\u001b[4mTest.jl:1776\u001b[24m\u001b[39m\u001b[90m [inlined]\u001b[39m\n",
      " [4] \u001b[0m\u001b[1mmacro expansion\u001b[22m\n",
      "\u001b[90m   @\u001b[39m \u001b[90m~/Documents/GitHub/ps3-5660-f25-H-janj/\u001b[39m\u001b[90m\u001b[4mjl_notebook_cell_df34fa98e69747e1a8f8a730347b8e2f_Y135sZmlsZQ==.jl:83\u001b[24m\u001b[39m\u001b[90m [inlined]\u001b[39m\n",
      " [5] \u001b[0m\u001b[1mmacro expansion\u001b[22m\n",
      "\u001b[90m   @\u001b[39m \u001b[90m~/.julia/juliaup/julia-1.12.1+0.aarch64.apple.darwin14/share/julia/stdlib/v1.12/Test/src/\u001b[39m\u001b[90m\u001b[4mTest.jl:1776\u001b[24m\u001b[39m\u001b[90m [inlined]\u001b[39m\n",
      " [6] top-level scope\n",
      "\u001b[90m   @\u001b[39m \u001b[90m~/Documents/GitHub/ps3-5660-f25-H-janj/\u001b[39m\u001b[90m\u001b[4mjl_notebook_cell_df34fa98e69747e1a8f8a730347b8e2f_Y135sZmlsZQ==.jl:4\u001b[24m\u001b[39m\n",
      "Task 3: Multi-Asset GBM Model: \u001b[91m\u001b[1mError During Test\u001b[22m\u001b[39m at \u001b[39m\u001b[1m/Users/haider/Documents/GitHub/ps3-5660-f25-H-janj/jl_notebook_cell_df34fa98e69747e1a8f8a730347b8e2f_Y135sZmlsZQ==.jl:85\u001b[22m\n",
      "  Test threw exception\n",
      "  Expression: typeof(simulation_dictionary) <: Dict\n",
      "  UndefVarError: `simulation_dictionary` not defined in `Main`\n",
      "  Suggestion: add an appropriate import or assignment. This global was declared but not assigned.\n",
      "  Stacktrace:\n",
      "   [1] \u001b[0m\u001b[1mmacro expansion\u001b[22m\n",
      "  \u001b[90m   @\u001b[39m \u001b[90m~/.julia/juliaup/julia-1.12.1+0.aarch64.apple.darwin14/share/julia/stdlib/v1.12/Test/src/\u001b[39m\u001b[90m\u001b[4mTest.jl:677\u001b[24m\u001b[39m\u001b[90m [inlined]\u001b[39m\n",
      "   [2] \u001b[0m\u001b[1mmacro expansion\u001b[22m\n",
      "  \u001b[90m   @\u001b[39m \u001b[90m~/Documents/GitHub/ps3-5660-f25-H-janj/\u001b[39m\u001b[90m\u001b[4mjl_notebook_cell_df34fa98e69747e1a8f8a730347b8e2f_Y135sZmlsZQ==.jl:85\u001b[24m\u001b[39m\u001b[90m [inlined]\u001b[39m\n",
      "   [3] \u001b[0m\u001b[1mmacro expansion\u001b[22m\n",
      "  \u001b[90m   @\u001b[39m \u001b[90m~/.julia/juliaup/julia-1.12.1+0.aarch64.apple.darwin14/share/julia/stdlib/v1.12/Test/src/\u001b[39m\u001b[90m\u001b[4mTest.jl:1776\u001b[24m\u001b[39m\u001b[90m [inlined]\u001b[39m\n",
      "   [4] \u001b[0m\u001b[1mmacro expansion\u001b[22m\n",
      "  \u001b[90m   @\u001b[39m \u001b[90m~/Documents/GitHub/ps3-5660-f25-H-janj/\u001b[39m\u001b[90m\u001b[4mjl_notebook_cell_df34fa98e69747e1a8f8a730347b8e2f_Y135sZmlsZQ==.jl:83\u001b[24m\u001b[39m\u001b[90m [inlined]\u001b[39m\n",
      "   [5] \u001b[0m\u001b[1mmacro expansion\u001b[22m\n",
      "  \u001b[90m   @\u001b[39m \u001b[90m~/.julia/juliaup/julia-1.12.1+0.aarch64.apple.darwin14/share/julia/stdlib/v1.12/Test/src/\u001b[39m\u001b[90m\u001b[4mTest.jl:1776\u001b[24m\u001b[39m\u001b[90m [inlined]\u001b[39m\n",
      "   [6] top-level scope\n",
      "  \u001b[90m   @\u001b[39m \u001b[90m~/Documents/GitHub/ps3-5660-f25-H-janj/\u001b[39m\u001b[90m\u001b[4mjl_notebook_cell_df34fa98e69747e1a8f8a730347b8e2f_Y135sZmlsZQ==.jl:4\u001b[24m\u001b[39m\n",
      "Task 3: Multi-Asset GBM Model: \u001b[91m\u001b[1mError During Test\u001b[22m\u001b[39m at \u001b[39m\u001b[1m/Users/haider/Documents/GitHub/ps3-5660-f25-H-janj/jl_notebook_cell_df34fa98e69747e1a8f8a730347b8e2f_Y135sZmlsZQ==.jl:86\u001b[22m\n",
      "  Test threw exception\n",
      "  Expression: length(simulation_dictionary) > 0\n",
      "  UndefVarError: `simulation_dictionary` not defined in `Main`\n",
      "  Suggestion: add an appropriate import or assignment. This global was declared but not assigned.\n",
      "  Stacktrace:\n",
      "   [1] \u001b[0m\u001b[1mmacro expansion\u001b[22m\n",
      "  \u001b[90m   @\u001b[39m \u001b[90m~/.julia/juliaup/julia-1.12.1+0.aarch64.apple.darwin14/share/julia/stdlib/v1.12/Test/src/\u001b[39m\u001b[90m\u001b[4mTest.jl:677\u001b[24m\u001b[39m\u001b[90m [inlined]\u001b[39m\n",
      "   [2] \u001b[0m\u001b[1mmacro expansion\u001b[22m\n",
      "  \u001b[90m   @\u001b[39m \u001b[90m~/Documents/GitHub/ps3-5660-f25-H-janj/\u001b[39m\u001b[90m\u001b[4mjl_notebook_cell_df34fa98e69747e1a8f8a730347b8e2f_Y135sZmlsZQ==.jl:86\u001b[24m\u001b[39m\u001b[90m [inlined]\u001b[39m\n",
      "   [3] \u001b[0m\u001b[1mmacro expansion\u001b[22m\n",
      "  \u001b[90m   @\u001b[39m \u001b[90m~/.julia/juliaup/julia-1.12.1+0.aarch64.apple.darwin14/share/julia/stdlib/v1.12/Test/src/\u001b[39m\u001b[90m\u001b[4mTest.jl:1776\u001b[24m\u001b[39m\u001b[90m [inlined]\u001b[39m\n",
      "   [4] \u001b[0m\u001b[1mmacro expansion\u001b[22m\n",
      "  \u001b[90m   @\u001b[39m \u001b[90m~/Documents/GitHub/ps3-5660-f25-H-janj/\u001b[39m\u001b[90m\u001b[4mjl_notebook_cell_df34fa98e69747e1a8f8a730347b8e2f_Y135sZmlsZQ==.jl:83\u001b[24m\u001b[39m\u001b[90m [inlined]\u001b[39m\n",
      "   [5] \u001b[0m\u001b[1mmacro expansion\u001b[22m\n",
      "  \u001b[90m   @\u001b[39m \u001b[90m~/.julia/juliaup/julia-1.12.1+0.aarch64.apple.darwin14/share/julia/stdlib/v1.12/Test/src/\u001b[39m\u001b[90m\u001b[4mTest.jl:1776\u001b[24m\u001b[39m\u001b[90m [inlined]\u001b[39m\n",
      "   [6] top-level scope\n",
      "  \u001b[90m   @\u001b[39m \u001b[90m~/Documents/GitHub/ps3-5660-f25-H-janj/\u001b[39m\u001b[90m\u001b[4mjl_notebook_cell_df34fa98e69747e1a8f8a730347b8e2f_Y135sZmlsZQ==.jl:4\u001b[24m\u001b[39m\n",
      "Task 3: Multi-Asset GBM Model: \u001b[91m\u001b[1mError During Test\u001b[22m\u001b[39m at \u001b[39m\u001b[1m/Users/haider/Documents/GitHub/ps3-5660-f25-H-janj/jl_notebook_cell_df34fa98e69747e1a8f8a730347b8e2f_Y135sZmlsZQ==.jl:81\u001b[22m\n",
      "  Got exception outside of a @test\n",
      "  UndefVarError: `simulation_dictionary` not defined in `Main`\n",
      "  Suggestion: add an appropriate import or assignment. This global was declared but not assigned.\n",
      "  Stacktrace:\n",
      "    [1] \u001b[0m\u001b[1mmacro expansion\u001b[22m\n",
      "  \u001b[90m    @\u001b[39m \u001b[90m~/Documents/GitHub/ps3-5660-f25-H-janj/\u001b[39m\u001b[90m\u001b[4mjl_notebook_cell_df34fa98e69747e1a8f8a730347b8e2f_Y135sZmlsZQ==.jl:89\u001b[24m\u001b[39m\u001b[90m [inlined]\u001b[39m\n",
      "    [2] \u001b[0m\u001b[1mmacro expansion\u001b[22m\n",
      "  \u001b[90m    @\u001b[39m \u001b[90m~/.julia/juliaup/julia-1.12.1+0.aarch64.apple.darwin14/share/julia/stdlib/v1.12/Test/src/\u001b[39m\u001b[90m\u001b[4mTest.jl:1776\u001b[24m\u001b[39m\u001b[90m [inlined]\u001b[39m\n",
      "    [3] \u001b[0m\u001b[1mmacro expansion\u001b[22m\n",
      "  \u001b[90m    @\u001b[39m \u001b[90m~/Documents/GitHub/ps3-5660-f25-H-janj/\u001b[39m\u001b[90m\u001b[4mjl_notebook_cell_df34fa98e69747e1a8f8a730347b8e2f_Y135sZmlsZQ==.jl:83\u001b[24m\u001b[39m\u001b[90m [inlined]\u001b[39m\n",
      "    [4] \u001b[0m\u001b[1mmacro expansion\u001b[22m\n",
      "  \u001b[90m    @\u001b[39m \u001b[90m~/.julia/juliaup/julia-1.12.1+0.aarch64.apple.darwin14/share/julia/stdlib/v1.12/Test/src/\u001b[39m\u001b[90m\u001b[4mTest.jl:1776\u001b[24m\u001b[39m\u001b[90m [inlined]\u001b[39m\n",
      "    [5] top-level scope\n",
      "  \u001b[90m    @\u001b[39m \u001b[90m~/Documents/GitHub/ps3-5660-f25-H-janj/\u001b[39m\u001b[90m\u001b[4mjl_notebook_cell_df34fa98e69747e1a8f8a730347b8e2f_Y135sZmlsZQ==.jl:4\u001b[24m\u001b[39m\n",
      "    [6] \u001b[0m\u001b[1meval\u001b[22m\u001b[0m\u001b[1m(\u001b[22m\u001b[90mm\u001b[39m::\u001b[0mModule, \u001b[90me\u001b[39m::\u001b[0mAny\u001b[0m\u001b[1m)\u001b[22m\n",
      "  \u001b[90m    @\u001b[39m \u001b[90mCore\u001b[39m \u001b[90m./\u001b[39m\u001b[90m\u001b[4mboot.jl:489\u001b[24m\u001b[39m\n",
      "    [7] \u001b[0m\u001b[1minclude_string\u001b[22m\u001b[0m\u001b[1m(\u001b[22m\u001b[90mmapexpr\u001b[39m::\u001b[0mtypeof(REPL.softscope), \u001b[90mmod\u001b[39m::\u001b[0mModule, \u001b[90mcode\u001b[39m::\u001b[0mString, \u001b[90mfilename\u001b[39m::\u001b[0mString\u001b[0m\u001b[1m)\u001b[22m\n",
      "  \u001b[90m    @\u001b[39m \u001b[90mBase\u001b[39m \u001b[90m./\u001b[39m\u001b[90m\u001b[4mloading.jl:2842\u001b[24m\u001b[39m\n",
      "    [8] \u001b[0m\u001b[1m(::VSCodeServer.var\"#notebook_runcell_request##0#notebook_runcell_request##1\"{VSCodeServer.NotebookRunCellArguments, String})\u001b[22m\u001b[0m\u001b[1m(\u001b[22m\u001b[0m\u001b[1m)\u001b[22m\n",
      "  \u001b[90m    @\u001b[39m \u001b[35mVSCodeServer\u001b[39m \u001b[90m~/.vscode/extensions/julialang.language-julia-1.149.2/scripts/packages/VSCodeServer/src/\u001b[39m\u001b[90m\u001b[4mserve_notebook.jl:24\u001b[24m\u001b[39m\n",
      "    [9] \u001b[0m\u001b[1mwithpath\u001b[22m\u001b[0m\u001b[1m(\u001b[22m\u001b[90mf\u001b[39m::\u001b[0mVSCodeServer.var\"#notebook_runcell_request##0#notebook_runcell_request##1\"\u001b[90m{VSCodeServer.NotebookRunCellArguments, String}\u001b[39m, \u001b[90mpath\u001b[39m::\u001b[0mString\u001b[0m\u001b[1m)\u001b[22m\n",
      "  \u001b[90m    @\u001b[39m \u001b[35mVSCodeServer\u001b[39m \u001b[90m~/.vscode/extensions/julialang.language-julia-1.149.2/scripts/packages/VSCodeServer/src/\u001b[39m\u001b[90m\u001b[4mrepl.jl:276\u001b[24m\u001b[39m\n",
      "   [10] \u001b[0m\u001b[1mnotebook_runcell_request\u001b[22m\u001b[0m\u001b[1m(\u001b[22m\u001b[90mconn\u001b[39m::\u001b[0mVSCodeServer.JSONRPC.JSONRPCEndpoint\u001b[90m{Base.PipeEndpoint, Base.PipeEndpoint, VSCodeServer.JSON.Serializations.StandardSerialization}\u001b[39m, \u001b[90mparams\u001b[39m::\u001b[0mVSCodeServer.NotebookRunCellArguments, \u001b[90mtoken\u001b[39m::\u001b[0mVSCodeServer.CancellationTokens.CancellationToken\u001b[0m\u001b[1m)\u001b[22m\n",
      "  \u001b[90m    @\u001b[39m \u001b[35mVSCodeServer\u001b[39m \u001b[90m~/.vscode/extensions/julialang.language-julia-1.149.2/scripts/packages/VSCodeServer/src/\u001b[39m\u001b[90m\u001b[4mserve_notebook.jl:13\u001b[24m\u001b[39m\n",
      "   [11] \u001b[0m\u001b[1mdispatch_msg\u001b[22m\u001b[0m\u001b[1m(\u001b[22m\u001b[90mx\u001b[39m::\u001b[0mVSCodeServer.JSONRPC.JSONRPCEndpoint\u001b[90m{Base.PipeEndpoint, Base.PipeEndpoint, VSCodeServer.JSON.Serializations.StandardSerialization}\u001b[39m, \u001b[90mdispatcher\u001b[39m::\u001b[0mVSCodeServer.JSONRPC.MsgDispatcher, \u001b[90mmsg\u001b[39m::\u001b[0mVSCodeServer.JSONRPC.Request\u001b[0m\u001b[1m)\u001b[22m\n",
      "  \u001b[90m    @\u001b[39m \u001b[35mVSCodeServer.JSONRPC\u001b[39m \u001b[90m~/.vscode/extensions/julialang.language-julia-1.149.2/scripts/packages/JSONRPC/src/\u001b[39m\u001b[90m\u001b[4mtyped.jl:0\u001b[24m\u001b[39m\n",
      "   [12] \u001b[0m\u001b[1mserve_notebook\u001b[22m\u001b[0m\u001b[1m(\u001b[22m\u001b[90mpipename\u001b[39m::\u001b[0mString, \u001b[90mdebugger_pipename\u001b[39m::\u001b[0mString, \u001b[90moutputchannel_logger\u001b[39m::\u001b[0mBase.CoreLogging.SimpleLogger; \u001b[90merror_handler\u001b[39m::\u001b[0mvar\"#14#15\"\u001b[90m{String}\u001b[39m\u001b[0m\u001b[1m)\u001b[22m\n",
      "  \u001b[90m    @\u001b[39m \u001b[35mVSCodeServer\u001b[39m \u001b[90m~/.vscode/extensions/julialang.language-julia-1.149.2/scripts/packages/VSCodeServer/src/\u001b[39m\u001b[90m\u001b[4mserve_notebook.jl:147\u001b[24m\u001b[39m\n",
      "   [13] top-level scope\n",
      "  \u001b[90m    @\u001b[39m \u001b[90m~/.vscode/extensions/julialang.language-julia-1.149.2/scripts/notebook/\u001b[39m\u001b[90m\u001b[4mnotebook.jl:35\u001b[24m\u001b[39m\n",
      "   [14] \u001b[0m\u001b[1minclude\u001b[22m\u001b[0m\u001b[1m(\u001b[22m\u001b[90mmod\u001b[39m::\u001b[0mModule, \u001b[90m_path\u001b[39m::\u001b[0mString\u001b[0m\u001b[1m)\u001b[22m\n",
      "  \u001b[90m    @\u001b[39m \u001b[90mBase\u001b[39m \u001b[90m./\u001b[39m\u001b[90m\u001b[4mBase.jl:306\u001b[24m\u001b[39m\n",
      "   [15] \u001b[0m\u001b[1mexec_options\u001b[22m\u001b[0m\u001b[1m(\u001b[22m\u001b[90mopts\u001b[39m::\u001b[0mBase.JLOptions\u001b[0m\u001b[1m)\u001b[22m\n",
      "  \u001b[90m    @\u001b[39m \u001b[90mBase\u001b[39m \u001b[90m./\u001b[39m\u001b[90m\u001b[4mclient.jl:317\u001b[24m\u001b[39m\n",
      "   [16] \u001b[0m\u001b[1m_start\u001b[22m\u001b[0m\u001b[1m(\u001b[22m\u001b[0m\u001b[1m)\u001b[22m\n",
      "  \u001b[90m    @\u001b[39m \u001b[90mBase\u001b[39m \u001b[90m./\u001b[39m\u001b[90m\u001b[4mclient.jl:550\u001b[24m\u001b[39m\n",
      "Task 3: Simulated Wealth Array: \u001b[91m\u001b[1mTest Failed\u001b[22m\u001b[39m at \u001b[39m\u001b[1m/Users/haider/Documents/GitHub/ps3-5660-f25-H-janj/jl_notebook_cell_df34fa98e69747e1a8f8a730347b8e2f_Y135sZmlsZQ==.jl:96\u001b[22m\n",
      "  Expression: isdefined(Main, :simulated_wealth_array)\n",
      "\n",
      "Stacktrace:\n",
      " [1] \u001b[0m\u001b[1mmacro expansion\u001b[22m\n",
      "\u001b[90m   @\u001b[39m \u001b[90m~/.julia/juliaup/julia-1.12.1+0.aarch64.apple.darwin14/share/julia/stdlib/v1.12/Test/src/\u001b[39m\u001b[90m\u001b[4mTest.jl:680\u001b[24m\u001b[39m\u001b[90m [inlined]\u001b[39m\n",
      " [2] \u001b[0m\u001b[1mmacro expansion\u001b[22m\n",
      "\u001b[90m   @\u001b[39m \u001b[90m~/Documents/GitHub/ps3-5660-f25-H-janj/\u001b[39m\u001b[90m\u001b[4mjl_notebook_cell_df34fa98e69747e1a8f8a730347b8e2f_Y135sZmlsZQ==.jl:96\u001b[24m\u001b[39m\u001b[90m [inlined]\u001b[39m\n",
      " [3] \u001b[0m\u001b[1mmacro expansion\u001b[22m\n",
      "\u001b[90m   @\u001b[39m \u001b[90m~/.julia/juliaup/julia-1.12.1+0.aarch64.apple.darwin14/share/julia/stdlib/v1.12/Test/src/\u001b[39m\u001b[90m\u001b[4mTest.jl:1776\u001b[24m\u001b[39m\u001b[90m [inlined]\u001b[39m\n",
      " [4] \u001b[0m\u001b[1mmacro expansion\u001b[22m\n",
      "\u001b[90m   @\u001b[39m \u001b[90m~/Documents/GitHub/ps3-5660-f25-H-janj/\u001b[39m\u001b[90m\u001b[4mjl_notebook_cell_df34fa98e69747e1a8f8a730347b8e2f_Y135sZmlsZQ==.jl:96\u001b[24m\u001b[39m\u001b[90m [inlined]\u001b[39m\n",
      " [5] \u001b[0m\u001b[1mmacro expansion\u001b[22m\n",
      "\u001b[90m   @\u001b[39m \u001b[90m~/.julia/juliaup/julia-1.12.1+0.aarch64.apple.darwin14/share/julia/stdlib/v1.12/Test/src/\u001b[39m\u001b[90m\u001b[4mTest.jl:1776\u001b[24m\u001b[39m\u001b[90m [inlined]\u001b[39m\n",
      " [6] top-level scope\n",
      "\u001b[90m   @\u001b[39m \u001b[90m~/Documents/GitHub/ps3-5660-f25-H-janj/\u001b[39m\u001b[90m\u001b[4mjl_notebook_cell_df34fa98e69747e1a8f8a730347b8e2f_Y135sZmlsZQ==.jl:4\u001b[24m\u001b[39m\n",
      "Task 3: Simulated Wealth Array: \u001b[91m\u001b[1mError During Test\u001b[22m\u001b[39m at \u001b[39m\u001b[1m/Users/haider/Documents/GitHub/ps3-5660-f25-H-janj/jl_notebook_cell_df34fa98e69747e1a8f8a730347b8e2f_Y135sZmlsZQ==.jl:97\u001b[22m\n",
      "  Test threw exception\n",
      "  Expression: size(simulated_wealth_array, 1) > 0\n",
      "  UndefVarError: `simulated_wealth_array` not defined in `Main`\n",
      "  Suggestion: add an appropriate import or assignment. This global was declared but not assigned.\n",
      "  Stacktrace:\n",
      "   [1] \u001b[0m\u001b[1mmacro expansion\u001b[22m\n",
      "  \u001b[90m   @\u001b[39m \u001b[90m~/.julia/juliaup/julia-1.12.1+0.aarch64.apple.darwin14/share/julia/stdlib/v1.12/Test/src/\u001b[39m\u001b[90m\u001b[4mTest.jl:677\u001b[24m\u001b[39m\u001b[90m [inlined]\u001b[39m\n",
      "   [2] \u001b[0m\u001b[1mmacro expansion\u001b[22m\n",
      "  \u001b[90m   @\u001b[39m \u001b[90m~/Documents/GitHub/ps3-5660-f25-H-janj/\u001b[39m\u001b[90m\u001b[4mjl_notebook_cell_df34fa98e69747e1a8f8a730347b8e2f_Y135sZmlsZQ==.jl:97\u001b[24m\u001b[39m\u001b[90m [inlined]\u001b[39m\n",
      "   [3] \u001b[0m\u001b[1mmacro expansion\u001b[22m\n",
      "  \u001b[90m   @\u001b[39m \u001b[90m~/.julia/juliaup/julia-1.12.1+0.aarch64.apple.darwin14/share/julia/stdlib/v1.12/Test/src/\u001b[39m\u001b[90m\u001b[4mTest.jl:1776\u001b[24m\u001b[39m\u001b[90m [inlined]\u001b[39m\n",
      "   [4] \u001b[0m\u001b[1mmacro expansion\u001b[22m\n",
      "  \u001b[90m   @\u001b[39m \u001b[90m~/Documents/GitHub/ps3-5660-f25-H-janj/\u001b[39m\u001b[90m\u001b[4mjl_notebook_cell_df34fa98e69747e1a8f8a730347b8e2f_Y135sZmlsZQ==.jl:96\u001b[24m\u001b[39m\u001b[90m [inlined]\u001b[39m\n",
      "   [5] \u001b[0m\u001b[1mmacro expansion\u001b[22m\n",
      "  \u001b[90m   @\u001b[39m \u001b[90m~/.julia/juliaup/julia-1.12.1+0.aarch64.apple.darwin14/share/julia/stdlib/v1.12/Test/src/\u001b[39m\u001b[90m\u001b[4mTest.jl:1776\u001b[24m\u001b[39m\u001b[90m [inlined]\u001b[39m\n",
      "   [6] top-level scope\n",
      "  \u001b[90m   @\u001b[39m \u001b[90m~/Documents/GitHub/ps3-5660-f25-H-janj/\u001b[39m\u001b[90m\u001b[4mjl_notebook_cell_df34fa98e69747e1a8f8a730347b8e2f_Y135sZmlsZQ==.jl:4\u001b[24m\u001b[39m\n",
      "Task 3: Simulated Wealth Array: \u001b[91m\u001b[1mError During Test\u001b[22m\u001b[39m at \u001b[39m\u001b[1m/Users/haider/Documents/GitHub/ps3-5660-f25-H-janj/jl_notebook_cell_df34fa98e69747e1a8f8a730347b8e2f_Y135sZmlsZQ==.jl:98\u001b[22m\n",
      "  Test threw exception\n",
      "  Expression: size(simulated_wealth_array, 2) > 0\n",
      "  UndefVarError: `simulated_wealth_array` not defined in `Main`\n",
      "  Suggestion: add an appropriate import or assignment. This global was declared but not assigned.\n",
      "  Stacktrace:\n",
      "   [1] \u001b[0m\u001b[1mmacro expansion\u001b[22m\n",
      "  \u001b[90m   @\u001b[39m \u001b[90m~/.julia/juliaup/julia-1.12.1+0.aarch64.apple.darwin14/share/julia/stdlib/v1.12/Test/src/\u001b[39m\u001b[90m\u001b[4mTest.jl:677\u001b[24m\u001b[39m\u001b[90m [inlined]\u001b[39m\n",
      "   [2] \u001b[0m\u001b[1mmacro expansion\u001b[22m\n",
      "  \u001b[90m   @\u001b[39m \u001b[90m~/Documents/GitHub/ps3-5660-f25-H-janj/\u001b[39m\u001b[90m\u001b[4mjl_notebook_cell_df34fa98e69747e1a8f8a730347b8e2f_Y135sZmlsZQ==.jl:98\u001b[24m\u001b[39m\u001b[90m [inlined]\u001b[39m\n",
      "   [3] \u001b[0m\u001b[1mmacro expansion\u001b[22m\n",
      "  \u001b[90m   @\u001b[39m \u001b[90m~/.julia/juliaup/julia-1.12.1+0.aarch64.apple.darwin14/share/julia/stdlib/v1.12/Test/src/\u001b[39m\u001b[90m\u001b[4mTest.jl:1776\u001b[24m\u001b[39m\u001b[90m [inlined]\u001b[39m\n",
      "   [4] \u001b[0m\u001b[1mmacro expansion\u001b[22m\n",
      "  \u001b[90m   @\u001b[39m \u001b[90m~/Documents/GitHub/ps3-5660-f25-H-janj/\u001b[39m\u001b[90m\u001b[4mjl_notebook_cell_df34fa98e69747e1a8f8a730347b8e2f_Y135sZmlsZQ==.jl:96\u001b[24m\u001b[39m\u001b[90m [inlined]\u001b[39m\n",
      "   [5] \u001b[0m\u001b[1mmacro expansion\u001b[22m\n",
      "  \u001b[90m   @\u001b[39m \u001b[90m~/.julia/juliaup/julia-1.12.1+0.aarch64.apple.darwin14/share/julia/stdlib/v1.12/Test/src/\u001b[39m\u001b[90m\u001b[4mTest.jl:1776\u001b[24m\u001b[39m\u001b[90m [inlined]\u001b[39m\n",
      "   [6] top-level scope\n",
      "  \u001b[90m   @\u001b[39m \u001b[90m~/Documents/GitHub/ps3-5660-f25-H-janj/\u001b[39m\u001b[90m\u001b[4mjl_notebook_cell_df34fa98e69747e1a8f8a730347b8e2f_Y135sZmlsZQ==.jl:4\u001b[24m\u001b[39m\n",
      "Task 3: Simulated Wealth Array: \u001b[91m\u001b[1mError During Test\u001b[22m\u001b[39m at \u001b[39m\u001b[1m/Users/haider/Documents/GitHub/ps3-5660-f25-H-janj/jl_notebook_cell_df34fa98e69747e1a8f8a730347b8e2f_Y135sZmlsZQ==.jl:99\u001b[22m\n",
      "  Test threw exception\n",
      "  Expression: all(simulated_wealth_array .> 0)\n",
      "  UndefVarError: `simulated_wealth_array` not defined in `Main`\n",
      "  Suggestion: add an appropriate import or assignment. This global was declared but not assigned.\n",
      "  Stacktrace:\n",
      "   [1] \u001b[0m\u001b[1mmacro expansion\u001b[22m\n",
      "  \u001b[90m   @\u001b[39m \u001b[90m~/Documents/GitHub/ps3-5660-f25-H-janj/\u001b[39m\u001b[90m\u001b[4mjl_notebook_cell_df34fa98e69747e1a8f8a730347b8e2f_Y135sZmlsZQ==.jl:99\u001b[24m\u001b[39m\u001b[90m [inlined]\u001b[39m\n",
      "   [2] \u001b[0m\u001b[1mmacro expansion\u001b[22m\n",
      "  \u001b[90m   @\u001b[39m \u001b[90m~/.julia/juliaup/julia-1.12.1+0.aarch64.apple.darwin14/share/julia/stdlib/v1.12/Test/src/\u001b[39m\u001b[90m\u001b[4mTest.jl:677\u001b[24m\u001b[39m\u001b[90m [inlined]\u001b[39m\n",
      "   [3] \u001b[0m\u001b[1mmacro expansion\u001b[22m\n",
      "  \u001b[90m   @\u001b[39m \u001b[90m~/Documents/GitHub/ps3-5660-f25-H-janj/\u001b[39m\u001b[90m\u001b[4mjl_notebook_cell_df34fa98e69747e1a8f8a730347b8e2f_Y135sZmlsZQ==.jl:99\u001b[24m\u001b[39m\u001b[90m [inlined]\u001b[39m\n",
      "   [4] \u001b[0m\u001b[1mmacro expansion\u001b[22m\n",
      "  \u001b[90m   @\u001b[39m \u001b[90m~/.julia/juliaup/julia-1.12.1+0.aarch64.apple.darwin14/share/julia/stdlib/v1.12/Test/src/\u001b[39m\u001b[90m\u001b[4mTest.jl:1776\u001b[24m\u001b[39m\u001b[90m [inlined]\u001b[39m\n",
      "   [5] \u001b[0m\u001b[1mmacro expansion\u001b[22m\n",
      "  \u001b[90m   @\u001b[39m \u001b[90m~/Documents/GitHub/ps3-5660-f25-H-janj/\u001b[39m\u001b[90m\u001b[4mjl_notebook_cell_df34fa98e69747e1a8f8a730347b8e2f_Y135sZmlsZQ==.jl:96\u001b[24m\u001b[39m\u001b[90m [inlined]\u001b[39m\n",
      "   [6] \u001b[0m\u001b[1mmacro expansion\u001b[22m\n",
      "  \u001b[90m   @\u001b[39m \u001b[90m~/.julia/juliaup/julia-1.12.1+0.aarch64.apple.darwin14/share/julia/stdlib/v1.12/Test/src/\u001b[39m\u001b[90m\u001b[4mTest.jl:1776\u001b[24m\u001b[39m\u001b[90m [inlined]\u001b[39m\n",
      "   [7] top-level scope\n",
      "  \u001b[90m   @\u001b[39m \u001b[90m~/Documents/GitHub/ps3-5660-f25-H-janj/\u001b[39m\u001b[90m\u001b[4mjl_notebook_cell_df34fa98e69747e1a8f8a730347b8e2f_Y135sZmlsZQ==.jl:4\u001b[24m\u001b[39m\n",
      "Task 3: Simulated Wealth Array: \u001b[91m\u001b[1mError During Test\u001b[22m\u001b[39m at \u001b[39m\u001b[1m/Users/haider/Documents/GitHub/ps3-5660-f25-H-janj/jl_notebook_cell_df34fa98e69747e1a8f8a730347b8e2f_Y135sZmlsZQ==.jl:94\u001b[22m\n",
      "  Got exception outside of a @test\n",
      "  UndefVarError: `simulated_wealth_array` not defined in `Main`\n",
      "  Suggestion: add an appropriate import or assignment. This global was declared but not assigned.\n",
      "  Stacktrace:\n",
      "    [1] \u001b[0m\u001b[1mmacro expansion\u001b[22m\n",
      "  \u001b[90m    @\u001b[39m \u001b[90m~/Documents/GitHub/ps3-5660-f25-H-janj/\u001b[39m\u001b[90m\u001b[4mjl_notebook_cell_df34fa98e69747e1a8f8a730347b8e2f_Y135sZmlsZQ==.jl:102\u001b[24m\u001b[39m\u001b[90m [inlined]\u001b[39m\n",
      "    [2] \u001b[0m\u001b[1mmacro expansion\u001b[22m\n",
      "  \u001b[90m    @\u001b[39m \u001b[90m~/.julia/juliaup/julia-1.12.1+0.aarch64.apple.darwin14/share/julia/stdlib/v1.12/Test/src/\u001b[39m\u001b[90m\u001b[4mTest.jl:1776\u001b[24m\u001b[39m\u001b[90m [inlined]\u001b[39m\n",
      "    [3] \u001b[0m\u001b[1mmacro expansion\u001b[22m\n",
      "  \u001b[90m    @\u001b[39m \u001b[90m~/Documents/GitHub/ps3-5660-f25-H-janj/\u001b[39m\u001b[90m\u001b[4mjl_notebook_cell_df34fa98e69747e1a8f8a730347b8e2f_Y135sZmlsZQ==.jl:96\u001b[24m\u001b[39m\u001b[90m [inlined]\u001b[39m\n",
      "    [4] \u001b[0m\u001b[1mmacro expansion\u001b[22m\n",
      "  \u001b[90m    @\u001b[39m \u001b[90m~/.julia/juliaup/julia-1.12.1+0.aarch64.apple.darwin14/share/julia/stdlib/v1.12/Test/src/\u001b[39m\u001b[90m\u001b[4mTest.jl:1776\u001b[24m\u001b[39m\u001b[90m [inlined]\u001b[39m\n",
      "    [5] top-level scope\n",
      "  \u001b[90m    @\u001b[39m \u001b[90m~/Documents/GitHub/ps3-5660-f25-H-janj/\u001b[39m\u001b[90m\u001b[4mjl_notebook_cell_df34fa98e69747e1a8f8a730347b8e2f_Y135sZmlsZQ==.jl:4\u001b[24m\u001b[39m\n",
      "    [6] \u001b[0m\u001b[1meval\u001b[22m\u001b[0m\u001b[1m(\u001b[22m\u001b[90mm\u001b[39m::\u001b[0mModule, \u001b[90me\u001b[39m::\u001b[0mAny\u001b[0m\u001b[1m)\u001b[22m\n",
      "  \u001b[90m    @\u001b[39m \u001b[90mCore\u001b[39m \u001b[90m./\u001b[39m\u001b[90m\u001b[4mboot.jl:489\u001b[24m\u001b[39m\n",
      "    [7] \u001b[0m\u001b[1minclude_string\u001b[22m\u001b[0m\u001b[1m(\u001b[22m\u001b[90mmapexpr\u001b[39m::\u001b[0mtypeof(REPL.softscope), \u001b[90mmod\u001b[39m::\u001b[0mModule, \u001b[90mcode\u001b[39m::\u001b[0mString, \u001b[90mfilename\u001b[39m::\u001b[0mString\u001b[0m\u001b[1m)\u001b[22m\n",
      "  \u001b[90m    @\u001b[39m \u001b[90mBase\u001b[39m \u001b[90m./\u001b[39m\u001b[90m\u001b[4mloading.jl:2842\u001b[24m\u001b[39m\n",
      "    [8] \u001b[0m\u001b[1m(::VSCodeServer.var\"#notebook_runcell_request##0#notebook_runcell_request##1\"{VSCodeServer.NotebookRunCellArguments, String})\u001b[22m\u001b[0m\u001b[1m(\u001b[22m\u001b[0m\u001b[1m)\u001b[22m\n",
      "  \u001b[90m    @\u001b[39m \u001b[35mVSCodeServer\u001b[39m \u001b[90m~/.vscode/extensions/julialang.language-julia-1.149.2/scripts/packages/VSCodeServer/src/\u001b[39m\u001b[90m\u001b[4mserve_notebook.jl:24\u001b[24m\u001b[39m\n",
      "    [9] \u001b[0m\u001b[1mwithpath\u001b[22m\u001b[0m\u001b[1m(\u001b[22m\u001b[90mf\u001b[39m::\u001b[0mVSCodeServer.var\"#notebook_runcell_request##0#notebook_runcell_request##1\"\u001b[90m{VSCodeServer.NotebookRunCellArguments, String}\u001b[39m, \u001b[90mpath\u001b[39m::\u001b[0mString\u001b[0m\u001b[1m)\u001b[22m\n",
      "  \u001b[90m    @\u001b[39m \u001b[35mVSCodeServer\u001b[39m \u001b[90m~/.vscode/extensions/julialang.language-julia-1.149.2/scripts/packages/VSCodeServer/src/\u001b[39m\u001b[90m\u001b[4mrepl.jl:276\u001b[24m\u001b[39m\n",
      "   [10] \u001b[0m\u001b[1mnotebook_runcell_request\u001b[22m\u001b[0m\u001b[1m(\u001b[22m\u001b[90mconn\u001b[39m::\u001b[0mVSCodeServer.JSONRPC.JSONRPCEndpoint\u001b[90m{Base.PipeEndpoint, Base.PipeEndpoint, VSCodeServer.JSON.Serializations.StandardSerialization}\u001b[39m, \u001b[90mparams\u001b[39m::\u001b[0mVSCodeServer.NotebookRunCellArguments, \u001b[90mtoken\u001b[39m::\u001b[0mVSCodeServer.CancellationTokens.CancellationToken\u001b[0m\u001b[1m)\u001b[22m\n",
      "  \u001b[90m    @\u001b[39m \u001b[35mVSCodeServer\u001b[39m \u001b[90m~/.vscode/extensions/julialang.language-julia-1.149.2/scripts/packages/VSCodeServer/src/\u001b[39m\u001b[90m\u001b[4mserve_notebook.jl:13\u001b[24m\u001b[39m\n",
      "   [11] \u001b[0m\u001b[1mdispatch_msg\u001b[22m\u001b[0m\u001b[1m(\u001b[22m\u001b[90mx\u001b[39m::\u001b[0mVSCodeServer.JSONRPC.JSONRPCEndpoint\u001b[90m{Base.PipeEndpoint, Base.PipeEndpoint, VSCodeServer.JSON.Serializations.StandardSerialization}\u001b[39m, \u001b[90mdispatcher\u001b[39m::\u001b[0mVSCodeServer.JSONRPC.MsgDispatcher, \u001b[90mmsg\u001b[39m::\u001b[0mVSCodeServer.JSONRPC.Request\u001b[0m\u001b[1m)\u001b[22m\n",
      "  \u001b[90m    @\u001b[39m \u001b[35mVSCodeServer.JSONRPC\u001b[39m \u001b[90m~/.vscode/extensions/julialang.language-julia-1.149.2/scripts/packages/JSONRPC/src/\u001b[39m\u001b[90m\u001b[4mtyped.jl:0\u001b[24m\u001b[39m\n",
      "   [12] \u001b[0m\u001b[1mserve_notebook\u001b[22m\u001b[0m\u001b[1m(\u001b[22m\u001b[90mpipename\u001b[39m::\u001b[0mString, \u001b[90mdebugger_pipename\u001b[39m::\u001b[0mString, \u001b[90moutputchannel_logger\u001b[39m::\u001b[0mBase.CoreLogging.SimpleLogger; \u001b[90merror_handler\u001b[39m::\u001b[0mvar\"#14#15\"\u001b[90m{String}\u001b[39m\u001b[0m\u001b[1m)\u001b[22m\n",
      "  \u001b[90m    @\u001b[39m \u001b[35mVSCodeServer\u001b[39m \u001b[90m~/.vscode/extensions/julialang.language-julia-1.149.2/scripts/packages/VSCodeServer/src/\u001b[39m\u001b[90m\u001b[4mserve_notebook.jl:147\u001b[24m\u001b[39m\n",
      "   [13] top-level scope\n",
      "  \u001b[90m    @\u001b[39m \u001b[90m~/.vscode/extensions/julialang.language-julia-1.149.2/scripts/notebook/\u001b[39m\u001b[90m\u001b[4mnotebook.jl:35\u001b[24m\u001b[39m\n",
      "   [14] \u001b[0m\u001b[1minclude\u001b[22m\u001b[0m\u001b[1m(\u001b[22m\u001b[90mmod\u001b[39m::\u001b[0mModule, \u001b[90m_path\u001b[39m::\u001b[0mString\u001b[0m\u001b[1m)\u001b[22m\n",
      "  \u001b[90m    @\u001b[39m \u001b[90mBase\u001b[39m \u001b[90m./\u001b[39m\u001b[90m\u001b[4mBase.jl:306\u001b[24m\u001b[39m\n",
      "   [15] \u001b[0m\u001b[1mexec_options\u001b[22m\u001b[0m\u001b[1m(\u001b[22m\u001b[90mopts\u001b[39m::\u001b[0mBase.JLOptions\u001b[0m\u001b[1m)\u001b[22m\n",
      "  \u001b[90m    @\u001b[39m \u001b[90mBase\u001b[39m \u001b[90m./\u001b[39m\u001b[90m\u001b[4mclient.jl:317\u001b[24m\u001b[39m\n",
      "   [16] \u001b[0m\u001b[1m_start\u001b[22m\u001b[0m\u001b[1m(\u001b[22m\u001b[0m\u001b[1m)\u001b[22m\n",
      "  \u001b[90m    @\u001b[39m \u001b[90mBase\u001b[39m \u001b[90m./\u001b[39m\u001b[90m\u001b[4mclient.jl:550\u001b[24m\u001b[39m\n",
      "Task 3: Actual Portfolio Performance: \u001b[91m\u001b[1mTest Failed\u001b[22m\u001b[39m at \u001b[39m\u001b[1m/Users/haider/Documents/GitHub/ps3-5660-f25-H-janj/jl_notebook_cell_df34fa98e69747e1a8f8a730347b8e2f_Y135sZmlsZQ==.jl:112\u001b[22m\n",
      "  Expression: isdefined(Main, :actual_portfolio_performance_array)\n",
      "\n",
      "Stacktrace:\n",
      " [1] \u001b[0m\u001b[1mmacro expansion\u001b[22m\n",
      "\u001b[90m   @\u001b[39m \u001b[90m~/.julia/juliaup/julia-1.12.1+0.aarch64.apple.darwin14/share/julia/stdlib/v1.12/Test/src/\u001b[39m\u001b[90m\u001b[4mTest.jl:680\u001b[24m\u001b[39m\u001b[90m [inlined]\u001b[39m\n",
      " [2] \u001b[0m\u001b[1mmacro expansion\u001b[22m\n",
      "\u001b[90m   @\u001b[39m \u001b[90m~/Documents/GitHub/ps3-5660-f25-H-janj/\u001b[39m\u001b[90m\u001b[4mjl_notebook_cell_df34fa98e69747e1a8f8a730347b8e2f_Y135sZmlsZQ==.jl:112\u001b[24m\u001b[39m\u001b[90m [inlined]\u001b[39m\n",
      " [3] \u001b[0m\u001b[1mmacro expansion\u001b[22m\n",
      "\u001b[90m   @\u001b[39m \u001b[90m~/.julia/juliaup/julia-1.12.1+0.aarch64.apple.darwin14/share/julia/stdlib/v1.12/Test/src/\u001b[39m\u001b[90m\u001b[4mTest.jl:1776\u001b[24m\u001b[39m\u001b[90m [inlined]\u001b[39m\n",
      " [4] \u001b[0m\u001b[1mmacro expansion\u001b[22m\n",
      "\u001b[90m   @\u001b[39m \u001b[90m~/Documents/GitHub/ps3-5660-f25-H-janj/\u001b[39m\u001b[90m\u001b[4mjl_notebook_cell_df34fa98e69747e1a8f8a730347b8e2f_Y135sZmlsZQ==.jl:112\u001b[24m\u001b[39m\u001b[90m [inlined]\u001b[39m\n",
      " [5] \u001b[0m\u001b[1mmacro expansion\u001b[22m\n",
      "\u001b[90m   @\u001b[39m \u001b[90m~/.julia/juliaup/julia-1.12.1+0.aarch64.apple.darwin14/share/julia/stdlib/v1.12/Test/src/\u001b[39m\u001b[90m\u001b[4mTest.jl:1776\u001b[24m\u001b[39m\u001b[90m [inlined]\u001b[39m\n",
      " [6] top-level scope\n",
      "\u001b[90m   @\u001b[39m \u001b[90m~/Documents/GitHub/ps3-5660-f25-H-janj/\u001b[39m\u001b[90m\u001b[4mjl_notebook_cell_df34fa98e69747e1a8f8a730347b8e2f_Y135sZmlsZQ==.jl:4\u001b[24m\u001b[39m\n",
      "Task 3: Actual Portfolio Performance: \u001b[91m\u001b[1mError During Test\u001b[22m\u001b[39m at \u001b[39m\u001b[1m/Users/haider/Documents/GitHub/ps3-5660-f25-H-janj/jl_notebook_cell_df34fa98e69747e1a8f8a730347b8e2f_Y135sZmlsZQ==.jl:113\u001b[22m\n",
      "  Test threw exception\n",
      "  Expression: size(actual_portfolio_performance_array, 1) > 0\n",
      "  UndefVarError: `actual_portfolio_performance_array` not defined in `Main`\n",
      "  Suggestion: add an appropriate import or assignment. This global was declared but not assigned.\n",
      "  Stacktrace:\n",
      "   [1] \u001b[0m\u001b[1mmacro expansion\u001b[22m\n",
      "  \u001b[90m   @\u001b[39m \u001b[90m~/.julia/juliaup/julia-1.12.1+0.aarch64.apple.darwin14/share/julia/stdlib/v1.12/Test/src/\u001b[39m\u001b[90m\u001b[4mTest.jl:677\u001b[24m\u001b[39m\u001b[90m [inlined]\u001b[39m\n",
      "   [2] \u001b[0m\u001b[1mmacro expansion\u001b[22m\n",
      "  \u001b[90m   @\u001b[39m \u001b[90m~/Documents/GitHub/ps3-5660-f25-H-janj/\u001b[39m\u001b[90m\u001b[4mjl_notebook_cell_df34fa98e69747e1a8f8a730347b8e2f_Y135sZmlsZQ==.jl:113\u001b[24m\u001b[39m\u001b[90m [inlined]\u001b[39m\n",
      "   [3] \u001b[0m\u001b[1mmacro expansion\u001b[22m\n",
      "  \u001b[90m   @\u001b[39m \u001b[90m~/.julia/juliaup/julia-1.12.1+0.aarch64.apple.darwin14/share/julia/stdlib/v1.12/Test/src/\u001b[39m\u001b[90m\u001b[4mTest.jl:1776\u001b[24m\u001b[39m\u001b[90m [inlined]\u001b[39m\n",
      "   [4] \u001b[0m\u001b[1mmacro expansion\u001b[22m\n",
      "  \u001b[90m   @\u001b[39m \u001b[90m~/Documents/GitHub/ps3-5660-f25-H-janj/\u001b[39m\u001b[90m\u001b[4mjl_notebook_cell_df34fa98e69747e1a8f8a730347b8e2f_Y135sZmlsZQ==.jl:112\u001b[24m\u001b[39m\u001b[90m [inlined]\u001b[39m\n",
      "   [5] \u001b[0m\u001b[1mmacro expansion\u001b[22m\n",
      "  \u001b[90m   @\u001b[39m \u001b[90m~/.julia/juliaup/julia-1.12.1+0.aarch64.apple.darwin14/share/julia/stdlib/v1.12/Test/src/\u001b[39m\u001b[90m\u001b[4mTest.jl:1776\u001b[24m\u001b[39m\u001b[90m [inlined]\u001b[39m\n",
      "   [6] top-level scope\n",
      "  \u001b[90m   @\u001b[39m \u001b[90m~/Documents/GitHub/ps3-5660-f25-H-janj/\u001b[39m\u001b[90m\u001b[4mjl_notebook_cell_df34fa98e69747e1a8f8a730347b8e2f_Y135sZmlsZQ==.jl:4\u001b[24m\u001b[39m\n",
      "Task 3: Actual Portfolio Performance: \u001b[91m\u001b[1mError During Test\u001b[22m\u001b[39m at \u001b[39m\u001b[1m/Users/haider/Documents/GitHub/ps3-5660-f25-H-janj/jl_notebook_cell_df34fa98e69747e1a8f8a730347b8e2f_Y135sZmlsZQ==.jl:114\u001b[22m\n",
      "  Test threw exception\n",
      "  Expression: size(actual_portfolio_performance_array, 2) == length(my_list_of_tickers) + 1\n",
      "  UndefVarError: `actual_portfolio_performance_array` not defined in `Main`\n",
      "  Suggestion: add an appropriate import or assignment. This global was declared but not assigned.\n",
      "  Stacktrace:\n",
      "   [1] \u001b[0m\u001b[1mmacro expansion\u001b[22m\n",
      "  \u001b[90m   @\u001b[39m \u001b[90m~/.julia/juliaup/julia-1.12.1+0.aarch64.apple.darwin14/share/julia/stdlib/v1.12/Test/src/\u001b[39m\u001b[90m\u001b[4mTest.jl:677\u001b[24m\u001b[39m\u001b[90m [inlined]\u001b[39m\n",
      "   [2] \u001b[0m\u001b[1mmacro expansion\u001b[22m\n",
      "  \u001b[90m   @\u001b[39m \u001b[90m~/Documents/GitHub/ps3-5660-f25-H-janj/\u001b[39m\u001b[90m\u001b[4mjl_notebook_cell_df34fa98e69747e1a8f8a730347b8e2f_Y135sZmlsZQ==.jl:114\u001b[24m\u001b[39m\u001b[90m [inlined]\u001b[39m\n",
      "   [3] \u001b[0m\u001b[1mmacro expansion\u001b[22m\n",
      "  \u001b[90m   @\u001b[39m \u001b[90m~/.julia/juliaup/julia-1.12.1+0.aarch64.apple.darwin14/share/julia/stdlib/v1.12/Test/src/\u001b[39m\u001b[90m\u001b[4mTest.jl:1776\u001b[24m\u001b[39m\u001b[90m [inlined]\u001b[39m\n",
      "   [4] \u001b[0m\u001b[1mmacro expansion\u001b[22m\n",
      "  \u001b[90m   @\u001b[39m \u001b[90m~/Documents/GitHub/ps3-5660-f25-H-janj/\u001b[39m\u001b[90m\u001b[4mjl_notebook_cell_df34fa98e69747e1a8f8a730347b8e2f_Y135sZmlsZQ==.jl:112\u001b[24m\u001b[39m\u001b[90m [inlined]\u001b[39m\n",
      "   [5] \u001b[0m\u001b[1mmacro expansion\u001b[22m\n",
      "  \u001b[90m   @\u001b[39m \u001b[90m~/.julia/juliaup/julia-1.12.1+0.aarch64.apple.darwin14/share/julia/stdlib/v1.12/Test/src/\u001b[39m\u001b[90m\u001b[4mTest.jl:1776\u001b[24m\u001b[39m\u001b[90m [inlined]\u001b[39m\n",
      "   [6] top-level scope\n",
      "  \u001b[90m   @\u001b[39m \u001b[90m~/Documents/GitHub/ps3-5660-f25-H-janj/\u001b[39m\u001b[90m\u001b[4mjl_notebook_cell_df34fa98e69747e1a8f8a730347b8e2f_Y135sZmlsZQ==.jl:4\u001b[24m\u001b[39m\n",
      "Task 3: Actual Portfolio Performance: \u001b[91m\u001b[1mError During Test\u001b[22m\u001b[39m at \u001b[39m\u001b[1m/Users/haider/Documents/GitHub/ps3-5660-f25-H-janj/jl_notebook_cell_df34fa98e69747e1a8f8a730347b8e2f_Y135sZmlsZQ==.jl:110\u001b[22m\n",
      "  Got exception outside of a @test\n",
      "  UndefVarError: `actual_portfolio_performance_array` not defined in `Main`\n",
      "  Suggestion: add an appropriate import or assignment. This global was declared but not assigned.\n",
      "  Stacktrace:\n",
      "    [1] \u001b[0m\u001b[1mmacro expansion\u001b[22m\n",
      "  \u001b[90m    @\u001b[39m \u001b[90m~/Documents/GitHub/ps3-5660-f25-H-janj/\u001b[39m\u001b[90m\u001b[4mjl_notebook_cell_df34fa98e69747e1a8f8a730347b8e2f_Y135sZmlsZQ==.jl:117\u001b[24m\u001b[39m\u001b[90m [inlined]\u001b[39m\n",
      "    [2] \u001b[0m\u001b[1mmacro expansion\u001b[22m\n",
      "  \u001b[90m    @\u001b[39m \u001b[90m~/.julia/juliaup/julia-1.12.1+0.aarch64.apple.darwin14/share/julia/stdlib/v1.12/Test/src/\u001b[39m\u001b[90m\u001b[4mTest.jl:1776\u001b[24m\u001b[39m\u001b[90m [inlined]\u001b[39m\n",
      "    [3] \u001b[0m\u001b[1mmacro expansion\u001b[22m\n",
      "  \u001b[90m    @\u001b[39m \u001b[90m~/Documents/GitHub/ps3-5660-f25-H-janj/\u001b[39m\u001b[90m\u001b[4mjl_notebook_cell_df34fa98e69747e1a8f8a730347b8e2f_Y135sZmlsZQ==.jl:112\u001b[24m\u001b[39m\u001b[90m [inlined]\u001b[39m\n",
      "    [4] \u001b[0m\u001b[1mmacro expansion\u001b[22m\n",
      "  \u001b[90m    @\u001b[39m \u001b[90m~/.julia/juliaup/julia-1.12.1+0.aarch64.apple.darwin14/share/julia/stdlib/v1.12/Test/src/\u001b[39m\u001b[90m\u001b[4mTest.jl:1776\u001b[24m\u001b[39m\u001b[90m [inlined]\u001b[39m\n",
      "    [5] top-level scope\n",
      "  \u001b[90m    @\u001b[39m \u001b[90m~/Documents/GitHub/ps3-5660-f25-H-janj/\u001b[39m\u001b[90m\u001b[4mjl_notebook_cell_df34fa98e69747e1a8f8a730347b8e2f_Y135sZmlsZQ==.jl:4\u001b[24m\u001b[39m\n",
      "    [6] \u001b[0m\u001b[1meval\u001b[22m\u001b[0m\u001b[1m(\u001b[22m\u001b[90mm\u001b[39m::\u001b[0mModule, \u001b[90me\u001b[39m::\u001b[0mAny\u001b[0m\u001b[1m)\u001b[22m\n",
      "  \u001b[90m    @\u001b[39m \u001b[90mCore\u001b[39m \u001b[90m./\u001b[39m\u001b[90m\u001b[4mboot.jl:489\u001b[24m\u001b[39m\n",
      "    [7] \u001b[0m\u001b[1minclude_string\u001b[22m\u001b[0m\u001b[1m(\u001b[22m\u001b[90mmapexpr\u001b[39m::\u001b[0mtypeof(REPL.softscope), \u001b[90mmod\u001b[39m::\u001b[0mModule, \u001b[90mcode\u001b[39m::\u001b[0mString, \u001b[90mfilename\u001b[39m::\u001b[0mString\u001b[0m\u001b[1m)\u001b[22m\n",
      "  \u001b[90m    @\u001b[39m \u001b[90mBase\u001b[39m \u001b[90m./\u001b[39m\u001b[90m\u001b[4mloading.jl:2842\u001b[24m\u001b[39m\n",
      "    [8] \u001b[0m\u001b[1m(::VSCodeServer.var\"#notebook_runcell_request##0#notebook_runcell_request##1\"{VSCodeServer.NotebookRunCellArguments, String})\u001b[22m\u001b[0m\u001b[1m(\u001b[22m\u001b[0m\u001b[1m)\u001b[22m\n",
      "  \u001b[90m    @\u001b[39m \u001b[35mVSCodeServer\u001b[39m \u001b[90m~/.vscode/extensions/julialang.language-julia-1.149.2/scripts/packages/VSCodeServer/src/\u001b[39m\u001b[90m\u001b[4mserve_notebook.jl:24\u001b[24m\u001b[39m\n",
      "    [9] \u001b[0m\u001b[1mwithpath\u001b[22m\u001b[0m\u001b[1m(\u001b[22m\u001b[90mf\u001b[39m::\u001b[0mVSCodeServer.var\"#notebook_runcell_request##0#notebook_runcell_request##1\"\u001b[90m{VSCodeServer.NotebookRunCellArguments, String}\u001b[39m, \u001b[90mpath\u001b[39m::\u001b[0mString\u001b[0m\u001b[1m)\u001b[22m\n",
      "  \u001b[90m    @\u001b[39m \u001b[35mVSCodeServer\u001b[39m \u001b[90m~/.vscode/extensions/julialang.language-julia-1.149.2/scripts/packages/VSCodeServer/src/\u001b[39m\u001b[90m\u001b[4mrepl.jl:276\u001b[24m\u001b[39m\n",
      "   [10] \u001b[0m\u001b[1mnotebook_runcell_request\u001b[22m\u001b[0m\u001b[1m(\u001b[22m\u001b[90mconn\u001b[39m::\u001b[0mVSCodeServer.JSONRPC.JSONRPCEndpoint\u001b[90m{Base.PipeEndpoint, Base.PipeEndpoint, VSCodeServer.JSON.Serializations.StandardSerialization}\u001b[39m, \u001b[90mparams\u001b[39m::\u001b[0mVSCodeServer.NotebookRunCellArguments, \u001b[90mtoken\u001b[39m::\u001b[0mVSCodeServer.CancellationTokens.CancellationToken\u001b[0m\u001b[1m)\u001b[22m\n",
      "  \u001b[90m    @\u001b[39m \u001b[35mVSCodeServer\u001b[39m \u001b[90m~/.vscode/extensions/julialang.language-julia-1.149.2/scripts/packages/VSCodeServer/src/\u001b[39m\u001b[90m\u001b[4mserve_notebook.jl:13\u001b[24m\u001b[39m\n",
      "   [11] \u001b[0m\u001b[1mdispatch_msg\u001b[22m\u001b[0m\u001b[1m(\u001b[22m\u001b[90mx\u001b[39m::\u001b[0mVSCodeServer.JSONRPC.JSONRPCEndpoint\u001b[90m{Base.PipeEndpoint, Base.PipeEndpoint, VSCodeServer.JSON.Serializations.StandardSerialization}\u001b[39m, \u001b[90mdispatcher\u001b[39m::\u001b[0mVSCodeServer.JSONRPC.MsgDispatcher, \u001b[90mmsg\u001b[39m::\u001b[0mVSCodeServer.JSONRPC.Request\u001b[0m\u001b[1m)\u001b[22m\n",
      "  \u001b[90m    @\u001b[39m \u001b[35mVSCodeServer.JSONRPC\u001b[39m \u001b[90m~/.vscode/extensions/julialang.language-julia-1.149.2/scripts/packages/JSONRPC/src/\u001b[39m\u001b[90m\u001b[4mtyped.jl:0\u001b[24m\u001b[39m\n",
      "   [12] \u001b[0m\u001b[1mserve_notebook\u001b[22m\u001b[0m\u001b[1m(\u001b[22m\u001b[90mpipename\u001b[39m::\u001b[0mString, \u001b[90mdebugger_pipename\u001b[39m::\u001b[0mString, \u001b[90moutputchannel_logger\u001b[39m::\u001b[0mBase.CoreLogging.SimpleLogger; \u001b[90merror_handler\u001b[39m::\u001b[0mvar\"#14#15\"\u001b[90m{String}\u001b[39m\u001b[0m\u001b[1m)\u001b[22m\n",
      "  \u001b[90m    @\u001b[39m \u001b[35mVSCodeServer\u001b[39m \u001b[90m~/.vscode/extensions/julialang.language-julia-1.149.2/scripts/packages/VSCodeServer/src/\u001b[39m\u001b[90m\u001b[4mserve_notebook.jl:147\u001b[24m\u001b[39m\n",
      "   [13] top-level scope\n",
      "  \u001b[90m    @\u001b[39m \u001b[90m~/.vscode/extensions/julialang.language-julia-1.149.2/scripts/notebook/\u001b[39m\u001b[90m\u001b[4mnotebook.jl:35\u001b[24m\u001b[39m\n",
      "   [14] \u001b[0m\u001b[1minclude\u001b[22m\u001b[0m\u001b[1m(\u001b[22m\u001b[90mmod\u001b[39m::\u001b[0mModule, \u001b[90m_path\u001b[39m::\u001b[0mString\u001b[0m\u001b[1m)\u001b[22m\n",
      "  \u001b[90m    @\u001b[39m \u001b[90mBase\u001b[39m \u001b[90m./\u001b[39m\u001b[90m\u001b[4mBase.jl:306\u001b[24m\u001b[39m\n",
      "   [15] \u001b[0m\u001b[1mexec_options\u001b[22m\u001b[0m\u001b[1m(\u001b[22m\u001b[90mopts\u001b[39m::\u001b[0mBase.JLOptions\u001b[0m\u001b[1m)\u001b[22m\n",
      "  \u001b[90m    @\u001b[39m \u001b[90mBase\u001b[39m \u001b[90m./\u001b[39m\u001b[90m\u001b[4mclient.jl:317\u001b[24m\u001b[39m\n",
      "   [16] \u001b[0m\u001b[1m_start\u001b[22m\u001b[0m\u001b[1m(\u001b[22m\u001b[0m\u001b[1m)\u001b[22m\n",
      "  \u001b[90m    @\u001b[39m \u001b[90mBase\u001b[39m \u001b[90m./\u001b[39m\u001b[90m\u001b[4mclient.jl:550\u001b[24m\u001b[39m\n",
      "Plot, Tables and DQs: \u001b[91m\u001b[1mTest Failed\u001b[22m\u001b[39m at \u001b[39m\u001b[1m/Users/haider/Documents/GitHub/ps3-5660-f25-H-janj/jl_notebook_cell_df34fa98e69747e1a8f8a730347b8e2f_Y135sZmlsZQ==.jl:131\u001b[22m\n",
      "  Expression: do_I_see_minvar_plot == true\n",
      "   Evaluated: nothing == true\n",
      "\n",
      "Stacktrace:\n",
      " [1] \u001b[0m\u001b[1mmacro expansion\u001b[22m\n",
      "\u001b[90m   @\u001b[39m \u001b[90m~/.julia/juliaup/julia-1.12.1+0.aarch64.apple.darwin14/share/julia/stdlib/v1.12/Test/src/\u001b[39m\u001b[90m\u001b[4mTest.jl:680\u001b[24m\u001b[39m\u001b[90m [inlined]\u001b[39m\n",
      " [2] \u001b[0m\u001b[1mmacro expansion\u001b[22m\n",
      "\u001b[90m   @\u001b[39m \u001b[90m~/Documents/GitHub/ps3-5660-f25-H-janj/\u001b[39m\u001b[90m\u001b[4mjl_notebook_cell_df34fa98e69747e1a8f8a730347b8e2f_Y135sZmlsZQ==.jl:131\u001b[24m\u001b[39m\u001b[90m [inlined]\u001b[39m\n",
      " [3] \u001b[0m\u001b[1mmacro expansion\u001b[22m\n",
      "\u001b[90m   @\u001b[39m \u001b[90m~/.julia/juliaup/julia-1.12.1+0.aarch64.apple.darwin14/share/julia/stdlib/v1.12/Test/src/\u001b[39m\u001b[90m\u001b[4mTest.jl:1776\u001b[24m\u001b[39m\u001b[90m [inlined]\u001b[39m\n",
      " [4] \u001b[0m\u001b[1mmacro expansion\u001b[22m\n",
      "\u001b[90m   @\u001b[39m \u001b[90m~/Documents/GitHub/ps3-5660-f25-H-janj/\u001b[39m\u001b[90m\u001b[4mjl_notebook_cell_df34fa98e69747e1a8f8a730347b8e2f_Y135sZmlsZQ==.jl:131\u001b[24m\u001b[39m\u001b[90m [inlined]\u001b[39m\n",
      " [5] \u001b[0m\u001b[1mmacro expansion\u001b[22m\n",
      "\u001b[90m   @\u001b[39m \u001b[90m~/.julia/juliaup/julia-1.12.1+0.aarch64.apple.darwin14/share/julia/stdlib/v1.12/Test/src/\u001b[39m\u001b[90m\u001b[4mTest.jl:1776\u001b[24m\u001b[39m\u001b[90m [inlined]\u001b[39m\n",
      " [6] top-level scope\n",
      "\u001b[90m   @\u001b[39m \u001b[90m~/Documents/GitHub/ps3-5660-f25-H-janj/\u001b[39m\u001b[90m\u001b[4mjl_notebook_cell_df34fa98e69747e1a8f8a730347b8e2f_Y135sZmlsZQ==.jl:4\u001b[24m\u001b[39m\n",
      "Plot, Tables and DQs: \u001b[91m\u001b[1mTest Failed\u001b[22m\u001b[39m at \u001b[39m\u001b[1m/Users/haider/Documents/GitHub/ps3-5660-f25-H-janj/jl_notebook_cell_df34fa98e69747e1a8f8a730347b8e2f_Y135sZmlsZQ==.jl:132\u001b[22m\n",
      "  Expression: do_I_see_the_ticker_setup_table == true\n",
      "   Evaluated: nothing == true\n",
      "\n",
      "Stacktrace:\n",
      " [1] \u001b[0m\u001b[1mmacro expansion\u001b[22m\n",
      "\u001b[90m   @\u001b[39m \u001b[90m~/.julia/juliaup/julia-1.12.1+0.aarch64.apple.darwin14/share/julia/stdlib/v1.12/Test/src/\u001b[39m\u001b[90m\u001b[4mTest.jl:680\u001b[24m\u001b[39m\u001b[90m [inlined]\u001b[39m\n",
      " [2] \u001b[0m\u001b[1mmacro expansion\u001b[22m\n",
      "\u001b[90m   @\u001b[39m \u001b[90m~/Documents/GitHub/ps3-5660-f25-H-janj/\u001b[39m\u001b[90m\u001b[4mjl_notebook_cell_df34fa98e69747e1a8f8a730347b8e2f_Y135sZmlsZQ==.jl:132\u001b[24m\u001b[39m\u001b[90m [inlined]\u001b[39m\n",
      " [3] \u001b[0m\u001b[1mmacro expansion\u001b[22m\n",
      "\u001b[90m   @\u001b[39m \u001b[90m~/.julia/juliaup/julia-1.12.1+0.aarch64.apple.darwin14/share/julia/stdlib/v1.12/Test/src/\u001b[39m\u001b[90m\u001b[4mTest.jl:1776\u001b[24m\u001b[39m\u001b[90m [inlined]\u001b[39m\n",
      " [4] \u001b[0m\u001b[1mmacro expansion\u001b[22m\n",
      "\u001b[90m   @\u001b[39m \u001b[90m~/Documents/GitHub/ps3-5660-f25-H-janj/\u001b[39m\u001b[90m\u001b[4mjl_notebook_cell_df34fa98e69747e1a8f8a730347b8e2f_Y135sZmlsZQ==.jl:131\u001b[24m\u001b[39m\u001b[90m [inlined]\u001b[39m\n",
      " [5] \u001b[0m\u001b[1mmacro expansion\u001b[22m\n",
      "\u001b[90m   @\u001b[39m \u001b[90m~/.julia/juliaup/julia-1.12.1+0.aarch64.apple.darwin14/share/julia/stdlib/v1.12/Test/src/\u001b[39m\u001b[90m\u001b[4mTest.jl:1776\u001b[24m\u001b[39m\u001b[90m [inlined]\u001b[39m\n",
      " [6] top-level scope\n",
      "\u001b[90m   @\u001b[39m \u001b[90m~/Documents/GitHub/ps3-5660-f25-H-janj/\u001b[39m\u001b[90m\u001b[4mjl_notebook_cell_df34fa98e69747e1a8f8a730347b8e2f_Y135sZmlsZQ==.jl:4\u001b[24m\u001b[39m\n",
      "Plot, Tables and DQs: \u001b[91m\u001b[1mTest Failed\u001b[22m\u001b[39m at \u001b[39m\u001b[1m/Users/haider/Documents/GitHub/ps3-5660-f25-H-janj/jl_notebook_cell_df34fa98e69747e1a8f8a730347b8e2f_Y135sZmlsZQ==.jl:133\u001b[22m\n",
      "  Expression: do_I_see_the_final_wealth_plot == true\n",
      "   Evaluated: nothing == true\n",
      "\n",
      "Stacktrace:\n",
      " [1] \u001b[0m\u001b[1mmacro expansion\u001b[22m\n",
      "\u001b[90m   @\u001b[39m \u001b[90m~/.julia/juliaup/julia-1.12.1+0.aarch64.apple.darwin14/share/julia/stdlib/v1.12/Test/src/\u001b[39m\u001b[90m\u001b[4mTest.jl:680\u001b[24m\u001b[39m\u001b[90m [inlined]\u001b[39m\n",
      " [2] \u001b[0m\u001b[1mmacro expansion\u001b[22m\n",
      "\u001b[90m   @\u001b[39m \u001b[90m~/Documents/GitHub/ps3-5660-f25-H-janj/\u001b[39m\u001b[90m\u001b[4mjl_notebook_cell_df34fa98e69747e1a8f8a730347b8e2f_Y135sZmlsZQ==.jl:133\u001b[24m\u001b[39m\u001b[90m [inlined]\u001b[39m\n",
      " [3] \u001b[0m\u001b[1mmacro expansion\u001b[22m\n",
      "\u001b[90m   @\u001b[39m \u001b[90m~/.julia/juliaup/julia-1.12.1+0.aarch64.apple.darwin14/share/julia/stdlib/v1.12/Test/src/\u001b[39m\u001b[90m\u001b[4mTest.jl:1776\u001b[24m\u001b[39m\u001b[90m [inlined]\u001b[39m\n",
      " [4] \u001b[0m\u001b[1mmacro expansion\u001b[22m\n",
      "\u001b[90m   @\u001b[39m \u001b[90m~/Documents/GitHub/ps3-5660-f25-H-janj/\u001b[39m\u001b[90m\u001b[4mjl_notebook_cell_df34fa98e69747e1a8f8a730347b8e2f_Y135sZmlsZQ==.jl:131\u001b[24m\u001b[39m\u001b[90m [inlined]\u001b[39m\n",
      " [5] \u001b[0m\u001b[1mmacro expansion\u001b[22m\n",
      "\u001b[90m   @\u001b[39m \u001b[90m~/.julia/juliaup/julia-1.12.1+0.aarch64.apple.darwin14/share/julia/stdlib/v1.12/Test/src/\u001b[39m\u001b[90m\u001b[4mTest.jl:1776\u001b[24m\u001b[39m\u001b[90m [inlined]\u001b[39m\n",
      " [6] top-level scope\n",
      "\u001b[90m   @\u001b[39m \u001b[90m~/Documents/GitHub/ps3-5660-f25-H-janj/\u001b[39m\u001b[90m\u001b[4mjl_notebook_cell_df34fa98e69747e1a8f8a730347b8e2f_Y135sZmlsZQ==.jl:4\u001b[24m\u001b[39m\n",
      "Plot, Tables and DQs: \u001b[91m\u001b[1mTest Failed\u001b[22m\u001b[39m at \u001b[39m\u001b[1m/Users/haider/Documents/GitHub/ps3-5660-f25-H-janj/jl_notebook_cell_df34fa98e69747e1a8f8a730347b8e2f_Y135sZmlsZQ==.jl:134\u001b[22m\n",
      "  Expression: did_I_answer_DQ1 == true\n",
      "   Evaluated: nothing == true\n",
      "\n",
      "Stacktrace:\n",
      " [1] \u001b[0m\u001b[1mmacro expansion\u001b[22m\n",
      "\u001b[90m   @\u001b[39m \u001b[90m~/.julia/juliaup/julia-1.12.1+0.aarch64.apple.darwin14/share/julia/stdlib/v1.12/Test/src/\u001b[39m\u001b[90m\u001b[4mTest.jl:680\u001b[24m\u001b[39m\u001b[90m [inlined]\u001b[39m\n",
      " [2] \u001b[0m\u001b[1mmacro expansion\u001b[22m\n",
      "\u001b[90m   @\u001b[39m \u001b[90m~/Documents/GitHub/ps3-5660-f25-H-janj/\u001b[39m\u001b[90m\u001b[4mjl_notebook_cell_df34fa98e69747e1a8f8a730347b8e2f_Y135sZmlsZQ==.jl:134\u001b[24m\u001b[39m\u001b[90m [inlined]\u001b[39m\n",
      " [3] \u001b[0m\u001b[1mmacro expansion\u001b[22m\n",
      "\u001b[90m   @\u001b[39m \u001b[90m~/.julia/juliaup/julia-1.12.1+0.aarch64.apple.darwin14/share/julia/stdlib/v1.12/Test/src/\u001b[39m\u001b[90m\u001b[4mTest.jl:1776\u001b[24m\u001b[39m\u001b[90m [inlined]\u001b[39m\n",
      " [4] \u001b[0m\u001b[1mmacro expansion\u001b[22m\n",
      "\u001b[90m   @\u001b[39m \u001b[90m~/Documents/GitHub/ps3-5660-f25-H-janj/\u001b[39m\u001b[90m\u001b[4mjl_notebook_cell_df34fa98e69747e1a8f8a730347b8e2f_Y135sZmlsZQ==.jl:131\u001b[24m\u001b[39m\u001b[90m [inlined]\u001b[39m\n",
      " [5] \u001b[0m\u001b[1mmacro expansion\u001b[22m\n",
      "\u001b[90m   @\u001b[39m \u001b[90m~/.julia/juliaup/julia-1.12.1+0.aarch64.apple.darwin14/share/julia/stdlib/v1.12/Test/src/\u001b[39m\u001b[90m\u001b[4mTest.jl:1776\u001b[24m\u001b[39m\u001b[90m [inlined]\u001b[39m\n",
      " [6] top-level scope\n",
      "\u001b[90m   @\u001b[39m \u001b[90m~/Documents/GitHub/ps3-5660-f25-H-janj/\u001b[39m\u001b[90m\u001b[4mjl_notebook_cell_df34fa98e69747e1a8f8a730347b8e2f_Y135sZmlsZQ==.jl:4\u001b[24m\u001b[39m\n",
      "Plot, Tables and DQs: \u001b[91m\u001b[1mTest Failed\u001b[22m\u001b[39m at \u001b[39m\u001b[1m/Users/haider/Documents/GitHub/ps3-5660-f25-H-janj/jl_notebook_cell_df34fa98e69747e1a8f8a730347b8e2f_Y135sZmlsZQ==.jl:135\u001b[22m\n",
      "  Expression: did_I_answer_DQ2 == true\n",
      "   Evaluated: nothing == true\n",
      "\n",
      "Stacktrace:\n",
      " [1] \u001b[0m\u001b[1mmacro expansion\u001b[22m\n",
      "\u001b[90m   @\u001b[39m \u001b[90m~/.julia/juliaup/julia-1.12.1+0.aarch64.apple.darwin14/share/julia/stdlib/v1.12/Test/src/\u001b[39m\u001b[90m\u001b[4mTest.jl:680\u001b[24m\u001b[39m\u001b[90m [inlined]\u001b[39m\n",
      " [2] \u001b[0m\u001b[1mmacro expansion\u001b[22m\n",
      "\u001b[90m   @\u001b[39m \u001b[90m~/Documents/GitHub/ps3-5660-f25-H-janj/\u001b[39m\u001b[90m\u001b[4mjl_notebook_cell_df34fa98e69747e1a8f8a730347b8e2f_Y135sZmlsZQ==.jl:135\u001b[24m\u001b[39m\u001b[90m [inlined]\u001b[39m\n",
      " [3] \u001b[0m\u001b[1mmacro expansion\u001b[22m\n",
      "\u001b[90m   @\u001b[39m \u001b[90m~/.julia/juliaup/julia-1.12.1+0.aarch64.apple.darwin14/share/julia/stdlib/v1.12/Test/src/\u001b[39m\u001b[90m\u001b[4mTest.jl:1776\u001b[24m\u001b[39m\u001b[90m [inlined]\u001b[39m\n",
      " [4] \u001b[0m\u001b[1mmacro expansion\u001b[22m\n",
      "\u001b[90m   @\u001b[39m \u001b[90m~/Documents/GitHub/ps3-5660-f25-H-janj/\u001b[39m\u001b[90m\u001b[4mjl_notebook_cell_df34fa98e69747e1a8f8a730347b8e2f_Y135sZmlsZQ==.jl:131\u001b[24m\u001b[39m\u001b[90m [inlined]\u001b[39m\n",
      " [5] \u001b[0m\u001b[1mmacro expansion\u001b[22m\n",
      "\u001b[90m   @\u001b[39m \u001b[90m~/.julia/juliaup/julia-1.12.1+0.aarch64.apple.darwin14/share/julia/stdlib/v1.12/Test/src/\u001b[39m\u001b[90m\u001b[4mTest.jl:1776\u001b[24m\u001b[39m\u001b[90m [inlined]\u001b[39m\n",
      " [6] top-level scope\n",
      "\u001b[90m   @\u001b[39m \u001b[90m~/Documents/GitHub/ps3-5660-f25-H-janj/\u001b[39m\u001b[90m\u001b[4mjl_notebook_cell_df34fa98e69747e1a8f8a730347b8e2f_Y135sZmlsZQ==.jl:4\u001b[24m\u001b[39m\n",
      "\u001b[0m\u001b[1mTest Summary:                                    | \u001b[22m\u001b[32m\u001b[1mPass  \u001b[22m\u001b[39m\u001b[91m\u001b[1mFail  \u001b[22m\u001b[39m\u001b[91m\u001b[1mError  \u001b[22m\u001b[39m\u001b[36m\u001b[1mTotal  \u001b[22m\u001b[39m\u001b[0m\u001b[1mTime\u001b[22m\n",
      "CHEME 5660 PS3 Test Suite                        | \u001b[32m 151  \u001b[39m\u001b[91m  11  \u001b[39m\u001b[91m   10  \u001b[39m\u001b[36m  172  \u001b[39m\u001b[0m0.1s\n",
      "  Task 1: Portfolio Statistics                   | \u001b[32m  10  \u001b[39m\u001b[91m      \u001b[39m\u001b[91m       \u001b[39m\u001b[36m   10  \u001b[39m\u001b[0m0.0s\n",
      "  Task 2: Efficient Frontier Computation         | \u001b[32m 125  \u001b[39m\u001b[91m      \u001b[39m\u001b[91m       \u001b[39m\u001b[36m  125  \u001b[39m\u001b[0m0.0s\n",
      "  Task 3: Cholesky Factorization                 | \u001b[32m   4  \u001b[39m\u001b[91m      \u001b[39m\u001b[91m       \u001b[39m\u001b[36m    4  \u001b[39m\u001b[0m0.0s\n",
      "  Task 3: Portfolio Selection and Initial Prices | \u001b[32m   6  \u001b[39m\u001b[91m   1  \u001b[39m\u001b[91m       \u001b[39m\u001b[36m    7  \u001b[39m\u001b[0m0.0s\n",
      "  Task 3: Share Calculations                     | \u001b[32m   2  \u001b[39m\u001b[91m   2  \u001b[39m\u001b[91m       \u001b[39m\u001b[36m    4  \u001b[39m\u001b[0m0.0s\n",
      "  Task 3: Multi-Asset GBM Model                  | \u001b[32m   1  \u001b[39m\u001b[91m   1  \u001b[39m\u001b[91m    3  \u001b[39m\u001b[36m    5  \u001b[39m\u001b[0m0.0s\n",
      "  Task 3: Simulated Wealth Array                 | \u001b[32m      \u001b[39m\u001b[91m   1  \u001b[39m\u001b[91m    4  \u001b[39m\u001b[36m    5  \u001b[39m\u001b[0m0.0s\n",
      "  Task 3: Actual Portfolio Performance           | \u001b[32m      \u001b[39m\u001b[91m   1  \u001b[39m\u001b[91m    3  \u001b[39m\u001b[36m    4  \u001b[39m\u001b[0m0.0s\n",
      "  Task 3: Benchmark Wealth Array                 | \u001b[32m   3  \u001b[39m\u001b[91m      \u001b[39m\u001b[91m       \u001b[39m\u001b[36m    3  \u001b[39m\u001b[0m0.0s\n",
      "  Plot, Tables and DQs                           | \u001b[32m      \u001b[39m\u001b[91m   5  \u001b[39m\u001b[91m       \u001b[39m\u001b[36m    5  \u001b[39m\u001b[0m0.0s\n",
      "RNG of the outermost testset: Random.Xoshiro(0x090f63d7ff0b2c9b, 0xed97ffce5ba259b0, 0xa4a6c259d4e9d97c, 0xe21b768d4675e49d, 0x37d96ce127bcb962)\n"
     ]
    },
    {
     "ename": "Test.TestSetException",
     "evalue": "Some tests did not pass: 151 passed, 11 failed, 10 errored, 0 broken.",
     "output_type": "error",
     "traceback": [
      "Some tests did not pass: 151 passed, 11 failed, 10 errored, 0 broken.\n",
      "\n",
      "Stacktrace:\n",
      " [1] finish(ts::Test.DefaultTestSet; print_results::Bool)\n",
      "   @ Test ~/.julia/juliaup/julia-1.12.1+0.aarch64.apple.darwin14/share/julia/stdlib/v1.12/Test/src/Test.jl:1270\n",
      " [2] finish(ts::Test.DefaultTestSet)\n",
      "   @ Test ~/.julia/juliaup/julia-1.12.1+0.aarch64.apple.darwin14/share/julia/stdlib/v1.12/Test/src/Test.jl:1245\n",
      " [3] macro expansion\n",
      "   @ ~/.julia/juliaup/julia-1.12.1+0.aarch64.apple.darwin14/share/julia/stdlib/v1.12/Test/src/Test.jl:1792 [inlined]\n",
      " [4] top-level scope\n",
      "   @ ~/Documents/GitHub/ps3-5660-f25-H-janj/jl_notebook_cell_df34fa98e69747e1a8f8a730347b8e2f_Y135sZmlsZQ==.jl:4"
     ]
    }
   ],
   "source": [
    "@testset verbose = true \"CHEME 5660 PS3 Test Suite\" begin\n",
    "\n",
    "    # Task 1 and Task 2 Tests (10 tests) -\n",
    "    @testset \"Task 1: Portfolio Statistics\" begin\n",
    "\n",
    "        @test isdefined(Main, :my_list_of_tickers) # my_list_of_tickers is not defined\n",
    "        @test typeof(my_list_of_tickers) == Vector{String} # my_list_of_tickers should be a Vector{String}\n",
    "        @test length(my_list_of_tickers) >= 3 # Portfolio should contain at least 3 assets\n",
    "\n",
    "        @test isdefined(Main, :μ̂) # Expected return vector μ̂ is not defined\n",
    "        @test length(μ̂) == length(my_list_of_tickers) # μ̂ length should match number of tickers\n",
    "\n",
    "        @test isdefined(Main, :Σ̂ᵣ) # Covariance matrix Σ̂ᵣ is not defined\n",
    "        @test size(Σ̂ᵣ, 1) == size(Σ̂ᵣ, 2) # Σ̂ᵣ should be square\n",
    "        @test size(Σ̂ᵣ, 1) == length(my_list_of_tickers) # Σ̂ᵣ dimensions should match number of tickers\n",
    "        @test isapprox(Σ̂ᵣ, transpose(Σ̂ᵣ), atol=1e-10) # Σ̂ᵣ should be symmetric\n",
    "        @test all(eigvals(Σ̂ᵣ) .>= -1e-10) # Σ̂ᵣ should be positive semi-definite\n",
    "    end\n",
    "    \n",
    "    @testset \"Task 2: Efficient Frontier Computation\" begin\n",
    "\n",
    "        @test isdefined(Main, :problem_risk) # problem_risk is not defined\n",
    "        @test isdefined(Main, :minimum_desired_reward_array) # minimum_desired_reward_array is not defined\n",
    "        @test length(minimum_desired_reward_array) > 0 # minimum_desired_reward_array should not be empty\n",
    "\n",
    "        @test isdefined(Main, :efficient_frontier) # efficient_frontier dictionary is not defined\n",
    "        @test typeof(efficient_frontier) <: Dict # efficient_frontier should be a Dictionary\n",
    "        @test length(efficient_frontier) > 0 # efficient_frontier should contain at least one solution\n",
    "\n",
    "        @test isdefined(Main, :results_array) # results_array is not defined\n",
    "        @test size(results_array, 2) == length(my_list_of_tickers) + 2 # results_array should have M+2 columns\n",
    "\n",
    "        # Check that portfolio weights sum to approximately 1\n",
    "        for i in 1:size(results_array, 1)\n",
    "            weights_sum = sum(results_array[i, 3:end])\n",
    "            @test isapprox(weights_sum, 1.0, atol=1e-3) # Portfolio weights should sum to 1 (row $i)\n",
    "        end\n",
    "        \n",
    "        # Check that risk values are non-negative\n",
    "        @test all(results_array[:, 1] .>= 0) # All risk values should be non-negative\n",
    "    end\n",
    "    \n",
    "    # Task 3 Tests (20 tests) -\n",
    "    @testset \"Task 3: Cholesky Factorization\" begin\n",
    "        \n",
    "        @test isdefined(Main, :A) # Cholesky factor A is not defined\n",
    "        @test size(A) == size(Σ̂ᵣ) # A should have same dimensions as Σ̂ᵣ\n",
    "        @test isapprox(A * transpose(A), Σ̂ᵣ, atol=1e-6) # A*A' should equal Σ̂ᵣ\n",
    "        @test all(diag(A) .>= 0) # Diagonal elements of A should be non-negative\n",
    "    end\n",
    "    \n",
    "    @testset \"Task 3: Portfolio Selection and Initial Prices\" begin\n",
    "\n",
    "        @test isdefined(Main, :w) # Portfolio weights w is not defined\n",
    "        @test length(w) == length(my_list_of_tickers) # w length should match number of tickers\n",
    "        @test all(w .>= 0) # All weights should be non-negative\n",
    "        @test isapprox(sum(w), 1.0, atol=1e-3) # Portfolio weights should sum to 1\n",
    "\n",
    "        @test isdefined(Main, :Sₒ) # Initial prices Sₒ is not defined\n",
    "        @test length(Sₒ) == length(my_list_of_tickers) # Sₒ length should match number of tickers\n",
    "        @test all(Sₒ .> 0) # All initial prices should be positive\n",
    "    end\n",
    "    \n",
    "    @testset \"Task 3: Share Calculations\" begin\n",
    "\n",
    "        @test isdefined(Main, :Nₒ) # Initial shares Nₒ is not defined\n",
    "        @test length(Nₒ) == length(my_list_of_tickers) # Nₒ length should match number of tickers\n",
    "        @test all(Nₒ .>= 0) # All share quantities should be non-negative\n",
    "\n",
    "        # Verify initial investment calculation\n",
    "        total_value = sum(Nₒ .* Sₒ)\n",
    "        @test isapprox(total_value, total_initial_investment, atol=1e-2) # Total initial investment should match budget\n",
    "        \n",
    "        # Check that shares align with weights\n",
    "        for i in eachindex(Nₒ)\n",
    "            expected_shares = (w[i] * total_initial_investment) / Sₒ[i]\n",
    "            @test isapprox(Nₒ[i], expected_shares, atol=1e-6) # Share calculation for asset $i should be correct\n",
    "        end\n",
    "    end\n",
    "    \n",
    "    @testset \"Task 3: Multi-Asset GBM Model\" begin\n",
    "\n",
    "        @test isdefined(Main, :multiasset_model) # GBM model is not defined\n",
    "        @test isdefined(Main, :simulation_dictionary) # simulation_dictionary is not defined\n",
    "        @test typeof(simulation_dictionary) <: Dict # simulation_dictionary should be a Dictionary\n",
    "        @test length(simulation_dictionary) > 0 # simulation_dictionary should contain at least one path\n",
    "\n",
    "        # Check structure of simulation data\n",
    "        first_sim = simulation_dictionary[1]\n",
    "        @test size(first_sim, 2) == length(my_list_of_tickers) + 1 # Each simulation should have time + M assets\n",
    "        @test all(first_sim[:, 2:end] .> 0) # All simulated prices should be positive\n",
    "    end\n",
    "    \n",
    "    @testset \"Task 3: Simulated Wealth Array\" begin\n",
    "\n",
    "        @test isdefined(Main, :simulated_wealth_array) # simulated_wealth_array is not defined\n",
    "        @test size(simulated_wealth_array, 1) > 0 # simulated_wealth_array should have rows\n",
    "        @test size(simulated_wealth_array, 2) > 0 # simulated_wealth_array should have columns (paths)\n",
    "        @test all(simulated_wealth_array .> 0) # All simulated wealth values should be positive\n",
    "\n",
    "        # Check initial wealth\n",
    "        initial_wealth = simulated_wealth_array[1, :]\n",
    "        @test all(isapprox.(initial_wealth, total_initial_investment, atol=1e-2)) # Initial wealth should match investment\n",
    "        \n",
    "        # Check that wealth varies across paths\n",
    "        final_wealth = simulated_wealth_array[end, :]\n",
    "        @test std(final_wealth) > 0 # Final wealth should vary across simulation paths\n",
    "    end\n",
    "    \n",
    "    @testset \"Task 3: Actual Portfolio Performance\" begin\n",
    "\n",
    "        @test isdefined(Main, :actual_portfolio_performance_array) # actual_portfolio_performance_array is not defined\n",
    "        @test size(actual_portfolio_performance_array, 1) > 0 # actual_portfolio_performance_array should have rows\n",
    "        @test size(actual_portfolio_performance_array, 2) == length(my_list_of_tickers) + 1 # Should have M+1 columns\n",
    "\n",
    "        # Verify total column is sum of individual assets\n",
    "        for i in 1:size(actual_portfolio_performance_array, 1)\n",
    "            calculated_total = sum(actual_portfolio_performance_array[i, 1:end-1])\n",
    "            @test isapprox(actual_portfolio_performance_array[i, end], calculated_total, atol=1e-6) # total should equal sum of assets (row $i)\n",
    "        end\n",
    "    end\n",
    "    \n",
    "    @testset \"Task 3: Benchmark Wealth Array\" begin\n",
    "\n",
    "        @test isdefined(Main, :benchmark_wealth_array) # benchmark_wealth_array is not defined\n",
    "        @test size(benchmark_wealth_array, 1) > 0 # benchmark_wealth_array should have rows\n",
    "        @test all(benchmark_wealth_array .> 0) # All benchmark wealth values should be positive\n",
    "    end\n",
    "\n",
    "    @testset \"Plot, Tables and DQs\" begin\n",
    "        @test do_I_see_minvar_plot == true # Did you see the minvar plot?\n",
    "        @test do_I_see_the_ticker_setup_table == true # Did you see the ticker setup table?\n",
    "        @test do_I_see_the_final_wealth_plot == true # Did you see the final wealth plot?\n",
    "        @test did_I_answer_DQ1 == true # Did you answer DQ1?\n",
    "        @test did_I_answer_DQ2 == true # Did you answer DQ2?\n",
    "    end\n",
    "end;"
   ]
  },
  {
   "cell_type": "markdown",
   "id": "88275cd4-1b38-4bbc-9880-b532360e6dd9",
   "metadata": {},
   "source": [
    "## Disclaimer and Risks\n",
    "\n",
    "__This content is offered solely for training and informational purposes__. No offer or solicitation to buy or sell securities or derivative products or any investment or trading advice or strategy is made, given, or endorsed by the teaching team.\n",
    "\n",
    "__Trading involves risk__. Carefully review your financial situation before investing in securities, futures contracts, options, or commodity interests. Past performance, whether actual or indicated by historical tests of strategies, is no guarantee of future performance or success. Trading is generally inappropriate for someone with limited resources, investment or trading experience, or a low-risk tolerance. Only risk capital that is not required for living expenses.\n",
    "\n",
    "__You are fully responsible for any investment or trading decisions you make__. Such decisions should be based solely on evaluating your financial circumstances, investment or trading objectives, risk tolerance, and liquidity needs."
   ]
  }
 ],
 "metadata": {
  "kernelspec": {
   "display_name": "Julia 1.12.1",
   "language": "julia",
   "name": "julia-1.12"
  },
  "language_info": {
   "file_extension": ".jl",
   "mimetype": "application/julia",
   "name": "julia",
   "version": "1.12.1"
  }
 },
 "nbformat": 4,
 "nbformat_minor": 5
}
